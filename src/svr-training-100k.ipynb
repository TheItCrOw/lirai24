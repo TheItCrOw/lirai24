{
 "cells": [
  {
   "cell_type": "markdown",
   "metadata": {},
   "source": [
    "# About\n",
    "\n",
    "Testing SVR Regression on Retrieval Task."
   ]
  },
  {
   "cell_type": "code",
   "execution_count": 55,
   "metadata": {},
   "outputs": [
    {
     "name": "stderr",
     "output_type": "stream",
     "text": [
      "/tmp/ipykernel_394318/1929859252.py:12: DeprecationWarning: Importing display from IPython.core.display is deprecated since IPython 7.14, please import from IPython display\n",
      "  from IPython.core.display import display, HTML\n"
     ]
    }
   ],
   "source": [
    "import numpy as np\n",
    "import pandas as pd\n",
    "import torch, torch.nn.functional as F\n",
    "import os\n",
    "import gc \n",
    "import seaborn as sns\n",
    "import matplotlib.pyplot as plt\n",
    "import pickle\n",
    "\n",
    "from sklearn.model_selection import train_test_split\n",
    "from scipy.spatial.distance import cdist\n",
    "from IPython.core.display import display, HTML\n",
    "from sklearn.manifold import TSNE\n",
    "from heapq import nlargest\n",
    "from io import StringIO\n",
    "from tqdm.auto import tqdm\n",
    "from transformers import AutoModel,AutoTokenizer\n",
    "from sklearn.svm import SVR\n",
    "from sklearn.metrics import accuracy_score, precision_score, recall_score, f1_score, mean_squared_error\n",
    "from sklearn.model_selection import train_test_split\n",
    "from cuml.svm import SVR as cumlSVR\n",
    "from cuml.preprocessing import StandardScaler as cumlStandardScaler\n",
    "from sklearn.utils.class_weight import compute_class_weight\n",
    "from sklearn.metrics import accuracy_score, confusion_matrix, classification_report"
   ]
  },
  {
   "cell_type": "code",
   "execution_count": 56,
   "metadata": {},
   "outputs": [
    {
     "name": "stdout",
     "output_type": "stream",
     "text": [
      "cuda\n",
      "[<torch.cuda.device object at 0x7f928a6cdab0>, <torch.cuda.device object at 0x7f928acacf70>]\n"
     ]
    }
   ],
   "source": [
    "pd.set_option('display.max_colwidth', None)  # None means unlimited width\n",
    "\n",
    "device = torch.device('cuda' if torch.cuda.is_available() else 'cpu')\n",
    "available_gpus = [torch.cuda.device(i) for i in range(torch.cuda.device_count())]\n",
    "print(device)\n",
    "print(available_gpus)"
   ]
  },
  {
   "cell_type": "code",
   "execution_count": 57,
   "metadata": {},
   "outputs": [],
   "source": [
    "class Config:\n",
    "    GERDALIR_PATH = './data/GerDaLIR/'\n",
    "    EMBEDDINGS_DIRECTORY = './data/embeddings/'\n",
    "    REMOVE_STOPWORDS = False\n",
    "    EPXLODE_SENTENCES = True\n",
    "    USE_TFIDF = False\n",
    "    CHUNK_QUERIES = True"
   ]
  },
  {
   "cell_type": "markdown",
   "metadata": {},
   "source": [
    "# Read Data"
   ]
  },
  {
   "cell_type": "code",
   "execution_count": 58,
   "metadata": {},
   "outputs": [],
   "source": [
    "def read_tsv(file_path):\n",
    "    data = []\n",
    "    with open(file_path, 'r', encoding='utf8') as file:\n",
    "        for line in file:\n",
    "            columns = line.strip().split('\\t')\n",
    "            # Concatenate columns from index 1 onwards (since we have some broken rows)\n",
    "            concatenated_value = ''.join(columns[1:])\n",
    "            data.append((columns[0], concatenated_value))\n",
    "\n",
    "    df = pd.DataFrame(data, columns=['id', 'value'])\n",
    "    return df"
   ]
  },
  {
   "cell_type": "code",
   "execution_count": 59,
   "metadata": {},
   "outputs": [],
   "source": [
    "collection = read_tsv(Config.GERDALIR_PATH + 'collection/collection.tsv').head(100000)\n",
    "collection.rename(columns={'id': 'd_id', 'value':'passage'}, inplace=True)\n",
    "collection.reset_index(inplace=True)\n",
    "\n",
    "rels = read_tsv(Config.GERDALIR_PATH + 'qrels/qrels.train.tsv')\n",
    "rels.rename(columns={'id': 'q_id', 'value': 'd_id'}, inplace=True)\n",
    "rels = rels[rels['d_id'].isin(collection['d_id'].values)] # This can be deleted once we work with all\n",
    "rels.reset_index(inplace=True)\n",
    "\n",
    "queries = read_tsv(Config.GERDALIR_PATH + 'queries/queries.train.tsv')\n",
    "queries.rename(columns={'id': 'q_id', 'value': 'query'}, inplace=True)\n",
    "queries = queries[queries['q_id'].isin(rels['q_id'].values)] # This can be deleted once we work with all\n",
    "queries.reset_index(inplace=True)"
   ]
  },
  {
   "cell_type": "code",
   "execution_count": 60,
   "metadata": {},
   "outputs": [
    {
     "data": {
      "text/html": [
       "<div>\n",
       "<style scoped>\n",
       "    .dataframe tbody tr th:only-of-type {\n",
       "        vertical-align: middle;\n",
       "    }\n",
       "\n",
       "    .dataframe tbody tr th {\n",
       "        vertical-align: top;\n",
       "    }\n",
       "\n",
       "    .dataframe thead th {\n",
       "        text-align: right;\n",
       "    }\n",
       "</style>\n",
       "<table border=\"1\" class=\"dataframe\">\n",
       "  <thead>\n",
       "    <tr style=\"text-align: right;\">\n",
       "      <th></th>\n",
       "      <th>index</th>\n",
       "      <th>q_id</th>\n",
       "      <th>query</th>\n",
       "    </tr>\n",
       "  </thead>\n",
       "  <tbody>\n",
       "    <tr>\n",
       "      <th>0</th>\n",
       "      <td>3</td>\n",
       "      <td>5</td>\n",
       "      <td>Die streitgegenständliche Satzung gibt nicht die Rechtsvorschriften an, welche zum Erlass der Satzung berechtigen, [REF] . Dies ist aber insbesondere bei belastenden Eingriffen wie der Abgabenerhebung erforderlich . Die Exekutive muss durch Angabe ihrer Ermächtigungsgrundlage sich selbst des ihr aufgegebenen Normsetzungsprogramms vergewissern und hat sich auf dieses zu beschränken. Es kommt daher nicht nur darauf an, ob sie sich überhaupt im Rahmen der delegierten Rechtssetzungsgewalt bewegt, vielmehr muss sich die in Anspruch genommene Rechtssetzungsbefugnis gerade aus den von ihr selbst angeführten Vorschriften ergeben. Außerdem dient das Zitiergebot der Offenlegung des Ermächtigungsrahmens gegenüber dem Adressaten der Satzung. Das soll ihm die Kontrolle ermöglichen, ob die Satzung mit dem ermächtigenden Gesetz übereinstimmt .</td>\n",
       "    </tr>\n",
       "    <tr>\n",
       "      <th>1</th>\n",
       "      <td>4</td>\n",
       "      <td>6</td>\n",
       "      <td>Insofern gehört zur zutreffenden Angabe der zum Erlass der Satzung berechtigenden Rechtsvorschriften im Sinne des [REF] nicht nur die genaue Angabe der zur Erhebung der Abgabe berechtigenden Norm des Kommunalabgabengesetzes, sondern bei kommunalen Abgaben auch deren nach dieser Norm namentlich zutreffende Bezeichnung . Berechtigt eine Norm zur Erhebung unterschiedlicher Abgaben wie zur Erhebung der Kurabgabe und der Tourismusabgabe , so gehört zur genauen Bezeichnung der zum Erlass der Satzung berechtigenden Rechtsvorschriften im Sinne des [REF] auch die Nennung des zutreffenden Absatzes bzw. der zutreffenden Absätze der Norm, gegebenenfalls einschließlich des dazugehörenden Satzes oder der dazugehörenden Sätze, die zur Erhebung der gewählten Abgabe berechtigen</td>\n",
       "    </tr>\n",
       "  </tbody>\n",
       "</table>\n",
       "</div>"
      ],
      "text/plain": [
       "   index q_id  \\\n",
       "0      3    5   \n",
       "1      4    6   \n",
       "\n",
       "                                                                                                                                                                                                                                                                                                                                                                                                                                                                                                                                                                                                                                                                                                                                                                                                                                                                      query  \n",
       "0  Die streitgegenständliche Satzung gibt nicht die Rechtsvorschriften an, welche zum Erlass der Satzung berechtigen, [REF] . Dies ist aber insbesondere bei belastenden Eingriffen wie der Abgabenerhebung erforderlich . Die Exekutive muss durch Angabe ihrer Ermächtigungsgrundlage sich selbst des ihr aufgegebenen Normsetzungsprogramms vergewissern und hat sich auf dieses zu beschränken. Es kommt daher nicht nur darauf an, ob sie sich überhaupt im Rahmen der delegierten Rechtssetzungsgewalt bewegt, vielmehr muss sich die in Anspruch genommene Rechtssetzungsbefugnis gerade aus den von ihr selbst angeführten Vorschriften ergeben. Außerdem dient das Zitiergebot der Offenlegung des Ermächtigungsrahmens gegenüber dem Adressaten der Satzung. Das soll ihm die Kontrolle ermöglichen, ob die Satzung mit dem ermächtigenden Gesetz übereinstimmt .  \n",
       "1                                                                       Insofern gehört zur zutreffenden Angabe der zum Erlass der Satzung berechtigenden Rechtsvorschriften im Sinne des [REF] nicht nur die genaue Angabe der zur Erhebung der Abgabe berechtigenden Norm des Kommunalabgabengesetzes, sondern bei kommunalen Abgaben auch deren nach dieser Norm namentlich zutreffende Bezeichnung . Berechtigt eine Norm zur Erhebung unterschiedlicher Abgaben wie zur Erhebung der Kurabgabe und der Tourismusabgabe , so gehört zur genauen Bezeichnung der zum Erlass der Satzung berechtigenden Rechtsvorschriften im Sinne des [REF] auch die Nennung des zutreffenden Absatzes bzw. der zutreffenden Absätze der Norm, gegebenenfalls einschließlich des dazugehörenden Satzes oder der dazugehörenden Sätze, die zur Erhebung der gewählten Abgabe berechtigen  "
      ]
     },
     "metadata": {},
     "output_type": "display_data"
    },
    {
     "data": {
      "text/plain": [
       "606"
      ]
     },
     "metadata": {},
     "output_type": "display_data"
    },
    {
     "data": {
      "text/html": [
       "<div>\n",
       "<style scoped>\n",
       "    .dataframe tbody tr th:only-of-type {\n",
       "        vertical-align: middle;\n",
       "    }\n",
       "\n",
       "    .dataframe tbody tr th {\n",
       "        vertical-align: top;\n",
       "    }\n",
       "\n",
       "    .dataframe thead th {\n",
       "        text-align: right;\n",
       "    }\n",
       "</style>\n",
       "<table border=\"1\" class=\"dataframe\">\n",
       "  <thead>\n",
       "    <tr style=\"text-align: right;\">\n",
       "      <th></th>\n",
       "      <th>index</th>\n",
       "      <th>d_id</th>\n",
       "      <th>passage</th>\n",
       "    </tr>\n",
       "  </thead>\n",
       "  <tbody>\n",
       "    <tr>\n",
       "      <th>0</th>\n",
       "      <td>0</td>\n",
       "      <td>1</td>\n",
       "      <td>Tenor Der Antrag der Klägerin auf Zulassung der Berufung gegen das Urteil des Verwaltungsgerichts Gelsenkirchen vom [DATE] wird abgelehnt. Die Klägerin trägt die Kosten des Zulassungsverfahrens. Der Streitwert wird auch für das Zulassungsverfahren auf 0 Euro festgesetzt. Gründe:</td>\n",
       "    </tr>\n",
       "    <tr>\n",
       "      <th>1</th>\n",
       "      <td>1</td>\n",
       "      <td>1</td>\n",
       "      <td>Das Zulassungsvorbringen der Klägerin begründet keine ernstlichen Zweifel an der Richtigkeit des angefochtenen Urteils . Zweifel in diesem Sinn sind anzunehmen, wenn ein einzelner tragender Rechtssatz oder eine einzelne erhebliche Tatsachenfeststellung des Verwaltungsgerichts mit schlüssigen Gegenargumenten in Frage gestellt werden.</td>\n",
       "    </tr>\n",
       "  </tbody>\n",
       "</table>\n",
       "</div>"
      ],
      "text/plain": [
       "   index d_id  \\\n",
       "0      0    1   \n",
       "1      1    1   \n",
       "\n",
       "                                                                                                                                                                                                                                                                                                                                          passage  \n",
       "0                                                         Tenor Der Antrag der Klägerin auf Zulassung der Berufung gegen das Urteil des Verwaltungsgerichts Gelsenkirchen vom [DATE] wird abgelehnt. Die Klägerin trägt die Kosten des Zulassungsverfahrens. Der Streitwert wird auch für das Zulassungsverfahren auf 0 Euro festgesetzt. Gründe:  \n",
       "1  Das Zulassungsvorbringen der Klägerin begründet keine ernstlichen Zweifel an der Richtigkeit des angefochtenen Urteils . Zweifel in diesem Sinn sind anzunehmen, wenn ein einzelner tragender Rechtssatz oder eine einzelne erhebliche Tatsachenfeststellung des Verwaltungsgerichts mit schlüssigen Gegenargumenten in Frage gestellt werden.  "
      ]
     },
     "metadata": {},
     "output_type": "display_data"
    },
    {
     "data": {
      "text/plain": [
       "100000"
      ]
     },
     "metadata": {},
     "output_type": "display_data"
    },
    {
     "data": {
      "text/html": [
       "<div>\n",
       "<style scoped>\n",
       "    .dataframe tbody tr th:only-of-type {\n",
       "        vertical-align: middle;\n",
       "    }\n",
       "\n",
       "    .dataframe tbody tr th {\n",
       "        vertical-align: top;\n",
       "    }\n",
       "\n",
       "    .dataframe thead th {\n",
       "        text-align: right;\n",
       "    }\n",
       "</style>\n",
       "<table border=\"1\" class=\"dataframe\">\n",
       "  <thead>\n",
       "    <tr style=\"text-align: right;\">\n",
       "      <th></th>\n",
       "      <th>index</th>\n",
       "      <th>q_id</th>\n",
       "      <th>d_id</th>\n",
       "    </tr>\n",
       "  </thead>\n",
       "  <tbody>\n",
       "    <tr>\n",
       "      <th>0</th>\n",
       "      <td>5</td>\n",
       "      <td>5</td>\n",
       "      <td>2364</td>\n",
       "    </tr>\n",
       "    <tr>\n",
       "      <th>1</th>\n",
       "      <td>6</td>\n",
       "      <td>6</td>\n",
       "      <td>2364</td>\n",
       "    </tr>\n",
       "  </tbody>\n",
       "</table>\n",
       "</div>"
      ],
      "text/plain": [
       "   index q_id  d_id\n",
       "0      5    5  2364\n",
       "1      6    6  2364"
      ]
     },
     "metadata": {},
     "output_type": "display_data"
    },
    {
     "data": {
      "text/plain": [
       "663"
      ]
     },
     "metadata": {},
     "output_type": "display_data"
    }
   ],
   "source": [
    "display(queries.head(2))\n",
    "display(len(queries))\n",
    "\n",
    "display(collection.head(2))\n",
    "display(len(collection))\n",
    "\n",
    "display(rels.head(2))\n",
    "display(len(rels))"
   ]
  },
  {
   "cell_type": "markdown",
   "metadata": {},
   "source": [
    "# Postprocess"
   ]
  },
  {
   "cell_type": "code",
   "execution_count": 61,
   "metadata": {},
   "outputs": [],
   "source": [
    "def chunk_string_with_overlap(s, k, overlap):\n",
    "    if k <= 0:\n",
    "        raise ValueError(\"Chunk length must be greater than 0\")\n",
    "    if overlap < 0:\n",
    "        raise ValueError(\"Overlap must be non-negative\")\n",
    "    if overlap >= k:\n",
    "        raise ValueError(\"Overlap must be less than chunk length\")\n",
    "    \n",
    "    chunks = []\n",
    "    for i in range(0, len(s), k - overlap):\n",
    "        chunk = s[i:i + k]\n",
    "        chunks.append(chunk)\n",
    "        if len(chunk) < k:\n",
    "            break\n",
    "    \n",
    "    return chunks"
   ]
  },
  {
   "cell_type": "markdown",
   "metadata": {},
   "source": [
    "Average length of queries:"
   ]
  },
  {
   "cell_type": "code",
   "execution_count": 62,
   "metadata": {},
   "outputs": [
    {
     "name": "stdout",
     "output_type": "stream",
     "text": [
      "131.1204620462046\n",
      "1004.4438943894389\n"
     ]
    }
   ],
   "source": [
    "print(queries['query'].apply(lambda x: len(x.split())).mean())\n",
    "print(queries['query'].apply(lambda x: len(x)).mean())"
   ]
  },
  {
   "cell_type": "code",
   "execution_count": 63,
   "metadata": {},
   "outputs": [
    {
     "data": {
      "text/html": [
       "<div>\n",
       "<style scoped>\n",
       "    .dataframe tbody tr th:only-of-type {\n",
       "        vertical-align: middle;\n",
       "    }\n",
       "\n",
       "    .dataframe tbody tr th {\n",
       "        vertical-align: top;\n",
       "    }\n",
       "\n",
       "    .dataframe thead th {\n",
       "        text-align: right;\n",
       "    }\n",
       "</style>\n",
       "<table border=\"1\" class=\"dataframe\">\n",
       "  <thead>\n",
       "    <tr style=\"text-align: right;\">\n",
       "      <th></th>\n",
       "      <th>index</th>\n",
       "      <th>q_id</th>\n",
       "      <th>query</th>\n",
       "    </tr>\n",
       "  </thead>\n",
       "  <tbody>\n",
       "    <tr>\n",
       "      <th>0</th>\n",
       "      <td>3</td>\n",
       "      <td>5</td>\n",
       "      <td>Die streitgegenständliche Satzung gibt nicht die Rechtsvorschriften an, welche zum Erlass der Satzung berechtigen, [REF] . Dies ist aber insbesondere bei belastenden Eingriffen wie der Abgabenerhebung erforderlich . Die Exekutive muss durch Angabe ihrer Ermächtigungsgrundlag</td>\n",
       "    </tr>\n",
       "    <tr>\n",
       "      <th>1</th>\n",
       "      <td>3</td>\n",
       "      <td>5</td>\n",
       "      <td>tigungsgrundlage sich selbst des ihr aufgegebenen Normsetzungsprogramms vergewissern und hat sich auf dieses zu beschränken. Es kommt daher nicht nur darauf an, ob sie sich überhaupt im Rahmen der delegierten Rechtssetzungsgewalt bewegt, vielmehr muss sich die in Anspruch ge</td>\n",
       "    </tr>\n",
       "    <tr>\n",
       "      <th>2</th>\n",
       "      <td>3</td>\n",
       "      <td>5</td>\n",
       "      <td>in Anspruch genommene Rechtssetzungsbefugnis gerade aus den von ihr selbst angeführten Vorschriften ergeben. Außerdem dient das Zitiergebot der Offenlegung des Ermächtigungsrahmens gegenüber dem Adressaten der Satzung. Das soll ihm die Kontrolle ermöglichen, ob die Satzung</td>\n",
       "    </tr>\n",
       "    <tr>\n",
       "      <th>3</th>\n",
       "      <td>3</td>\n",
       "      <td>5</td>\n",
       "      <td>ob die Satzung mit dem ermächtigenden Gesetz übereinstimmt .</td>\n",
       "    </tr>\n",
       "    <tr>\n",
       "      <th>4</th>\n",
       "      <td>4</td>\n",
       "      <td>6</td>\n",
       "      <td>Insofern gehört zur zutreffenden Angabe der zum Erlass der Satzung berechtigenden Rechtsvorschriften im Sinne des [REF] nicht nur die genaue Angabe der zur Erhebung der Abgabe berechtigenden Norm des Kommunalabgabengesetzes, sondern bei kommunalen Abgaben auch deren nach die</td>\n",
       "    </tr>\n",
       "    <tr>\n",
       "      <th>5</th>\n",
       "      <td>4</td>\n",
       "      <td>6</td>\n",
       "      <td>deren nach dieser Norm namentlich zutreffende Bezeichnung . Berechtigt eine Norm zur Erhebung unterschiedlicher Abgaben wie zur Erhebung der Kurabgabe und der Tourismusabgabe , so gehört zur genauen Bezeichnung der zum Erlass der Satzung berechtigenden Rechtsvorschriften im</td>\n",
       "    </tr>\n",
       "    <tr>\n",
       "      <th>6</th>\n",
       "      <td>4</td>\n",
       "      <td>6</td>\n",
       "      <td>vorschriften im Sinne des [REF] auch die Nennung des zutreffenden Absatzes bzw. der zutreffenden Absätze der Norm, gegebenenfalls einschließlich des dazugehörenden Satzes oder der dazugehörenden Sätze, die zur Erhebung der gewählten Abgabe berechtigen</td>\n",
       "    </tr>\n",
       "    <tr>\n",
       "      <th>7</th>\n",
       "      <td>5</td>\n",
       "      <td>7</td>\n",
       "      <td>[REF] , juris, Rn. 0). Bei einer Übertragung einer gemeindlichen Selbstverwaltungsaufgabe sind zudem die Rechtsvorschriften zu nennen, die dazu berechtigen die zur Gebührenerhebung berechtigende Aufgabe und die dazugehörige Satzungsbefugnis zu übertragen .</td>\n",
       "    </tr>\n",
       "    <tr>\n",
       "      <th>8</th>\n",
       "      <td>6</td>\n",
       "      <td>9</td>\n",
       "      <td>Aus [REF] ergibt sich, dass u.a. Ämter in Erfüllung ihrer Selbstverwaltungsaufgaben um eine solche handelt es sich hier, da sich der Charakter der Aufgabe durch den Übergang nicht ändert kommunale Abgaben erheben können. Die Vorschrift ist auch absatzgetreu zu zitieren, da d</td>\n",
       "    </tr>\n",
       "    <tr>\n",
       "      <th>9</th>\n",
       "      <td>6</td>\n",
       "      <td>9</td>\n",
       "      <td>zitieren, da die Norm hinsichtlich der zur Abgabenerhebung berechtigten Körperschaft des öffentlichen Rechts in den Absätzen 0 und 0 differenziert .</td>\n",
       "    </tr>\n",
       "  </tbody>\n",
       "</table>\n",
       "</div>"
      ],
      "text/plain": [
       "   index q_id  \\\n",
       "0      3    5   \n",
       "1      3    5   \n",
       "2      3    5   \n",
       "3      3    5   \n",
       "4      4    6   \n",
       "5      4    6   \n",
       "6      4    6   \n",
       "7      5    7   \n",
       "8      6    9   \n",
       "9      6    9   \n",
       "\n",
       "                                                                                                                                                                                                                                                                                 query  \n",
       "0  Die streitgegenständliche Satzung gibt nicht die Rechtsvorschriften an, welche zum Erlass der Satzung berechtigen, [REF] . Dies ist aber insbesondere bei belastenden Eingriffen wie der Abgabenerhebung erforderlich . Die Exekutive muss durch Angabe ihrer Ermächtigungsgrundlag  \n",
       "1  tigungsgrundlage sich selbst des ihr aufgegebenen Normsetzungsprogramms vergewissern und hat sich auf dieses zu beschränken. Es kommt daher nicht nur darauf an, ob sie sich überhaupt im Rahmen der delegierten Rechtssetzungsgewalt bewegt, vielmehr muss sich die in Anspruch ge  \n",
       "2   in Anspruch genommene Rechtssetzungsbefugnis gerade aus den von ihr selbst angeführten Vorschriften ergeben. Außerdem dient das Zitiergebot der Offenlegung des Ermächtigungsrahmens gegenüber dem Adressaten der Satzung. Das soll ihm die Kontrolle ermöglichen, ob die Satzung   \n",
       "3                                                                                                                                                                                                                         ob die Satzung mit dem ermächtigenden Gesetz übereinstimmt .  \n",
       "4  Insofern gehört zur zutreffenden Angabe der zum Erlass der Satzung berechtigenden Rechtsvorschriften im Sinne des [REF] nicht nur die genaue Angabe der zur Erhebung der Abgabe berechtigenden Norm des Kommunalabgabengesetzes, sondern bei kommunalen Abgaben auch deren nach die  \n",
       "5   deren nach dieser Norm namentlich zutreffende Bezeichnung . Berechtigt eine Norm zur Erhebung unterschiedlicher Abgaben wie zur Erhebung der Kurabgabe und der Tourismusabgabe , so gehört zur genauen Bezeichnung der zum Erlass der Satzung berechtigenden Rechtsvorschriften im  \n",
       "6                          vorschriften im Sinne des [REF] auch die Nennung des zutreffenden Absatzes bzw. der zutreffenden Absätze der Norm, gegebenenfalls einschließlich des dazugehörenden Satzes oder der dazugehörenden Sätze, die zur Erhebung der gewählten Abgabe berechtigen  \n",
       "7                     [REF] , juris, Rn. 0). Bei einer Übertragung einer gemeindlichen Selbstverwaltungsaufgabe sind zudem die Rechtsvorschriften zu nennen, die dazu berechtigen die zur Gebührenerhebung berechtigende Aufgabe und die dazugehörige Satzungsbefugnis zu übertragen .  \n",
       "8  Aus [REF] ergibt sich, dass u.a. Ämter in Erfüllung ihrer Selbstverwaltungsaufgaben um eine solche handelt es sich hier, da sich der Charakter der Aufgabe durch den Übergang nicht ändert kommunale Abgaben erheben können. Die Vorschrift ist auch absatzgetreu zu zitieren, da d  \n",
       "9                                                                                                                                 zitieren, da die Norm hinsichtlich der zur Abgabenerhebung berechtigten Körperschaft des öffentlichen Rechts in den Absätzen 0 und 0 differenziert .  "
      ]
     },
     "metadata": {},
     "output_type": "display_data"
    },
    {
     "name": "stdout",
     "output_type": "stream",
     "text": [
      "2608\n"
     ]
    }
   ],
   "source": [
    "if(Config.CHUNK_QUERIES):\n",
    "    queries['query'] = queries['query'].apply(lambda q: chunk_string_with_overlap(q, 275, 15))\n",
    "    queries = queries.explode('query').reset_index(drop=True)\n",
    "    display(queries.head(10))\n",
    "    print(len(queries))"
   ]
  },
  {
   "cell_type": "markdown",
   "metadata": {},
   "source": [
    "# Embeddings"
   ]
  },
  {
   "cell_type": "code",
   "execution_count": 64,
   "metadata": {},
   "outputs": [],
   "source": [
    "def mean_pooling(model_output, attention_mask):\n",
    "    token_embeddings = model_output.last_hidden_state.detach().cpu()\n",
    "    input_mask_expanded = (\n",
    "        attention_mask.unsqueeze(-1).expand(token_embeddings.size()).float()\n",
    "    )\n",
    "    return torch.sum(token_embeddings * input_mask_expanded, 1) / torch.clamp(\n",
    "        input_mask_expanded.sum(1), min=1e-9\n",
    "    )"
   ]
  },
  {
   "cell_type": "code",
   "execution_count": 65,
   "metadata": {},
   "outputs": [],
   "source": [
    "class EmbedDataset(torch.utils.data.Dataset):\n",
    "    def __init__(self, df, tokenizer, max_length, text_col):\n",
    "        self.df = df.reset_index(drop=True)\n",
    "        self.tokenizer = tokenizer\n",
    "        self.text_col = text_col\n",
    "        self.max = max_length\n",
    "\n",
    "    def __len__(self):\n",
    "        return len(self.df)\n",
    "    \n",
    "    def __getitem__(self, idx):\n",
    "        text = self.df.loc[idx, self.text_col]\n",
    "        tokens = self.tokenizer(\n",
    "                text,\n",
    "                None,\n",
    "                add_special_tokens=True,\n",
    "                padding='max_length',\n",
    "                truncation=True,\n",
    "                max_length=self.max,\n",
    "                return_tensors=\"pt\")\n",
    "        tokens = {k:v.squeeze(0) for k,v in tokens.items()}\n",
    "        return tokens"
   ]
  },
  {
   "cell_type": "code",
   "execution_count": 66,
   "metadata": {},
   "outputs": [],
   "source": [
    "class EmbedderContainer:\n",
    "\n",
    "    def __init__(self, model_name, max_length, batch_size, device):\n",
    "        self.device = device\n",
    "        self.model_name = model_name\n",
    "        self.__model_path = model_name\n",
    "        self.__max_length = max_length\n",
    "        self.__batch_size = batch_size\n",
    "\n",
    "    def init_model(self):\n",
    "        self.__model = AutoModel.from_pretrained(self.__model_path, trust_remote_code=True).to(self.device)  #force_download=True\n",
    "        self.__model.eval()\n",
    "        self.__tokenizer = AutoTokenizer.from_pretrained(self.__model_path, trust_remote_code=True)  #force_download=True\n",
    "\n",
    "    def init_embed_dataset(self, df, text_col):\n",
    "        self.__dataset = EmbedDataset(df, self.__tokenizer, self.__max_length, text_col)\n",
    "        self.__embed_dataloader = torch.utils.data.DataLoader(self.__dataset,\n",
    "                                batch_size=self.__batch_size,\n",
    "                                shuffle=False)\n",
    "        return self.__embed_dataloader\n",
    "\n",
    "    def embed(self, input_ids, attention_mask):\n",
    "        return self.__model(input_ids=input_ids, attention_mask=attention_mask)\n",
    "\n",
    "    def dispose(self):\n",
    "        if hasattr(self, '__dataset'):\n",
    "            del self.__dataset\n",
    "        if hasattr(self, '__embed_dataloader'):\n",
    "            del self.__embed_dataloader\n",
    "        if hasattr(self, '__model'):\n",
    "            del self.__model\n",
    "        if hasattr(self, '__tokenizer'):\n",
    "            del self.__tokenizer\n",
    "        gc.collect()\n",
    "        torch.cuda.empty_cache()\n",
    "    "
   ]
  },
  {
   "cell_type": "code",
   "execution_count": 67,
   "metadata": {},
   "outputs": [],
   "source": [
    "def get_embeddings(embedding_container, compute_collection=True, compute_queries=False):\n",
    "\n",
    "    global collection, queries\n",
    "    embedding_container.init_model()\n",
    "\n",
    "    # COMPUTE COLLECTION EMBEDDINGS\n",
    "    all_collection_embeddings = []\n",
    "    if compute_collection:\n",
    "        # Create dataset for collection\n",
    "        embed_dataloader_tr = embedding_container.init_embed_dataset(collection, 'passage')\n",
    "        for batch in tqdm(embed_dataloader_tr,total=len(embed_dataloader_tr)):\n",
    "            input_ids = batch[\"input_ids\"].to(embedding_container.device)\n",
    "            attention_mask = batch[\"attention_mask\"].to(embedding_container.device)\n",
    "            with torch.no_grad():\n",
    "                with torch.cuda.amp.autocast(enabled=True):\n",
    "                    model_output = embedding_container.embed(input_ids, attention_mask)\n",
    "\n",
    "            sentence_embeddings = mean_pooling(model_output, attention_mask.detach().cpu())\n",
    "            # Normalize the embeddings\n",
    "            sentence_embeddings = F.normalize(sentence_embeddings, p=2, dim=1)\n",
    "            sentence_embeddings =  sentence_embeddings.squeeze(0).detach().cpu().numpy()\n",
    "            all_collection_embeddings.extend(sentence_embeddings)\n",
    "    all_collection_embeddings = np.array(all_collection_embeddings)\n",
    "\n",
    "    # COMPUTE QUERY EMBEDDINGS\n",
    "    all_query_embeddings = []\n",
    "    if compute_queries:\n",
    "        # Create dataset for query\n",
    "        embed_dataloader_te = embedding_container.init_embed_dataset(queries, 'query')\n",
    "        for batch in embed_dataloader_te:\n",
    "            input_ids = batch[\"input_ids\"].to(embedding_container.device)\n",
    "            attention_mask = batch[\"attention_mask\"].to(embedding_container.device)\n",
    "            with torch.no_grad():\n",
    "                with torch.cuda.amp.autocast(enabled=True):\n",
    "                    model_output = embedding_container.embed(input_ids, attention_mask)\n",
    "            sentence_embeddings = mean_pooling(model_output, attention_mask.detach().cpu())\n",
    "            # Normalize the embeddings\n",
    "            sentence_embeddings = F.normalize(sentence_embeddings, p=2, dim=1)\n",
    "            sentence_embeddings =  sentence_embeddings.squeeze(0).detach().cpu().numpy()\n",
    "            all_query_embeddings.extend(sentence_embeddings)\n",
    "    all_query_embeddings = np.array(all_query_embeddings)\n",
    "\n",
    "    # DISPOSE\n",
    "    if 'model_output' in locals():\n",
    "        del model_output\n",
    "    if 'sentence_embeddings' in locals():\n",
    "        del sentence_embeddings\n",
    "    if 'input_ids' in locals():\n",
    "        del input_ids\n",
    "    if 'attention_mask' in locals():\n",
    "        del attention_mask\n",
    "    embedding_container.dispose()\n",
    "\n",
    "    # RETURN EMBEDDINGS\n",
    "    return all_collection_embeddings, all_query_embeddings"
   ]
  },
  {
   "cell_type": "markdown",
   "metadata": {},
   "source": [
    "### Possible Embedding Models"
   ]
  },
  {
   "cell_type": "code",
   "execution_count": 68,
   "metadata": {},
   "outputs": [],
   "source": [
    "DEVICE = \"cuda:1\" # We want to extract embeddings on the second GPU.\n",
    "\n",
    "container = [\n",
    "    #EmbedderContainer('microsoft/deberta-base', 1024, 32, DEVICE),\n",
    "    #EmbedderContainer('microsoft/deberta-large', 1024, 8, DEVICE),\n",
    "    #EmbedderContainer('microsoft/deberta-v3-large', 1024, 8, DEVICE),\n",
    "    EmbedderContainer('allenai/longformer-base-4096', 1024, 32, DEVICE),\n",
    "    #EmbedderContainer('LennartKeller/longformer-gottbert-base-8192-aw512', 1024, 32, DEVICE),\n",
    "    #EmbedderContainer('allenai/longformer-large-4096', 1024, 8, DEVICE),\n",
    "    #EmbedderContainer('google/bigbird-roberta-base', 1024, 32, DEVICE),\n",
    "    #EmbedderContainer('google/bigbird-roberta-large', 1024, 8, DEVICE),\n",
    "\n",
    "    # Sentence Transformers fine-tuned for sentence embeddings:\n",
    "    # EmbedderContainer('sentence-transformers/all-distilroberta-v1', 512, 32, DEVICE), # https://huggingface.co/sentence-transformers/all-distilroberta-v1\n",
    "    # EmbedderContainer('sentence-transformers/msmarco-distilbert-base-v4', 512, 32, DEVICE), # https://huggingface.co/sentence-transformers/msmarco-distilbert-base-v4\n",
    "    #EmbedderContainer('sentence-transformers/all-MiniLM-L6-v2', 384, 64, DEVICE), # https://huggingface.co/sentence-transformers/all-MiniLM-L6-v2\n",
    "]"
   ]
  },
  {
   "cell_type": "markdown",
   "metadata": {},
   "source": [
    "### Generate Embeddings"
   ]
  },
  {
   "cell_type": "code",
   "execution_count": 69,
   "metadata": {},
   "outputs": [
    {
     "name": "stdout",
     "output_type": "stream",
     "text": [
      "Loading embeddings for ./data/embeddings/collection_allenai_longformer-base-4096.npy\n"
     ]
    },
    {
     "name": "stderr",
     "output_type": "stream",
     "text": [
      "/home/staff_homes/kboenisc/miniconda3/envs/rapids-24.06/lib/python3.10/site-packages/huggingface_hub/file_download.py:1132: FutureWarning: `resume_download` is deprecated and will be removed in version 1.0.0. Downloads always resume when possible. If you want to force a new download, use `force_download=True`.\n",
      "  warnings.warn(\n"
     ]
    }
   ],
   "source": [
    "all_collection_embeds = []\n",
    "all_query_embeds = []\n",
    "\n",
    "for embedding_container in container:\n",
    "    name = (Config.EMBEDDINGS_DIRECTORY + \n",
    "            'collection_' + \n",
    "            embedding_container.model_name.replace(\"/\", \"_\") + \n",
    "            \".npy\")\n",
    "    \n",
    "    if os.path.exists(name):\n",
    "        print(f\"Loading embeddings for {name}\")\n",
    "        _, query_embed = get_embeddings(embedding_container, compute_collection=False, compute_queries=True)\n",
    "        collection_embed = np.load(name)\n",
    "    else:\n",
    "        print(f\"Computing embeddings for {name}\") \n",
    "        collection_embed, query_embed = get_embeddings(embedding_container, compute_collection=True, compute_queries=True)\n",
    "        np.save(name, collection_embed)\n",
    "    all_collection_embeds.append(collection_embed)\n",
    "    all_query_embeds.append(query_embed)\n",
    "\n",
    "del collection_embed, query_embed"
   ]
  },
  {
   "cell_type": "code",
   "execution_count": 70,
   "metadata": {},
   "outputs": [],
   "source": [
    "all_collection_embeds = np.concatenate(all_collection_embeds,axis=1)\n",
    "all_query_embeds = np.concatenate(all_query_embeds,axis=1)"
   ]
  },
  {
   "cell_type": "code",
   "execution_count": 71,
   "metadata": {},
   "outputs": [
    {
     "name": "stdout",
     "output_type": "stream",
     "text": [
      "(100000, 768)\n",
      "(2608, 768)\n"
     ]
    }
   ],
   "source": [
    "print(all_collection_embeds.shape)\n",
    "print(all_query_embeds.shape)"
   ]
  },
  {
   "cell_type": "code",
   "execution_count": 72,
   "metadata": {},
   "outputs": [
    {
     "data": {
      "text/plain": [
       "11"
      ]
     },
     "execution_count": 72,
     "metadata": {},
     "output_type": "execute_result"
    }
   ],
   "source": [
    "gc.collect()"
   ]
  },
  {
   "cell_type": "markdown",
   "metadata": {},
   "source": [
    "# Training"
   ]
  },
  {
   "cell_type": "code",
   "execution_count": 97,
   "metadata": {},
   "outputs": [],
   "source": [
    "features = []\n",
    "labels = []\n",
    "\n",
    "subsampling_top_k = 1000\n",
    "\n",
    "query_idx_lookup = {qid: idx for idx, qid in enumerate(queries['q_id'])}\n",
    "passage_idx_lookup = {pid: idx for idx, pid in enumerate(collection['d_id'])}"
   ]
  },
  {
   "cell_type": "code",
   "execution_count": 98,
   "metadata": {},
   "outputs": [
    {
     "name": "stdout",
     "output_type": "stream",
     "text": [
      "{'1': 3, '2': 18, '3': 44, '4': 53, '5': 55, '6': 67, '7': 72, '8': 77, '9': 82, '10': 107, '11': 113, '12': 149, '13': 174, '14': 191, '15': 237, '16': 241, '17': 288, '18': 294, '19': 302, '20': 326, '21': 345, '22': 379, '23': 442, '24': 479, '25': 484, '26': 496, '27': 520, '28': 553, '29': 568, '30': 573, '31': 578, '32': 653, '33': 657, '34': 661, '35': 678, '36': 709, '37': 718, '38': 737, '39': 798, '40': 814, '41': 841, '42': 853, '43': 882, '44': 907, '45': 924, '46': 930, '47': 946, '48': 964, '49': 970, '50': 974, '51': 983, '52': 991, '53': 1005, '54': 1010, '55': 1040, '56': 1050, '57': 1055, '58': 1069, '59': 1084, '60': 1099, '61': 1106, '62': 1123, '63': 1126, '64': 1139, '65': 1157, '66': 1162, '67': 1223, '68': 1285, '69': 1328, '70': 1347, '71': 1400, '72': 1412, '73': 1420, '74': 1454, '75': 1508, '76': 1521, '77': 1550, '78': 1574, '79': 1590, '80': 1607, '81': 1608, '82': 1635, '83': 1663, '84': 1703, '85': 1726, '86': 1740, '87': 1756, '88': 1772, '89': 1788, '90': 1856, '91': 1870, '92': 1896, '93': 1952, '94': 2018, '95': 2076, '96': 2138, '97': 2155, '98': 2214, '99': 2247, '100': 2275, '101': 2297, '102': 2328, '103': 2335, '104': 2364, '105': 2377, '106': 2396, '107': 2419, '108': 2424, '109': 2426, '110': 2435, '111': 2480, '112': 2514, '113': 2527, '114': 2536, '115': 2670, '116': 2711, '117': 2718, '118': 2731, '119': 2739, '120': 2772, '121': 2805, '122': 2838, '123': 2876, '124': 2920, '125': 2929, '126': 2947, '127': 2954, '128': 2964, '129': 2972, '130': 2980, '131': 3005, '132': 3038, '133': 3121, '134': 3130, '135': 3149, '136': 3162, '137': 3172, '138': 3178, '139': 3189, '140': 3208, '141': 3232, '142': 3258, '143': 3284, '144': 3312, '145': 3341, '146': 3377, '147': 3396, '148': 3417, '149': 3427, '150': 3437, '151': 3468, '152': 3476, '153': 3485, '154': 3534, '155': 3540, '156': 3547, '157': 3557, '158': 3568, '159': 3585, '160': 3595, '161': 3614, '162': 3685, '163': 3743, '164': 3775, '165': 3790, '166': 3794, '167': 3836, '168': 3851, '169': 3872, '170': 3915, '171': 3929, '172': 3969, '173': 3984, '174': 4007, '175': 4017, '176': 4024, '177': 4048, '178': 4059, '179': 4068, '180': 4075, '181': 4083, '182': 4091, '183': 4117, '184': 4149, '185': 4191, '186': 4236, '187': 4279, '188': 4299, '189': 4314, '190': 4324, '191': 4351, '192': 4379, '193': 4445, '194': 4470, '195': 4488, '196': 4516, '197': 4544, '198': 4577, '199': 4593, '200': 4597, '201': 4636, '202': 4652, '203': 4680, '204': 4693, '205': 4725, '206': 4737, '207': 4742, '208': 4788, '209': 4923, '210': 4935, '211': 4950, '212': 4972, '213': 4979, '214': 4999, '215': 5050, '216': 5071, '217': 5093, '218': 5101, '219': 5132, '220': 5146, '221': 5162, '222': 5199, '223': 5217, '224': 5252, '225': 5267, '226': 5285, '227': 5327, '228': 5380, '229': 5396, '230': 5444, '231': 5471, '232': 5478, '233': 5503, '234': 5507, '235': 5512, '236': 5574, '237': 5581, '238': 5588, '239': 5608, '240': 5631, '241': 5639, '242': 5646, '243': 5658, '244': 5665, '245': 5671, '246': 5677, '247': 5684, '248': 5712, '249': 5738, '250': 5751, '251': 5788, '252': 5805, '253': 5839, '254': 5867, '255': 5895, '256': 5932, '257': 5951, '258': 5985, '259': 6008, '260': 6053, '261': 6067, '262': 6089, '263': 6097, '264': 6115, '265': 6142, '266': 6178, '267': 6197, '268': 6227, '269': 6243, '270': 6256, '271': 6259, '272': 6267, '273': 6297, '274': 6315, '275': 6324, '276': 6331, '277': 6346, '278': 6396, '279': 6420, '280': 6442, '281': 6453, '282': 6458, '283': 6489, '284': 6498, '285': 6513, '286': 6527, '287': 6667, '288': 6809, '289': 6862, '290': 6892, '291': 6920, '292': 6950, '293': 7008, '294': 7013, '295': 7029, '296': 7060, '297': 7072, '298': 7130, '299': 7165, '300': 7181, '301': 7219, '302': 7241, '303': 7248, '304': 7260, '305': 7285, '306': 7296, '307': 7323, '308': 7436, '309': 7444, '310': 7500, '311': 7528, '312': 7564, '313': 7601, '314': 7604, '315': 7620, '316': 7657, '317': 7677, '318': 7706, '319': 7707, '320': 7715, '321': 7756, '322': 7760, '323': 7766, '324': 7776, '325': 7789, '326': 7814, '327': 7829, '328': 7842, '329': 7846, '330': 7853, '331': 7935, '332': 7962, '333': 7985, '334': 8043, '335': 8059, '336': 8087, '337': 8109, '338': 8112, '339': 8132, '340': 8189, '341': 8190, '342': 8207, '343': 8247, '344': 8256, '345': 8274, '346': 8285, '347': 8308, '348': 8327, '349': 8360, '350': 8389, '351': 8393, '352': 8398, '353': 8411, '354': 8436, '355': 8454, '356': 8510, '357': 8564, '358': 8580, '359': 8613, '360': 8620, '361': 8654, '362': 8689, '363': 8708, '364': 8711, '365': 8738, '366': 8749, '367': 8764, '368': 8784, '369': 8795, '370': 8815, '371': 8867, '372': 8889, '373': 8924, '374': 9012, '375': 9036, '376': 9049, '377': 9074, '378': 9080, '379': 9102, '380': 9107, '381': 9133, '382': 9136, '383': 9144, '384': 9174, '385': 9224, '386': 9239, '387': 9275, '388': 9287, '389': 9305, '390': 9312, '391': 9318, '392': 9334, '393': 9374, '394': 9385, '395': 9396, '396': 9417, '397': 9439, '398': 9453, '399': 9482, '400': 9514, '401': 9554, '402': 9586, '403': 9611, '404': 9643, '405': 9663, '406': 9701, '407': 9716, '408': 9733, '409': 9766, '410': 9785, '411': 9805, '412': 9817, '413': 9844, '414': 9881, '415': 9935, '416': 9968, '417': 9989, '418': 10030, '419': 10043, '420': 10046, '421': 10055, '422': 10197, '423': 10231, '424': 10237, '425': 10258, '426': 10335, '427': 10362, '428': 10366, '429': 10390, '430': 10409, '431': 10420, '432': 10430, '433': 10456, '434': 10474, '435': 10562, '436': 10569, '437': 10618, '438': 10661, '439': 10723, '440': 10735, '441': 10788, '442': 10793, '443': 10803, '444': 10814, '445': 10821, '446': 10850, '447': 10882, '448': 10961, '449': 10970, '450': 10990, '451': 11002, '452': 11016, '453': 11019, '454': 11042, '455': 11074, '456': 11104, '457': 11129, '458': 11173, '459': 11182, '460': 11228, '461': 11241, '462': 11252, '463': 11266, '464': 11276, '465': 11289, '466': 11316, '467': 11326, '468': 11342, '469': 11355, '470': 11360, '471': 11391, '472': 11449, '473': 11499, '474': 11525, '475': 11535, '476': 11574, '477': 11578, '478': 11585, '479': 11592, '480': 11603, '481': 11610, '482': 11616, '483': 11631, '484': 11641, '485': 11657, '486': 11679, '487': 11714, '488': 11735, '489': 11755, '490': 11768, '491': 11787, '492': 11829, '493': 11836, '494': 11877, '495': 11883, '496': 11902, '497': 11952, '498': 12012, '499': 12018, '500': 12027, '501': 12033, '502': 12068, '503': 12091, '504': 12121, '505': 12146, '506': 12158, '507': 12198, '508': 12252, '509': 12277, '510': 12317, '511': 12329, '512': 12351, '513': 12357, '514': 12424, '515': 12458, '516': 12461, '517': 12516, '518': 12527, '519': 12533, '520': 12585, '521': 12622, '522': 12642, '523': 12701, '524': 12737, '525': 12750, '526': 12809, '527': 12831, '528': 12835, '529': 12871, '530': 12895, '531': 12899, '532': 12930, '533': 12942, '534': 12965, '535': 12981, '536': 12990, '537': 13029, '538': 13047, '539': 13059, '540': 13062, '541': 13095, '542': 13151, '543': 13167, '544': 13178, '545': 13206, '546': 13243, '547': 13251, '548': 13273, '549': 13317, '550': 13387, '551': 13408, '552': 13425, '553': 13440, '554': 13501, '555': 13520, '556': 13569, '557': 13576, '558': 13594, '559': 13612, '560': 13646, '561': 13668, '562': 13732, '563': 13755, '564': 13759, '565': 13764, '566': 13784, '567': 13799, '568': 13819, '569': 13850, '570': 13901, '571': 13952, '572': 13975, '573': 14035, '574': 14041, '575': 14054, '576': 14064, '577': 14082, '578': 14099, '579': 14110, '580': 14127, '581': 14156, '582': 14185, '583': 14200, '584': 14213, '585': 14218, '586': 14249, '587': 14268, '588': 14282, '589': 14295, '590': 14309, '591': 14314, '592': 14321, '593': 14338, '594': 14355, '595': 14372, '596': 14389, '597': 14423, '598': 14442, '599': 14457, '600': 14485, '601': 14487, '602': 14492, '603': 14501, '604': 14544, '605': 14568, '606': 14585, '607': 14628, '608': 14640, '609': 14646, '610': 14652, '611': 14677, '612': 14711, '613': 14788, '614': 14819, '615': 14867, '616': 14879, '617': 14908, '618': 14932, '619': 14976, '620': 14986, '621': 14994, '622': 15066, '623': 15089, '624': 15120, '625': 15138, '626': 15144, '627': 15192, '628': 15206, '629': 15227, '630': 15269, '631': 15304, '632': 15314, '633': 15381, '634': 15391, '635': 15416, '636': 15428, '637': 15484, '638': 15522, '639': 15539, '640': 15552, '641': 15565, '642': 15579, '643': 15600, '644': 15609, '645': 15666, '646': 15677, '647': 15681, '648': 15735, '649': 15739, '650': 15761, '651': 15782, '652': 15786, '653': 15789, '654': 15804, '655': 15823, '656': 15852, '657': 15859, '658': 15883, '659': 15907, '660': 15927, '661': 15974, '662': 15990, '663': 16014, '664': 16026, '665': 16063, '666': 16084, '667': 16107, '668': 16155, '669': 16159, '670': 16182, '671': 16193, '672': 16196, '673': 16214, '674': 16240, '675': 16257, '676': 16276, '677': 16335, '678': 16351, '679': 16383, '680': 16395, '681': 16457, '682': 16519, '683': 16540, '684': 16608, '685': 16628, '686': 16665, '687': 16679, '688': 16697, '689': 16723, '690': 16786, '691': 16816, '692': 16896, '693': 16913, '694': 16977, '695': 16989, '696': 17014, '697': 17027, '698': 17032, '699': 17033, '700': 17043, '701': 17092, '702': 17097, '703': 17108, '704': 17136, '705': 17214, '706': 17228, '707': 17245, '708': 17272, '709': 17295, '710': 17331, '711': 17349, '712': 17360, '713': 17389, '714': 17400, '715': 17416, '716': 17427, '717': 17447, '718': 17479, '719': 17484, '720': 17495, '721': 17517, '722': 17555, '723': 17606, '724': 17625, '725': 17672, '726': 17707, '727': 17721, '728': 17741, '729': 17760, '730': 17778, '731': 17842, '732': 17863, '733': 17954, '734': 17967, '735': 17993, '736': 18024, '737': 18046, '738': 18074, '739': 18102, '740': 18121, '741': 18129, '742': 18156, '743': 18189, '744': 18210, '745': 18219, '746': 18282, '747': 18294, '748': 18300, '749': 18314, '750': 18337, '751': 18355, '752': 18381, '753': 18398, '754': 18410, '755': 18477, '756': 18489, '757': 18503, '758': 18542, '759': 18575, '760': 18604, '761': 18621, '762': 18659, '763': 18700, '764': 18715, '765': 18738, '766': 18802, '767': 18868, '768': 18872, '769': 18884, '770': 18886, '771': 18899, '772': 18945, '773': 18953, '774': 18965, '775': 18972, '776': 18984, '777': 19022, '778': 19058, '779': 19064, '780': 19071, '781': 19086, '782': 19130, '783': 19182, '784': 19225, '785': 19287, '786': 19292, '787': 19298, '788': 19304, '789': 19310, '790': 19321, '791': 19334, '792': 19339, '793': 19352, '794': 19356, '795': 19396, '796': 19403, '797': 19413, '798': 19427, '799': 19439, '800': 19469, '801': 19484, '802': 19509, '803': 19512, '804': 19546, '805': 19570, '806': 19586, '807': 19606, '808': 19616, '809': 19652, '810': 19664, '811': 19667, '812': 19680, '813': 19698, '814': 19730, '815': 19756, '816': 19823, '817': 19826, '818': 19839, '819': 19843, '820': 19928, '821': 19935, '822': 19954, '823': 19977, '824': 20026, '825': 20051, '826': 20083, '827': 20104, '828': 20112, '829': 20144, '830': 20203, '831': 20219, '832': 20236, '833': 20245, '834': 20287, '835': 20331, '836': 20341, '837': 20393, '838': 20432, '839': 20481, '840': 20509, '841': 20518, '842': 20528, '843': 20548, '844': 20572, '845': 20603, '846': 20641, '847': 20673, '848': 20683, '849': 20701, '850': 20732, '851': 20757, '852': 20836, '853': 20890, '854': 20914, '855': 20941, '856': 20964, '857': 20984, '858': 21000, '859': 21016, '860': 21085, '861': 21120, '862': 21128, '863': 21191, '864': 21202, '865': 21226, '866': 21240, '867': 21252, '868': 21260, '869': 21276, '870': 21284, '871': 21313, '872': 21341, '873': 21370, '874': 21385, '875': 21389, '876': 21413, '877': 21433, '878': 21436, '879': 21453, '880': 21463, '881': 21489, '882': 21512, '883': 21551, '884': 21573, '885': 21590, '886': 21634, '887': 21673, '888': 21683, '889': 21705, '890': 21716, '891': 21721, '892': 21728, '893': 21798, '894': 21852, '895': 21861, '896': 21888, '897': 21936, '898': 21972, '899': 21980, '900': 22003, '901': 22029, '902': 22040, '903': 22064, '904': 22087, '905': 22131, '906': 22146, '907': 22164, '908': 22184, '909': 22188, '910': 22201, '911': 22214, '912': 22238, '913': 22257, '914': 22267, '915': 22288, '916': 22334, '917': 22343, '918': 22362, '919': 22366, '920': 22390, '921': 22426, '922': 22451, '923': 22455, '924': 22474, '925': 22522, '926': 22570, '927': 22583, '928': 22596, '929': 22657, '930': 22697, '931': 22742, '932': 22782, '933': 22820, '934': 22840, '935': 22859, '936': 22880, '937': 22909, '938': 22919, '939': 22924, '940': 22981, '941': 22988, '942': 23009, '943': 23020, '944': 23070, '945': 23127, '946': 23326, '947': 23329, '948': 23373, '949': 23471, '950': 23481, '951': 23573, '952': 23583, '953': 23619, '954': 23648, '955': 23660, '956': 23710, '957': 23728, '958': 23733, '959': 23744, '960': 23762, '961': 23768, '962': 23791, '963': 23846, '964': 23856, '965': 23862, '966': 23873, '967': 23902, '968': 24052, '969': 24057, '970': 24112, '971': 24134, '972': 24159, '973': 24201, '974': 24296, '975': 24321, '976': 24343, '977': 24411, '978': 24420, '979': 24446, '980': 24455, '981': 24460, '982': 24476, '983': 24488, '984': 24495, '985': 24531, '986': 24576, '987': 24602, '988': 24644, '989': 24677, '990': 24740, '991': 24762, '992': 24775, '993': 24788, '994': 24808, '995': 24835, '996': 24960, '997': 24965, '998': 25076, '999': 25155, '1000': 25209, '1001': 25281, '1002': 25308, '1003': 25358, '1004': 25373, '1005': 25382, '1006': 25425, '1007': 25480, '1008': 25503, '1009': 25518, '1010': 25599, '1011': 25608, '1012': 25626, '1013': 25652, '1014': 25676, '1015': 25699, '1016': 25730, '1017': 25751, '1018': 25797, '1019': 25851, '1020': 25891, '1021': 25929, '1022': 25951, '1023': 26078, '1024': 26092, '1025': 26095, '1026': 26135, '1027': 26152, '1028': 26212, '1029': 26217, '1030': 26247, '1031': 26257, '1032': 26316, '1033': 26321, '1034': 26342, '1035': 26368, '1036': 26377, '1037': 26403, '1038': 26457, '1039': 26482, '1040': 26489, '1041': 26502, '1042': 26524, '1043': 26537, '1044': 26572, '1045': 26589, '1046': 26631, '1047': 26675, '1048': 26681, '1049': 26806, '1050': 26840, '1051': 26853, '1052': 26883, '1053': 26901, '1054': 26939, '1055': 27016, '1056': 27098, '1057': 27136, '1058': 27138, '1059': 27188, '1060': 27242, '1061': 27289, '1062': 27309, '1063': 27396, '1064': 27427, '1065': 27481, '1066': 27485, '1067': 27509, '1068': 27544, '1069': 27563, '1070': 27590, '1071': 27603, '1072': 27619, '1073': 27635, '1074': 27670, '1075': 27754, '1076': 27799, '1077': 27839, '1078': 27851, '1079': 27865, '1080': 27878, '1081': 27905, '1082': 27932, '1083': 27955, '1084': 27996, '1085': 28022, '1086': 28056, '1087': 28082, '1088': 28153, '1089': 28185, '1090': 28210, '1091': 28244, '1092': 28261, '1093': 28275, '1094': 28277, '1095': 28308, '1096': 28321, '1097': 28324, '1098': 28332, '1099': 28338, '1100': 28347, '1101': 28364, '1102': 28393, '1103': 28407, '1104': 28440, '1105': 28476, '1106': 28522, '1107': 28541, '1108': 28552, '1109': 28573, '1110': 28579, '1111': 28589, '1112': 28599, '1113': 28606, '1114': 28611, '1115': 28631, '1116': 28651, '1117': 28659, '1118': 28736, '1119': 28786, '1120': 28792, '1121': 28850, '1122': 28861, '1123': 28898, '1124': 28924, '1125': 28931, '1126': 28948, '1127': 28954, '1128': 28986, '1129': 28998, '1130': 29002, '1131': 29012, '1132': 29023, '1133': 29037, '1134': 29087, '1135': 29116, '1136': 29123, '1137': 29144, '1138': 29198, '1139': 29224, '1140': 29230, '1141': 29246, '1142': 29268, '1143': 29270, '1144': 29324, '1145': 29332, '1146': 29339, '1147': 29342, '1148': 29371, '1149': 29395, '1150': 29412, '1151': 29422, '1152': 29444, '1153': 29450, '1154': 29465, '1155': 29513, '1156': 29546, '1157': 29580, '1158': 29636, '1159': 29648, '1160': 29670, '1161': 29681, '1162': 29778, '1163': 29783, '1164': 29788, '1165': 29800, '1166': 29828, '1167': 29857, '1168': 29866, '1169': 29889, '1170': 29898, '1171': 29903, '1172': 29932, '1173': 29964, '1174': 29968, '1175': 29984, '1176': 30010, '1177': 30051, '1178': 30123, '1179': 30163, '1180': 30170, '1181': 30180, '1182': 30196, '1183': 30210, '1184': 30225, '1185': 30239, '1186': 30261, '1187': 30265, '1188': 30275, '1189': 30293, '1190': 30320, '1191': 30336, '1192': 30367, '1193': 30387, '1194': 30443, '1195': 30476, '1196': 30487, '1197': 30501, '1198': 30565, '1199': 30580, '1200': 30602, '1201': 30608, '1202': 30618, '1203': 30652, '1204': 30671, '1205': 30722, '1206': 30763, '1207': 30870, '1208': 30902, '1209': 30924, '1210': 30948, '1211': 30982, '1212': 31013, '1213': 31043, '1214': 31161, '1215': 31195, '1216': 31220, '1217': 31227, '1218': 31253, '1219': 31289, '1220': 31323, '1221': 31467, '1222': 31506, '1223': 31543, '1224': 31551, '1225': 31558, '1226': 31580, '1227': 31602, '1228': 31616, '1229': 31625, '1230': 31672, '1231': 31730, '1232': 31763, '1233': 31787, '1234': 31806, '1235': 31817, '1236': 31830, '1237': 31832, '1238': 31877, '1239': 31879, '1240': 31911, '1241': 31985, '1242': 32023, '1243': 32058, '1244': 32082, '1245': 32122, '1246': 32146, '1247': 32164, '1248': 32214, '1249': 32240, '1250': 32292, '1251': 32303, '1252': 32316, '1253': 32368, '1254': 32397, '1255': 32413, '1256': 32421, '1257': 32461, '1258': 32507, '1259': 32510, '1260': 32525, '1261': 32541, '1262': 32552, '1263': 32568, '1264': 32595, '1265': 32621, '1266': 32663, '1267': 32667, '1268': 32679, '1269': 32687, '1270': 32700, '1271': 32722, '1272': 32732, '1273': 32747, '1274': 32756, '1275': 32798, '1276': 32799, '1277': 32814, '1278': 32847, '1279': 32863, '1280': 32879, '1281': 32886, '1282': 32894, '1283': 32905, '1284': 32976, '1285': 32992, '1286': 33010, '1287': 33023, '1288': 33033, '1289': 33065, '1290': 33073, '1291': 33146, '1292': 33158, '1293': 33168, '1294': 33189, '1295': 33219, '1296': 33337, '1297': 33464, '1298': 33483, '1299': 33512, '1300': 33521, '1301': 33547, '1302': 33556, '1303': 33572, '1304': 33614, '1305': 33623, '1306': 33631, '1307': 33656, '1308': 33664, '1309': 33674, '1310': 33680, '1311': 33693, '1312': 33708, '1313': 33733, '1314': 33741, '1315': 33752, '1316': 33796, '1317': 33810, '1318': 33935, '1319': 34028, '1320': 34054, '1321': 34092, '1322': 34116, '1323': 34136, '1324': 34162, '1325': 34188, '1326': 34211, '1327': 34251, '1328': 34261, '1329': 34281, '1330': 34301, '1331': 34326, '1332': 34350, '1333': 34357, '1334': 34363, '1335': 34372, '1336': 34391, '1337': 34405, '1338': 34438, '1339': 34519, '1340': 34536, '1341': 34603, '1342': 34666, '1343': 34671, '1344': 34681, '1345': 34704, '1346': 34719, '1347': 34815, '1348': 34819, '1349': 34825, '1350': 34841, '1351': 34877, '1352': 34899, '1353': 34926, '1354': 34952, '1355': 34983, '1356': 34988, '1357': 35026, '1358': 35040, '1359': 35070, '1360': 35087, '1361': 35089, '1362': 35108, '1363': 35122, '1364': 35144, '1365': 35161, '1366': 35176, '1367': 35180, '1368': 35187, '1369': 35197, '1370': 35206, '1371': 35217, '1372': 35242, '1373': 35246, '1374': 35264, '1375': 35291, '1376': 35294, '1377': 35313, '1378': 35332, '1379': 35351, '1380': 35355, '1381': 35358, '1382': 35390, '1383': 35423, '1384': 35672, '1385': 35685, '1386': 35708, '1387': 35735, '1388': 35774, '1389': 35822, '1390': 35845, '1391': 35872, '1392': 35879, '1393': 35955, '1394': 35992, '1395': 36035, '1396': 36100, '1397': 36103, '1398': 36223, '1399': 36263, '1400': 36285, '1401': 36322, '1402': 36438, '1403': 36461, '1404': 36488, '1405': 36525, '1406': 36544, '1407': 36586, '1408': 36671, '1409': 36732, '1410': 36762, '1411': 36783, '1412': 36837, '1413': 36893, '1414': 36949, '1415': 37009, '1416': 37070, '1417': 37106, '1418': 37120, '1419': 37185, '1420': 37194, '1421': 37231, '1422': 37260, '1423': 37268, '1424': 37293, '1425': 37296, '1426': 37299, '1427': 37311, '1428': 37358, '1429': 37380, '1430': 37435, '1431': 37452, '1432': 37458, '1433': 37500, '1434': 37507, '1435': 37518, '1436': 37559, '1437': 37611, '1438': 37640, '1439': 37677, '1440': 37710, '1441': 37715, '1442': 37730, '1443': 37842, '1444': 37863, '1445': 37900, '1446': 37925, '1447': 37958, '1448': 37977, '1449': 37986, '1450': 38042, '1451': 38108, '1452': 38190, '1453': 38203, '1454': 38214, '1455': 38227, '1456': 38232, '1457': 38399, '1458': 38448, '1459': 38477, '1460': 38504, '1461': 38535, '1462': 38557, '1463': 38566, '1464': 38591, '1465': 38628, '1466': 38688, '1467': 38711, '1468': 38751, '1469': 38813, '1470': 38831, '1471': 38946, '1472': 38980, '1473': 39000, '1474': 39019, '1475': 39027, '1476': 39067, '1477': 39100, '1478': 39109, '1479': 39147, '1480': 39159, '1481': 39169, '1482': 39205, '1483': 39226, '1484': 39250, '1485': 39292, '1486': 39332, '1487': 39380, '1488': 39402, '1489': 39424, '1490': 39437, '1491': 39508, '1492': 39525, '1493': 39595, '1494': 39707, '1495': 39734, '1496': 39798, '1497': 39839, '1498': 39857, '1499': 39876, '1500': 39904, '1501': 39931, '1502': 39969, '1503': 39995, '1504': 40001, '1505': 40022, '1506': 40034, '1507': 40040, '1508': 40088, '1509': 40101, '1510': 40108, '1511': 40118, '1512': 40159, '1513': 40170, '1514': 40188, '1515': 40238, '1516': 40318, '1517': 40390, '1518': 40419, '1519': 40428, '1520': 40495, '1521': 40547, '1522': 40578, '1523': 40641, '1524': 40661, '1525': 40681, '1526': 40721, '1527': 40753, '1528': 40778, '1529': 40842, '1530': 40899, '1531': 40926, '1532': 40948, '1533': 40981, '1534': 41006, '1535': 41019, '1536': 41041, '1537': 41123, '1538': 41159, '1539': 41171, '1540': 41182, '1541': 41233, '1542': 41282, '1543': 41284, '1544': 41364, '1545': 41376, '1546': 41407, '1547': 41424, '1548': 41435, '1549': 41459, '1550': 41475, '1551': 41540, '1552': 41565, '1553': 41598, '1554': 41677, '1555': 41739, '1556': 41760, '1557': 41771, '1558': 41787, '1559': 41790, '1560': 41799, '1561': 41843, '1562': 41876, '1563': 41897, '1564': 41923, '1565': 41943, '1566': 41952, '1567': 41962, '1568': 41983, '1569': 42015, '1570': 42042, '1571': 42082, '1572': 42094, '1573': 42108, '1574': 42128, '1575': 42159, '1576': 42218, '1577': 42227, '1578': 42236, '1579': 42262, '1580': 42292, '1581': 42318, '1582': 42334, '1583': 42375, '1584': 42411, '1585': 42455, '1586': 42475, '1587': 42485, '1588': 42522, '1589': 42591, '1590': 42632, '1591': 42645, '1592': 42687, '1593': 42702, '1594': 42749, '1595': 42755, '1596': 42761, '1597': 42767, '1598': 42779, '1599': 42790, '1600': 42801, '1601': 42859, '1602': 42890, '1603': 42924, '1604': 42955, '1605': 43041, '1606': 43058, '1607': 43064, '1608': 43128, '1609': 43179, '1610': 43213, '1611': 43269, '1612': 43286, '1613': 43344, '1614': 43361, '1615': 43372, '1616': 43394, '1617': 43405, '1618': 43410, '1619': 43424, '1620': 43428, '1621': 43439, '1622': 43454, '1623': 43475, '1624': 43477, '1625': 43483, '1626': 43497, '1627': 43514, '1628': 43533, '1629': 43564, '1630': 43600, '1631': 43639, '1632': 43647, '1633': 43663, '1634': 43680, '1635': 43686, '1636': 43711, '1637': 43734, '1638': 43752, '1639': 43773, '1640': 43782, '1641': 43792, '1642': 43801, '1643': 43820, '1644': 43824, '1645': 43851, '1646': 43907, '1647': 43925, '1648': 43952, '1649': 43975, '1650': 44017, '1651': 44057, '1652': 44087, '1653': 44138, '1654': 44180, '1655': 44191, '1656': 44213, '1657': 44232, '1658': 44250, '1659': 44285, '1660': 44305, '1661': 44330, '1662': 44350, '1663': 44365, '1664': 44378, '1665': 44404, '1666': 44483, '1667': 44506, '1668': 44516, '1669': 44541, '1670': 44562, '1671': 44591, '1672': 44618, '1673': 44623, '1674': 44627, '1675': 44650, '1676': 44680, '1677': 44691, '1678': 44705, '1679': 44721, '1680': 44754, '1681': 44766, '1682': 44767, '1683': 44795, '1684': 44799, '1685': 44846, '1686': 44853, '1687': 44881, '1688': 44923, '1689': 44948, '1690': 44972, '1691': 44993, '1692': 45009, '1693': 45148, '1694': 45295, '1695': 45303, '1696': 45317, '1697': 45363, '1698': 45417, '1699': 45464, '1700': 45473, '1701': 45485, '1702': 45518, '1703': 45573, '1704': 45588, '1705': 45601, '1706': 45622, '1707': 45670, '1708': 45703, '1709': 45710, '1710': 45721, '1711': 45729, '1712': 45755, '1713': 45760, '1714': 45769, '1715': 45784, '1716': 45814, '1717': 45831, '1718': 45843, '1719': 45862, '1720': 45866, '1721': 45887, '1722': 45912, '1723': 45928, '1724': 45955, '1725': 45959, '1726': 45982, '1727': 46029, '1728': 46053, '1729': 46075, '1730': 46098, '1731': 46108, '1732': 46140, '1733': 46185, '1734': 46203, '1735': 46275, '1736': 46290, '1737': 46328, '1738': 46366, '1739': 46408, '1740': 46484, '1741': 46545, '1742': 46584, '1743': 46620, '1744': 46653, '1745': 46675, '1746': 46714, '1747': 46743, '1748': 46755, '1749': 46797, '1750': 46801, '1751': 46833, '1752': 46855, '1753': 46882, '1754': 46903, '1755': 46955, '1756': 46983, '1757': 47025, '1758': 47029, '1759': 47117, '1760': 47147, '1761': 47155, '1762': 47167, '1763': 47194, '1764': 47359, '1765': 47390, '1766': 47399, '1767': 47438, '1768': 47452, '1769': 47503, '1770': 47521, '1771': 47617, '1772': 47781, '1773': 47837, '1774': 47859, '1775': 47876, '1776': 47918, '1777': 47943, '1778': 47976, '1779': 48075, '1780': 48079, '1781': 48136, '1782': 48152, '1783': 48168, '1784': 48184, '1785': 48193, '1786': 48237, '1787': 48254, '1788': 48286, '1789': 48297, '1790': 48310, '1791': 48327, '1792': 48402, '1793': 48466, '1794': 48534, '1795': 48569, '1796': 48614, '1797': 48638, '1798': 48667, '1799': 48713, '1800': 48718, '1801': 48749, '1802': 48774, '1803': 48793, '1804': 48803, '1805': 48809, '1806': 48815, '1807': 48831, '1808': 48848, '1809': 48892, '1810': 48927, '1811': 48951, '1812': 48971, '1813': 49003, '1814': 49058, '1815': 49098, '1816': 49108, '1817': 49121, '1818': 49131, '1819': 49153, '1820': 49235, '1821': 49254, '1822': 49288, '1823': 49312, '1824': 49338, '1825': 49359, '1826': 49384, '1827': 49394, '1828': 49448, '1829': 49468, '1830': 49517, '1831': 49541, '1832': 49551, '1833': 49570, '1834': 49598, '1835': 49654, '1836': 49719, '1837': 49725, '1838': 49748, '1839': 49767, '1840': 49795, '1841': 49801, '1842': 49843, '1843': 49852, '1844': 49889, '1845': 49930, '1846': 49934, '1847': 49962, '1848': 49993, '1849': 50022, '1850': 50034, '1851': 50040, '1852': 50098, '1853': 50156, '1854': 50204, '1855': 50234, '1856': 50248, '1857': 50266, '1858': 50272, '1859': 50279, '1860': 50286, '1861': 50318, '1862': 50351, '1863': 50400, '1864': 50415, '1865': 50439, '1866': 50463, '1867': 50512, '1868': 50564, '1869': 50589, '1870': 50644, '1871': 50676, '1872': 50680, '1873': 50700, '1874': 50718, '1875': 50741, '1876': 50769, '1877': 50776, '1878': 50784, '1879': 50803, '1880': 50825, '1881': 50846, '1882': 50893, '1883': 50902, '1884': 50932, '1885': 50949, '1886': 50964, '1887': 50975, '1888': 51020, '1889': 51024, '1890': 51038, '1891': 51142, '1892': 51168, '1893': 51187, '1894': 51211, '1895': 51229, '1896': 51256, '1897': 51289, '1898': 51333, '1899': 51348, '1900': 51363, '1901': 51387, '1902': 51411, '1903': 51429, '1904': 51492, '1905': 51541, '1906': 51579, '1907': 51604, '1908': 51631, '1909': 51637, '1910': 51657, '1911': 51664, '1912': 51705, '1913': 51747, '1914': 51780, '1915': 51801, '1916': 51857, '1917': 51941, '1918': 52019, '1919': 52153, '1920': 52163, '1921': 52180, '1922': 52207, '1923': 52325, '1924': 52367, '1925': 52417, '1926': 52501, '1927': 52539, '1928': 52592, '1929': 52610, '1930': 52648, '1931': 52668, '1932': 52673, '1933': 52706, '1934': 52741, '1935': 52762, '1936': 52780, '1937': 52874, '1938': 52895, '1939': 52920, '1940': 52953, '1941': 52975, '1942': 52984, '1943': 52999, '1944': 53030, '1945': 53045, '1946': 53071, '1947': 53110, '1948': 53178, '1949': 53188, '1950': 53285, '1951': 53303, '1952': 53318, '1953': 53327, '1954': 53387, '1955': 53391, '1956': 53408, '1957': 53427, '1958': 53453, '1959': 53475, '1960': 53505, '1961': 53520, '1962': 53532, '1963': 53549, '1964': 53579, '1965': 53612, '1966': 53617, '1967': 53676, '1968': 53692, '1969': 53722, '1970': 53765, '1971': 53819, '1972': 53839, '1973': 53866, '1974': 53885, '1975': 53898, '1976': 53921, '1977': 53932, '1978': 53939, '1979': 53972, '1980': 54014, '1981': 54028, '1982': 54065, '1983': 54094, '1984': 54100, '1985': 54148, '1986': 54201, '1987': 54245, '1988': 54267, '1989': 54283, '1990': 54382, '1991': 54458, '1992': 54483, '1993': 54508, '1994': 54528, '1995': 54614, '1996': 54650, '1997': 54670, '1998': 54755, '1999': 54778, '2000': 54799, '2001': 54826, '2002': 54833, '2003': 54842, '2004': 54868, '2005': 54883, '2006': 54904, '2007': 55012, '2008': 55041, '2009': 55053, '2010': 55057, '2011': 55118, '2012': 55186, '2013': 55254, '2014': 55324, '2015': 55377, '2016': 55400, '2017': 55425, '2018': 55438, '2019': 55508, '2020': 55549, '2021': 55560, '2022': 55582, '2023': 55587, '2024': 55597, '2025': 55611, '2026': 55618, '2027': 55635, '2028': 55644, '2029': 55686, '2030': 55724, '2031': 55783, '2032': 55790, '2033': 55809, '2034': 55830, '2035': 55857, '2036': 55893, '2037': 55958, '2038': 56031, '2039': 56039, '2040': 56108, '2041': 56129, '2042': 56143, '2043': 56175, '2044': 56195, '2045': 56238, '2046': 56261, '2047': 56410, '2048': 56456, '2049': 56518, '2050': 56595, '2051': 56607, '2052': 56623, '2053': 56646, '2054': 56662, '2055': 56670, '2056': 56694, '2057': 56721, '2058': 56743, '2059': 56759, '2060': 56783, '2061': 56803, '2062': 56828, '2063': 56834, '2064': 56904, '2065': 56924, '2066': 57141, '2067': 57169, '2068': 57184, '2069': 57208, '2070': 57249, '2071': 57277, '2072': 57321, '2073': 57364, '2074': 57380, '2075': 57383, '2076': 57386, '2077': 57390, '2078': 57413, '2079': 57434, '2080': 57443, '2081': 57449, '2082': 57515, '2083': 57580, '2084': 57595, '2085': 57610, '2086': 57635, '2087': 57666, '2088': 57709, '2089': 57713, '2090': 57735, '2091': 57740, '2092': 57746, '2093': 57792, '2094': 57811, '2095': 57846, '2096': 57852, '2097': 57862, '2098': 57875, '2099': 57900, '2100': 57908, '2101': 57952, '2102': 57965, '2103': 57969, '2104': 57983, '2105': 58004, '2106': 58007, '2107': 58036, '2108': 58039, '2109': 58061, '2110': 58125, '2111': 58138, '2112': 58144, '2113': 58150, '2114': 58156, '2115': 58162, '2116': 58164, '2117': 58231, '2118': 58286, '2119': 58326, '2120': 58342, '2121': 58383, '2122': 58413, '2123': 58439, '2124': 58475, '2125': 58480, '2126': 58488, '2127': 58501, '2128': 58539, '2129': 58578, '2130': 58590, '2131': 58619, '2132': 58640, '2133': 58709, '2134': 58742, '2135': 58787, '2136': 58795, '2137': 58833, '2138': 58845, '2139': 58894, '2140': 58939, '2141': 58966, '2142': 58973, '2143': 58984, '2144': 59030, '2145': 59064, '2146': 59070, '2147': 59090, '2148': 59126, '2149': 59158, '2150': 59177, '2151': 59182, '2152': 59201, '2153': 59217, '2154': 59232, '2155': 59259, '2156': 59275, '2157': 59328, '2158': 59350, '2159': 59378, '2160': 59395, '2161': 59416, '2162': 59429, '2163': 59450, '2164': 59480, '2165': 59487, '2166': 59514, '2167': 59541, '2168': 59570, '2169': 59581, '2170': 59602, '2171': 59623, '2172': 59688, '2173': 59721, '2174': 59753, '2175': 59766, '2176': 59805, '2177': 59851, '2178': 59868, '2179': 59897, '2180': 59930, '2181': 59936, '2182': 59940, '2183': 59981, '2184': 60034, '2185': 60039, '2186': 60045, '2187': 60115, '2188': 60204, '2189': 60256, '2190': 60281, '2191': 60322, '2192': 60377, '2193': 60389, '2194': 60441, '2195': 60485, '2196': 60521, '2197': 60540, '2198': 60629, '2199': 60633, '2200': 60673, '2201': 60723, '2202': 60745, '2203': 60756, '2204': 60767, '2205': 60825, '2206': 60832, '2207': 60878, '2208': 60944, '2209': 60981, '2210': 61000, '2211': 61018, '2212': 61044, '2213': 61054, '2214': 61115, '2215': 61159, '2216': 61170, '2217': 61198, '2218': 61209, '2219': 61222, '2220': 61253, '2221': 61296, '2222': 61336, '2223': 61376, '2224': 61415, '2225': 61421, '2226': 61478, '2227': 61565, '2228': 61603, '2229': 61617, '2230': 61630, '2231': 61649, '2232': 61668, '2233': 61684, '2234': 61689, '2235': 61723, '2236': 61751, '2237': 61761, '2238': 61779, '2239': 61837, '2240': 61849, '2241': 61866, '2242': 61895, '2243': 61900, '2244': 61954, '2245': 61980, '2246': 62034, '2247': 62079, '2248': 62094, '2249': 62100, '2250': 62116, '2251': 62128, '2252': 62194, '2253': 62222, '2254': 62230, '2255': 62236, '2256': 62242, '2257': 62250, '2258': 62281, '2259': 62305, '2260': 62318, '2261': 62339, '2262': 62352, '2263': 62364, '2264': 62411, '2265': 62416, '2266': 62441, '2267': 62471, '2268': 62510, '2269': 62520, '2270': 62556, '2271': 62584, '2272': 62622, '2273': 62631, '2274': 62680, '2275': 62720, '2276': 62749, '2277': 62781, '2278': 62798, '2279': 62812, '2280': 62815, '2281': 62854, '2282': 62862, '2283': 62872, '2284': 62883, '2285': 62891, '2286': 62893, '2287': 62902, '2288': 62908, '2289': 62925, '2290': 62949, '2291': 62971, '2292': 62985, '2293': 63007, '2294': 63054, '2295': 63076, '2296': 63093, '2297': 63181, '2298': 63183, '2299': 63210, '2300': 63237, '2301': 63279, '2302': 63300, '2303': 63338, '2304': 63379, '2305': 63402, '2306': 63412, '2307': 63433, '2308': 63454, '2309': 63475, '2310': 63486, '2311': 63510, '2312': 63538, '2313': 63590, '2314': 63605, '2315': 63877, '2316': 63899, '2317': 63909, '2318': 63957, '2319': 64000, '2320': 64012, '2321': 64022, '2322': 64028, '2323': 64065, '2324': 64075, '2325': 64091, '2326': 64096, '2327': 64117, '2328': 64185, '2329': 64211, '2330': 64217, '2331': 64241, '2332': 64247, '2333': 64260, '2334': 64298, '2335': 64330, '2336': 64393, '2337': 64425, '2338': 64680, '2339': 64684, '2340': 64704, '2341': 64752, '2342': 64811, '2343': 64828, '2344': 64845, '2345': 64864, '2346': 64878, '2347': 64901, '2348': 64923, '2349': 64956, '2350': 64998, '2351': 65014, '2352': 65022, '2353': 65089, '2354': 65107, '2355': 65137, '2356': 65237, '2357': 65246, '2358': 65292, '2359': 65296, '2360': 65335, '2361': 65371, '2362': 65418, '2363': 65431, '2364': 65496, '2365': 65511, '2366': 65532, '2367': 65569, '2368': 65599, '2369': 65611, '2370': 65680, '2371': 65850, '2372': 65881, '2373': 65917, '2374': 65936, '2375': 65952, '2376': 65963, '2377': 65999, '2378': 66009, '2379': 66021, '2380': 66047, '2381': 66065, '2382': 66089, '2383': 66100, '2384': 66105, '2385': 66120, '2386': 66134, '2387': 66144, '2388': 66150, '2389': 66164, '2390': 66183, '2391': 66227, '2392': 66236, '2393': 66262, '2394': 66275, '2395': 66302, '2396': 66325, '2397': 66340, '2398': 66377, '2399': 66464, '2400': 66484, '2401': 66518, '2402': 66580, '2403': 66602, '2404': 66612, '2405': 66622, '2406': 66686, '2407': 66702, '2408': 66796, '2409': 66883, '2410': 66920, '2411': 66939, '2412': 66948, '2413': 66972, '2414': 67006, '2415': 67038, '2416': 67072, '2417': 67113, '2418': 67140, '2419': 67154, '2420': 67321, '2421': 67343, '2422': 67354, '2423': 67382, '2424': 67393, '2425': 67428, '2426': 67517, '2427': 67538, '2428': 67549, '2429': 67621, '2430': 67628, '2431': 67634, '2432': 67686, '2433': 67712, '2434': 67730, '2435': 67742, '2436': 67762, '2437': 67786, '2438': 67796, '2439': 67801, '2440': 67829, '2441': 67840, '2442': 67877, '2443': 67888, '2444': 67889, '2445': 67904, '2446': 67949, '2447': 67961, '2448': 67976, '2449': 67996, '2450': 68035, '2451': 68063, '2452': 68076, '2453': 68125, '2454': 68217, '2455': 68239, '2456': 68257, '2457': 68259, '2458': 68261, '2459': 68296, '2460': 68314, '2461': 68330, '2462': 68338, '2463': 68356, '2464': 68402, '2465': 68456, '2466': 68483, '2467': 68512, '2468': 68529, '2469': 68585, '2470': 68608, '2471': 68627, '2472': 68656, '2473': 68666, '2474': 68676, '2475': 68699, '2476': 68736, '2477': 68746, '2478': 68768, '2479': 68774, '2480': 68811, '2481': 68846, '2482': 68883, '2483': 68930, '2484': 68958, '2485': 68968, '2486': 68971, '2487': 68975, '2488': 69015, '2489': 69080, '2490': 69105, '2491': 69119, '2492': 69132, '2493': 69143, '2494': 69165, '2495': 69207, '2496': 69256, '2497': 69264, '2498': 69273, '2499': 69293, '2500': 69331, '2501': 69355, '2502': 69385, '2503': 69471, '2504': 69520, '2505': 69531, '2506': 69560, '2507': 69603, '2508': 69628, '2509': 69692, '2510': 69711, '2511': 69744, '2512': 69820, '2513': 69829, '2514': 69871, '2515': 69905, '2516': 69911, '2517': 69918, '2518': 69941, '2519': 69957, '2520': 69988, '2521': 70040, '2522': 70052, '2523': 70081, '2524': 70115, '2525': 70126, '2526': 70129, '2527': 70147, '2528': 70266, '2529': 70284, '2530': 70331, '2531': 70359, '2532': 70404, '2533': 70451, '2534': 70484, '2535': 70495, '2536': 70505, '2537': 70544, '2538': 70594, '2539': 70617, '2540': 70629, '2541': 70650, '2542': 70659, '2543': 70662, '2544': 70698, '2545': 70724, '2546': 70741, '2547': 70770, '2548': 70794, '2549': 70832, '2550': 70849, '2551': 70874, '2552': 70892, '2553': 70895, '2554': 71010, '2555': 71012, '2556': 71020, '2557': 71029, '2558': 71050, '2559': 71068, '2560': 71084, '2561': 71092, '2562': 71118, '2563': 71152, '2564': 71171, '2565': 71192, '2566': 71222, '2567': 71246, '2568': 71276, '2569': 71307, '2570': 71327, '2571': 71344, '2572': 71358, '2573': 71371, '2574': 71390, '2575': 71393, '2576': 71406, '2577': 71479, '2578': 71489, '2579': 71498, '2580': 71517, '2581': 71546, '2582': 71555, '2583': 71582, '2584': 71591, '2585': 71630, '2586': 71637, '2587': 71658, '2588': 71715, '2589': 71724, '2590': 71737, '2591': 71769, '2592': 71791, '2593': 71808, '2594': 71837, '2595': 71854, '2596': 71861, '2597': 71942, '2598': 72018, '2599': 72041, '2600': 72053, '2601': 72083, '2602': 72099, '2603': 72106, '2604': 72124, '2605': 72153, '2606': 72216, '2607': 72259, '2608': 72277, '2609': 72285, '2610': 72313, '2611': 72338, '2612': 72374, '2613': 72426, '2614': 72441, '2615': 72456, '2616': 72464, '2617': 72484, '2618': 72517, '2619': 72552, '2620': 72564, '2621': 72586, '2622': 72595, '2623': 72605, '2624': 72626, '2625': 72664, '2626': 72679, '2627': 72702, '2628': 72715, '2629': 72727, '2630': 72743, '2631': 72764, '2632': 72785, '2633': 72844, '2634': 72906, '2635': 72941, '2636': 72959, '2637': 72975, '2638': 73004, '2639': 73038, '2640': 73059, '2641': 73071, '2642': 73092, '2643': 73104, '2644': 73132, '2645': 73171, '2646': 73482, '2647': 73509, '2648': 73539, '2649': 73561, '2650': 73568, '2651': 73575, '2652': 73595, '2653': 73706, '2654': 73753, '2655': 73784, '2656': 73858, '2657': 73896, '2658': 73950, '2659': 73986, '2660': 74007, '2661': 74038, '2662': 74077, '2663': 74084, '2664': 74128, '2665': 74190, '2666': 74285, '2667': 74337, '2668': 74452, '2669': 74483, '2670': 74565, '2671': 74619, '2672': 74638, '2673': 74645, '2674': 74672, '2675': 74724, '2676': 74778, '2677': 74800, '2678': 74837, '2679': 74862, '2680': 74883, '2681': 74890, '2682': 74925, '2683': 74950, '2684': 74964, '2685': 74965, '2686': 74975, '2687': 74988, '2688': 75013, '2689': 75045, '2690': 75058, '2691': 75070, '2692': 75097, '2693': 75142, '2694': 75177, '2695': 75215, '2696': 75257, '2697': 75281, '2698': 75298, '2699': 75307, '2700': 75324, '2701': 75330, '2702': 75351, '2703': 75376, '2704': 75410, '2705': 75432, '2706': 75460, '2707': 75470, '2708': 75496, '2709': 75499, '2710': 75513, '2711': 75523, '2712': 75544, '2713': 75577, '2714': 75645, '2715': 75735, '2716': 75747, '2717': 75753, '2718': 75787, '2719': 75806, '2720': 75828, '2721': 75863, '2722': 75870, '2723': 75875, '2724': 75891, '2725': 75932, '2726': 75972, '2727': 75987, '2728': 76006, '2729': 76011, '2730': 76020, '2731': 76039, '2732': 76046, '2733': 76065, '2734': 76085, '2735': 76103, '2736': 76173, '2737': 76188, '2738': 76204, '2739': 76215, '2740': 76256, '2741': 76264, '2742': 76277, '2743': 76290, '2744': 76303, '2745': 76319, '2746': 76377, '2747': 76432, '2748': 76446, '2749': 76452, '2750': 76474, '2751': 76481, '2752': 76503, '2753': 76529, '2754': 76596, '2755': 76639, '2756': 76665, '2757': 76678, '2758': 76710, '2759': 76715, '2760': 76732, '2761': 76766, '2762': 76790, '2763': 76807, '2764': 76826, '2765': 76833, '2766': 76845, '2767': 76907, '2768': 76918, '2769': 76932, '2770': 76941, '2771': 76948, '2772': 77090, '2773': 77123, '2774': 77132, '2775': 77177, '2776': 77205, '2777': 77230, '2778': 77236, '2779': 77247, '2780': 77262, '2781': 77288, '2782': 77289, '2783': 77318, '2784': 77340, '2785': 77382, '2786': 77397, '2787': 77423, '2788': 77466, '2789': 77550, '2790': 77616, '2791': 77641, '2792': 77667, '2793': 77714, '2794': 77731, '2795': 77764, '2796': 77822, '2797': 77855, '2798': 77871, '2799': 77878, '2800': 77898, '2801': 77908, '2802': 77938, '2803': 77945, '2804': 77986, '2805': 77996, '2806': 78012, '2807': 78028, '2808': 78029, '2809': 78039, '2810': 78058, '2811': 78123, '2812': 78141, '2813': 78160, '2814': 78236, '2815': 78249, '2816': 78259, '2817': 78275, '2818': 78294, '2819': 78314, '2820': 78322, '2821': 78330, '2822': 78368, '2823': 78411, '2824': 78433, '2825': 78438, '2826': 78443, '2827': 78468, '2828': 78492, '2829': 78510, '2830': 78550, '2831': 78585, '2832': 78602, '2833': 78603, '2834': 78626, '2835': 78650, '2836': 78655, '2837': 78656, '2838': 78698, '2839': 78722, '2840': 78749, '2841': 78770, '2842': 78804, '2843': 78805, '2844': 78820, '2845': 78845, '2846': 78848, '2847': 78873, '2848': 78884, '2849': 78897, '2850': 78962, '2851': 78992, '2852': 79001, '2853': 79002, '2854': 79033, '2855': 79039, '2856': 79070, '2857': 79102, '2858': 79180, '2859': 79280, '2860': 79296, '2861': 79338, '2862': 79356, '2863': 79361, '2864': 79397, '2865': 79446, '2866': 79474, '2867': 79501, '2868': 79520, '2869': 79552, '2870': 79592, '2871': 79619, '2872': 79716, '2873': 79737, '2874': 79748, '2875': 79774, '2876': 79811, '2877': 79821, '2878': 79841, '2879': 79849, '2880': 79899, '2881': 79910, '2882': 79941, '2883': 79952, '2884': 79974, '2885': 80000, '2886': 80008, '2887': 80015, '2888': 80041, '2889': 80049, '2890': 80060, '2891': 80066, '2892': 80074, '2893': 80085, '2894': 80105, '2895': 80109, '2896': 80134, '2897': 80150, '2898': 80160, '2899': 80178, '2900': 80205, '2901': 80224, '2902': 80234, '2903': 80254, '2904': 80271, '2905': 80278, '2906': 80285, '2907': 80292, '2908': 80310, '2909': 80348, '2910': 80430, '2911': 80458, '2912': 80480, '2913': 80504, '2914': 80524, '2915': 80558, '2916': 80610, '2917': 80614, '2918': 80620, '2919': 80643, '2920': 80669, '2921': 80696, '2922': 80708, '2923': 80722, '2924': 80775, '2925': 80816, '2926': 80821, '2927': 80836, '2928': 80874, '2929': 80898, '2930': 80901, '2931': 80903, '2932': 80937, '2933': 80949, '2934': 80977, '2935': 81007, '2936': 81010, '2937': 81029, '2938': 81045, '2939': 81086, '2940': 81093, '2941': 81124, '2942': 81135, '2943': 81171, '2944': 81187, '2945': 81196, '2946': 81213, '2947': 81250, '2948': 81274, '2949': 81291, '2950': 81341, '2951': 81393, '2952': 81402, '2953': 81412, '2954': 81447, '2955': 81464, '2956': 81480, '2957': 81746, '2958': 81749, '2959': 81762, '2960': 81771, '2961': 81782, '2962': 81799, '2963': 81809, '2964': 81826, '2965': 81831, '2966': 81926, '2967': 81953, '2968': 82030, '2969': 82068, '2970': 82098, '2971': 82125, '2972': 82142, '2973': 82172, '2974': 82202, '2975': 82232, '2976': 82282, '2977': 82316, '2978': 82373, '2979': 82375, '2980': 82377, '2981': 82414, '2982': 82426, '2983': 82471, '2984': 82514, '2985': 82545, '2986': 82565, '2987': 82579, '2988': 82603, '2989': 82624, '2990': 82637, '2991': 82655, '2992': 82692, '2993': 82704, '2994': 82713, '2995': 82718, '2996': 82744, '2997': 82760, '2998': 82766, '2999': 82798, '3000': 82822, '3001': 82866, '3002': 82951, '3003': 82957, '3004': 82998, '3005': 83006, '3006': 83035, '3007': 83038, '3008': 83048, '3009': 83071, '3010': 83105, '3011': 83139, '3012': 83214, '3013': 83229, '3014': 83385, '3015': 83417, '3016': 83438, '3017': 83464, '3018': 83486, '3019': 83545, '3020': 83580, '3021': 83592, '3022': 83610, '3023': 83637, '3024': 83707, '3025': 83728, '3026': 83785, '3027': 83823, '3028': 83827, '3029': 83848, '3030': 83892, '3031': 83901, '3032': 83906, '3033': 83931, '3034': 83957, '3035': 83965, '3036': 83971, '3037': 83985, '3038': 83994, '3039': 84081, '3040': 84168, '3041': 84255, '3042': 84260, '3043': 84268, '3044': 84286, '3045': 84312, '3046': 84340, '3047': 84371, '3048': 84392, '3049': 84423, '3050': 84448, '3051': 84456, '3052': 84462, '3053': 84468, '3054': 84505, '3055': 84515, '3056': 84523, '3057': 84568, '3058': 84575, '3059': 84590, '3060': 84617, '3061': 84658, '3062': 84698, '3063': 84792, '3064': 84808, '3065': 84839, '3066': 84856, '3067': 84872, '3068': 84903, '3069': 84934, '3070': 84970, '3071': 85000, '3072': 85052, '3073': 85063, '3074': 85077, '3075': 85087, '3076': 85114, '3077': 85121, '3078': 85157, '3079': 85159, '3080': 85176, '3081': 85202, '3082': 85262, '3083': 85273, '3084': 85299, '3085': 85322, '3086': 85368, '3087': 85380, '3088': 85422, '3089': 85435, '3090': 85533, '3091': 85689, '3092': 85738, '3093': 85785, '3094': 85802, '3095': 85829, '3096': 85836, '3097': 85846, '3098': 85859, '3099': 85884, '3100': 85892, '3101': 85919, '3102': 85925, '3103': 85946, '3104': 85960, '3105': 85991, '3106': 86056, '3107': 86074, '3108': 86102, '3109': 86155, '3110': 86172, '3111': 86177, '3112': 86201, '3113': 86219, '3114': 86245, '3115': 86265, '3116': 86302, '3117': 86327, '3118': 86337, '3119': 86364, '3120': 86375, '3121': 86385, '3122': 86395, '3123': 86411, '3124': 86445, '3125': 86466, '3126': 86481, '3127': 86493, '3128': 86497, '3129': 86501, '3130': 86510, '3131': 86548, '3132': 86558, '3133': 86575, '3134': 86585, '3135': 86596, '3136': 86631, '3137': 86673, '3138': 86686, '3139': 86703, '3140': 86724, '3141': 86728, '3142': 86752, '3143': 86785, '3144': 86789, '3145': 86803, '3146': 86810, '3147': 86835, '3148': 86838, '3149': 86871, '3150': 86891, '3151': 86895, '3152': 86909, '3153': 86922, '3154': 86938, '3155': 86955, '3156': 86964, '3157': 86990, '3158': 87012, '3159': 87024, '3160': 87041, '3161': 87047, '3162': 87049, '3163': 87055, '3164': 87056, '3165': 87065, '3166': 87073, '3167': 87094, '3168': 87096, '3169': 87106, '3170': 87113, '3171': 87121, '3172': 87128, '3173': 87149, '3174': 87159, '3175': 87179, '3176': 87187, '3177': 87222, '3178': 87284, '3179': 87297, '3180': 87335, '3181': 87380, '3182': 87389, '3183': 87397, '3184': 87434, '3185': 87443, '3186': 87471, '3187': 87505, '3188': 87554, '3189': 87575, '3190': 87608, '3191': 87630, '3192': 87661, '3193': 87685, '3194': 87691, '3195': 87695, '3196': 87734, '3197': 87758, '3198': 87785, '3199': 87795, '3200': 87821, '3201': 87822, '3202': 87861, '3203': 87864, '3204': 87877, '3205': 87890, '3206': 87901, '3207': 87928, '3208': 87944, '3209': 87963, '3210': 87983, '3211': 87984, '3212': 87985, '3213': 88008, '3214': 88063, '3215': 88079, '3216': 88108, '3217': 88114, '3218': 88127, '3219': 88130, '3220': 88161, '3221': 88206, '3222': 88242, '3223': 88260, '3224': 88305, '3225': 88349, '3226': 88364, '3227': 88371, '3228': 88384, '3229': 88410, '3230': 88413, '3231': 88428, '3232': 88507, '3233': 88543, '3234': 88553, '3235': 88564, '3236': 88609, '3237': 88614, '3238': 88636, '3239': 88656, '3240': 88689, '3241': 88719, '3242': 88756, '3243': 88774, '3244': 88850, '3245': 88872, '3246': 88916, '3247': 88941, '3248': 88980, '3249': 89007, '3250': 89024, '3251': 89040, '3252': 89063, '3253': 89080, '3254': 89112, '3255': 89132, '3256': 89154, '3257': 89167, '3258': 89269, '3259': 89289, '3260': 89300, '3261': 89334, '3262': 89339, '3263': 89353, '3264': 89397, '3265': 89422, '3266': 89438, '3267': 89444, '3268': 89462, '3269': 89466, '3270': 89511, '3271': 89528, '3272': 89672, '3273': 89712, '3274': 89744, '3275': 89767, '3276': 89785, '3277': 89790, '3278': 89804, '3279': 89847, '3280': 89879, '3281': 89884, '3282': 89926, '3283': 89936, '3284': 89974, '3285': 90009, '3286': 90060, '3287': 90107, '3288': 90203, '3289': 90214, '3290': 90247, '3291': 90266, '3292': 90281, '3293': 90313, '3294': 90339, '3295': 90352, '3296': 90358, '3297': 90370, '3298': 90407, '3299': 90416, '3300': 90447, '3301': 90453, '3302': 90531, '3303': 90545, '3304': 90569, '3305': 90602, '3306': 90617, '3307': 90628, '3308': 90647, '3309': 90717, '3310': 90741, '3311': 90745, '3312': 90760, '3313': 90962, '3314': 90985, '3315': 91044, '3316': 91111, '3317': 91120, '3318': 91139, '3319': 91154, '3320': 91171, '3321': 91174, '3322': 91186, '3323': 91213, '3324': 91238, '3325': 91243, '3326': 91357, '3327': 91441, '3328': 91470, '3329': 91513, '3330': 91521, '3331': 91604, '3332': 91665, '3333': 91730, '3334': 91740, '3335': 91757, '3336': 91779, '3337': 91794, '3338': 91820, '3339': 91835, '3340': 91853, '3341': 91857, '3342': 91885, '3343': 91909, '3344': 91915, '3345': 91927, '3346': 91936, '3347': 91949, '3348': 91966, '3349': 92006, '3350': 92051, '3351': 92078, '3352': 92098, '3353': 92119, '3354': 92158, '3355': 92174, '3356': 92217, '3357': 92238, '3358': 92273, '3359': 92283, '3360': 92301, '3361': 92343, '3362': 92399, '3363': 92434, '3364': 92447, '3365': 92452, '3366': 92487, '3367': 92510, '3368': 92514, '3369': 92541, '3370': 92557, '3371': 92562, '3372': 92576, '3373': 92639, '3374': 92641, '3375': 92645, '3376': 92662, '3377': 92667, '3378': 92674, '3379': 92682, '3380': 92695, '3381': 92703, '3382': 92733, '3383': 92738, '3384': 92743, '3385': 92747, '3386': 92752, '3387': 92768, '3388': 92798, '3389': 92814, '3390': 92824, '3391': 92844, '3392': 92881, '3393': 92897, '3394': 92935, '3395': 92955, '3396': 92961, '3397': 92981, '3398': 93015, '3399': 93034, '3400': 93057, '3401': 93070, '3402': 93090, '3403': 93107, '3404': 93134, '3405': 93145, '3406': 93160, '3407': 93176, '3408': 93200, '3409': 93228, '3410': 93259, '3411': 93275, '3412': 93325, '3413': 93368, '3414': 93388, '3415': 93402, '3416': 93446, '3417': 93472, '3418': 93498, '3419': 93506, '3420': 93569, '3421': 93592, '3422': 93622, '3423': 93632, '3424': 93663, '3425': 93693, '3426': 93718, '3427': 93756, '3428': 93800, '3429': 93824, '3430': 93841, '3431': 93865, '3432': 93875, '3433': 93916, '3434': 93936, '3435': 93954, '3436': 93972, '3437': 93991, '3438': 94017, '3439': 94073, '3440': 94146, '3441': 94185, '3442': 94193, '3443': 94195, '3444': 94201, '3445': 94206, '3446': 94216, '3447': 94228, '3448': 94246, '3449': 94290, '3450': 94316, '3451': 94341, '3452': 94347, '3453': 94352, '3454': 94364, '3455': 94372, '3456': 94383, '3457': 94393, '3458': 94420, '3459': 94447, '3460': 94468, '3461': 94486, '3462': 94494, '3463': 94517, '3464': 94526, '3465': 94540, '3466': 94576, '3467': 94623, '3468': 94645, '3469': 94663, '3470': 94668, '3471': 94689, '3472': 94736, '3473': 94749, '3474': 94767, '3475': 94811, '3476': 94851, '3477': 95031, '3478': 95050, '3479': 95079, '3480': 95104, '3481': 95115, '3482': 95142, '3483': 95178, '3484': 95200, '3485': 95220, '3486': 95408, '3487': 95409, '3488': 95418, '3489': 95435, '3490': 95474, '3491': 95482, '3492': 95487, '3493': 95497, '3494': 95512, '3495': 95515, '3496': 95525, '3497': 95533, '3498': 95559, '3499': 95602, '3500': 95634, '3501': 95670, '3502': 95801, '3503': 96011, '3504': 96180, '3505': 96276, '3506': 96285, '3507': 96294, '3508': 96313, '3509': 96325, '3510': 96336, '3511': 96363, '3512': 96399, '3513': 96403, '3514': 96416, '3515': 96438, '3516': 96483, '3517': 96485, '3518': 96500, '3519': 96503, '3520': 96596, '3521': 96618, '3522': 96621, '3523': 96647, '3524': 96664, '3525': 96671, '3526': 96689, '3527': 96720, '3528': 96812, '3529': 96867, '3530': 96883, '3531': 96921, '3532': 96934, '3533': 96963, '3534': 96978, '3535': 96993, '3536': 97041, '3537': 97046, '3538': 97055, '3539': 97056, '3540': 97057, '3541': 97058, '3542': 97124, '3543': 97125, '3544': 97190, '3545': 97229, '3546': 97261, '3547': 97297, '3548': 97326, '3549': 97372, '3550': 97385, '3551': 97397, '3552': 97403, '3553': 97430, '3554': 97457, '3555': 97469, '3556': 97530, '3557': 97531, '3558': 97539, '3559': 97545, '3560': 97555, '3561': 97578, '3562': 97624, '3563': 97631, '3564': 97650, '3565': 97663, '3566': 97679, '3567': 97705, '3568': 97787, '3569': 97795, '3570': 97811, '3571': 97825, '3572': 97837, '3573': 97923, '3574': 97943, '3575': 97964, '3576': 97973, '3577': 97975, '3578': 97996, '3579': 98023, '3580': 98043, '3581': 98124, '3582': 98157, '3583': 98200, '3584': 98239, '3585': 98263, '3586': 98275, '3587': 98295, '3588': 98326, '3589': 98341, '3590': 98353, '3591': 98422, '3592': 98491, '3593': 98573, '3594': 98579, '3595': 98594, '3596': 98641, '3597': 98653, '3598': 98672, '3599': 98698, '3600': 98745, '3601': 98786, '3602': 98799, '3603': 98819, '3604': 98836, '3605': 98871, '3606': 98913, '3607': 98920, '3608': 98927, '3609': 98936, '3610': 98988, '3611': 99018, '3612': 99045, '3613': 99056, '3614': 99144, '3615': 99174, '3616': 99189, '3617': 99207, '3618': 99224, '3619': 99247, '3620': 99261, '3621': 99275, '3622': 99317, '3623': 99347, '3624': 99382, '3625': 99383, '3626': 99405, '3627': 99414, '3628': 99431, '3629': 99464, '3630': 99473, '3631': 99484, '3632': 99491, '3633': 99499, '3634': 99505, '3635': 99525, '3636': 99541, '3637': 99550, '3638': 99576, '3639': 99598, '3640': 99605, '3641': 99615, '3642': 99725, '3643': 99740, '3644': 99742, '3645': 99762, '3646': 99767, '3647': 99773, '3648': 99779, '3649': 99787, '3650': 99810, '3651': 99820, '3652': 99842, '3653': 99856, '3654': 99870, '3655': 99881, '3656': 99901, '3657': 99965, '3658': 99999}\n"
     ]
    }
   ],
   "source": [
    "print(passage_idx_lookup)"
   ]
  },
  {
   "cell_type": "code",
   "execution_count": 99,
   "metadata": {},
   "outputs": [],
   "source": [
    "def query_fits_passage(q_idx, c_idx):\n",
    "    '''Does the given collection index fit to a given query index?'''\n",
    "    q_id = queries.iloc[q_idx]['q_id']\n",
    "    d_id = collection.iloc[c_idx]['d_id']\n",
    "    return len(rels[(rels['q_id'] == q_id) & (rels['d_id'] == d_id)].values) > 0"
   ]
  },
  {
   "cell_type": "code",
   "execution_count": 100,
   "metadata": {},
   "outputs": [
    {
     "name": "stderr",
     "output_type": "stream",
     "text": [
      "Processing queries: 100%|███████████████████████████████████████████████████████████| 2608/2608 [09:00<00:00,  4.82it/s]\n"
     ]
    }
   ],
   "source": [
    "for query_id in tqdm(queries.head(10000)['q_id'], desc=\"Processing queries\"):\n",
    "    query_idx = query_idx_lookup[query_id]\n",
    "    query_embed = all_query_embeds[query_idx]\n",
    "\n",
    "    # Positive samples\n",
    "    positive_indices = set()\n",
    "    rels_for_query = rels[rels['q_id'] == query_id]\n",
    "    for passage_id in rels_for_query['d_id']:\n",
    "        if passage_id in passage_idx_lookup:\n",
    "            passage_idx = passage_idx_lookup[passage_id]\n",
    "            passage_embed = all_collection_embeds[passage_idx]\n",
    "            feature = np.concatenate((query_embed, passage_embed))\n",
    "            features.append(feature)\n",
    "            labels.append(1)\n",
    "            positive_indices.add(passage_idx)\n",
    "    \n",
    "    # Compute cosine similarity to get the top k nearest negative subsamples \n",
    "    cos_sim = 1 - cdist([query_embed], all_collection_embeds, metric='cosine').flatten()\n",
    "    \n",
    "    # Use a heap to find the top k nearest negative indices\n",
    "    top_k_indices = nlargest(subsampling_top_k + len(positive_indices), range(len(cos_sim)), key=lambda x: cos_sim[x])\n",
    "    negative_indices = top_k_indices[:subsampling_top_k]\n",
    "    \n",
    "    for passage_idx in negative_indices:\n",
    "        passage_embed = all_collection_embeds[passage_idx]\n",
    "        feature = np.concatenate((query_embed, passage_embed))\n",
    "        features.append(feature)\n",
    "        labels.append(0)"
   ]
  },
  {
   "cell_type": "code",
   "execution_count": 101,
   "metadata": {},
   "outputs": [],
   "source": [
    "features = np.array(features)\n",
    "labels = np.array(labels)"
   ]
  },
  {
   "cell_type": "code",
   "execution_count": 102,
   "metadata": {},
   "outputs": [],
   "source": [
    "# Ensure there are no NaNs or infinities in the data\n",
    "if np.any(np.isnan(features)) or np.any(np.isinf(features)):\n",
    "    raise ValueError(\"Input data contains NaNs or infinite values\")"
   ]
  },
  {
   "cell_type": "code",
   "execution_count": 103,
   "metadata": {},
   "outputs": [
    {
     "name": "stdout",
     "output_type": "stream",
     "text": [
      "(2610928, 1536)\n",
      "(2610928,)\n",
      "[1 0 0 0 0 0 0 0 0 0 0 0 0 0 0 0 0 0 0 0 0 0 0 0 0 0 0 0 0 0 0 0 0 0 0 0 0\n",
      " 0 0 0 0 0 0 0 0 0 0 0 0 0 0 0 0 0 0 0 0 0 0 0 0 0 0 0 0 0 0 0 0 0 0 0 0 0\n",
      " 0 0 0 0 0 0 0 0 0 0 0 0 0 0 0 0 0 0 0 0 0 0 0 0 0 0 0 0 0 0 0 0 0 0 0 0 0\n",
      " 0 0 0 0 0 0 0 0 0 0 0 0 0 0 0 0 0 0 0 0 0 0 0 0 0 0 0 0 0 0 0 0 0 0 0 0 0\n",
      " 0 0 0 0 0 0 0 0 0 0 0 0 0 0 0 0 0 0 0 0 0 0 0 0 0 0 0 0 0 0 0 0 0 0 0 0 0\n",
      " 0 0 0 0 0 0 0 0 0 0 0 0 0 0 0]\n",
      "Negative labels: 2608000\n",
      "Positive labels: 2928\n"
     ]
    }
   ],
   "source": [
    "print(features.shape)\n",
    "print(labels.shape)\n",
    "print(labels[:200])\n",
    "print('Negative labels: ' + str(len(list(filter(lambda x: x == 0, labels)))))\n",
    "print('Positive labels: ' + str(len(list(filter(lambda x: x > 0, labels)))))\n"
   ]
  },
  {
   "cell_type": "code",
   "execution_count": 104,
   "metadata": {},
   "outputs": [],
   "source": [
    "X_train, X_test, y_train, y_test = train_test_split(features, labels, test_size=0.1, random_state=42)"
   ]
  },
  {
   "cell_type": "code",
   "execution_count": 105,
   "metadata": {},
   "outputs": [
    {
     "name": "stdout",
     "output_type": "stream",
     "text": [
      "2349835\n",
      "2349835\n",
      "2349835\n",
      "261093\n"
     ]
    }
   ],
   "source": [
    "print(len(X_train))\n",
    "print(len(X_train))\n",
    "print(len(y_train))\n",
    "print(len(y_test))"
   ]
  },
  {
   "cell_type": "markdown",
   "metadata": {},
   "source": [
    "**Even with subsampling, we still have a class imbalance. Counter that:**\n",
    "\n",
    "*Update*: Yikes, RAPIDS doesn't support passing the class_weights into the SVR yet."
   ]
  },
  {
   "cell_type": "code",
   "execution_count": 106,
   "metadata": {},
   "outputs": [],
   "source": [
    "# Compute class weights to handle imbalance\n",
    "# class_weights = compute_class_weight('balanced', classes=np.unique(y_train), y=y_train)\n",
    "# class_weights_dict = {i: class_weights[i] for i in range(len(class_weights))}"
   ]
  },
  {
   "cell_type": "markdown",
   "metadata": {},
   "source": [
    "### Bagging\n",
    "\n",
    "We have too many features and datapoints, which a single SVR can't handle on this machine. Instead, I'm going to:\n",
    "\n",
    "- Train X different SVR using a portion of the rows\n",
    "- Ensemble the SVRs\n",
    "- In that way duplicate the bagging of Random Forest"
   ]
  },
  {
   "cell_type": "code",
   "execution_count": 107,
   "metadata": {},
   "outputs": [],
   "source": [
    "# Helper function to create random subsets with overlap\n",
    "def create_subsets(X, y, num_subsets, overlap_percentage):\n",
    "    subsets = []\n",
    "    subset_size = int((len(X) // num_subsets) * overlap_percentage)\n",
    "    num_samples = len(X)\n",
    "    \n",
    "    for _ in range(num_subsets):\n",
    "        subset_indices = np.random.choice(num_samples, size=subset_size, replace=True)\n",
    "        X_subset = X[subset_indices]\n",
    "        y_subset = y[subset_indices]\n",
    "        subsets.append((X_subset, y_subset))\n",
    "    \n",
    "    return subsets"
   ]
  },
  {
   "cell_type": "code",
   "execution_count": 108,
   "metadata": {},
   "outputs": [],
   "source": [
    "# Logging function to track progress\n",
    "def log_progress(model, X_val, y_val):\n",
    "    y_pred = model.predict(X_val)\n",
    "    y_pred_binary = (y_pred > 0.5).astype(int)\n",
    "    \n",
    "    precision = precision_score(y_val, y_pred_binary)\n",
    "    recall = recall_score(y_val, y_pred_binary)\n",
    "    f1 = f1_score(y_val, y_pred_binary)\n",
    "    accuracy = accuracy_score(y_val, y_pred_binary)\n",
    "    \n",
    "    print(f'  Accuracy: {accuracy:.4f}')\n",
    "    print(f'  Precision: {precision:.4f}')\n",
    "    print(f'  Recall: {recall:.4f}')\n",
    "    print(f'  F1 Score: {f1:.4f}')"
   ]
  },
  {
   "cell_type": "code",
   "execution_count": 109,
   "metadata": {},
   "outputs": [],
   "source": [
    "gpu_scaler = cumlStandardScaler()"
   ]
  },
  {
   "cell_type": "code",
   "execution_count": 110,
   "metadata": {},
   "outputs": [],
   "source": [
    "# Standardize the data\n",
    "X_train_scaled = gpu_scaler.fit_transform(X_train)\n",
    "X_test_scaled = gpu_scaler.transform(X_test)"
   ]
  },
  {
   "cell_type": "code",
   "execution_count": 111,
   "metadata": {},
   "outputs": [
    {
     "name": "stdout",
     "output_type": "stream",
     "text": [
      "20\n",
      "187985\n"
     ]
    }
   ],
   "source": [
    "num_subsets = 20\n",
    "subsets = create_subsets(X_train_scaled, y_train, num_subsets, 1.6)\n",
    "\n",
    "print(len(subsets))\n",
    "print(len(subsets[0][0]))"
   ]
  },
  {
   "cell_type": "markdown",
   "metadata": {},
   "source": [
    "**Train SVR foreach subset**"
   ]
  },
  {
   "cell_type": "code",
   "execution_count": 112,
   "metadata": {},
   "outputs": [],
   "source": [
    "svr_models = []\n",
    "tqdm._instances.clear()"
   ]
  },
  {
   "cell_type": "code",
   "execution_count": 113,
   "metadata": {},
   "outputs": [
    {
     "name": "stdout",
     "output_type": "stream",
     "text": [
      "Training SVR model 1/20\n",
      "  Accuracy: 1.0000\n",
      "  Precision: 1.0000\n",
      "  Recall: 0.9799\n",
      "  F1 Score: 0.9898\n",
      "Training SVR model 2/20\n",
      "  Accuracy: 0.9999\n",
      "  Precision: 1.0000\n",
      "  Recall: 0.9530\n",
      "  F1 Score: 0.9759\n",
      "Training SVR model 3/20\n",
      "  Accuracy: 1.0000\n",
      "  Precision: 1.0000\n",
      "  Recall: 0.9650\n",
      "  F1 Score: 0.9822\n",
      "Training SVR model 4/20\n",
      "  Accuracy: 1.0000\n",
      "  Precision: 1.0000\n",
      "  Recall: 0.9589\n",
      "  F1 Score: 0.9790\n",
      "Training SVR model 5/20\n",
      "  Accuracy: 0.9999\n",
      "  Precision: 1.0000\n",
      "  Recall: 0.9476\n",
      "  F1 Score: 0.9731\n",
      "Training SVR model 6/20\n",
      "  Accuracy: 1.0000\n",
      "  Precision: 1.0000\n",
      "  Recall: 0.9575\n",
      "  F1 Score: 0.9783\n",
      "Training SVR model 7/20\n",
      "  Accuracy: 0.9999\n",
      "  Precision: 1.0000\n",
      "  Recall: 0.9312\n",
      "  F1 Score: 0.9644\n",
      "Training SVR model 8/20\n",
      "  Accuracy: 0.9999\n",
      "  Precision: 1.0000\n",
      "  Recall: 0.9552\n",
      "  F1 Score: 0.9771\n",
      "Training SVR model 9/20\n",
      "  Accuracy: 0.9999\n",
      "  Precision: 1.0000\n",
      "  Recall: 0.9459\n",
      "  F1 Score: 0.9722\n",
      "Training SVR model 10/20\n",
      "  Accuracy: 0.9999\n",
      "  Precision: 1.0000\n",
      "  Recall: 0.9556\n",
      "  F1 Score: 0.9773\n",
      "Training SVR model 11/20\n",
      "  Accuracy: 0.9999\n",
      "  Precision: 1.0000\n",
      "  Recall: 0.9495\n",
      "  F1 Score: 0.9741\n",
      "Training SVR model 12/20\n",
      "  Accuracy: 0.9999\n",
      "  Precision: 1.0000\n",
      "  Recall: 0.9505\n",
      "  F1 Score: 0.9746\n",
      "Training SVR model 13/20\n",
      "  Accuracy: 1.0000\n",
      "  Precision: 1.0000\n",
      "  Recall: 0.9786\n",
      "  F1 Score: 0.9892\n",
      "Training SVR model 14/20\n",
      "  Accuracy: 1.0000\n",
      "  Precision: 1.0000\n",
      "  Recall: 0.9692\n",
      "  F1 Score: 0.9843\n",
      "Training SVR model 15/20\n",
      "  Accuracy: 1.0000\n",
      "  Precision: 1.0000\n",
      "  Recall: 0.9567\n",
      "  F1 Score: 0.9779\n",
      "Training SVR model 16/20\n",
      "  Accuracy: 1.0000\n",
      "  Precision: 1.0000\n",
      "  Recall: 0.9787\n",
      "  F1 Score: 0.9892\n",
      "Training SVR model 17/20\n",
      "  Accuracy: 1.0000\n",
      "  Precision: 1.0000\n",
      "  Recall: 0.9579\n",
      "  F1 Score: 0.9785\n",
      "Training SVR model 18/20\n",
      "  Accuracy: 1.0000\n",
      "  Precision: 1.0000\n",
      "  Recall: 0.9593\n",
      "  F1 Score: 0.9792\n",
      "Training SVR model 19/20\n",
      "  Accuracy: 1.0000\n",
      "  Precision: 1.0000\n",
      "  Recall: 0.9868\n",
      "  F1 Score: 0.9933\n",
      "Training SVR model 20/20\n",
      "  Accuracy: 1.0000\n",
      "  Precision: 1.0000\n",
      "  Recall: 0.9600\n",
      "  F1 Score: 0.9796\n"
     ]
    }
   ],
   "source": [
    "for i, (X_subset, y_subset) in enumerate(subsets):\n",
    "    print(f'Training SVR model {i+1}/{num_subsets}')\n",
    "    svr = cumlSVR(kernel='rbf')\n",
    "    svr.fit(X_subset, y_subset)\n",
    "    log_progress(svr, X_subset, y_subset)\n",
    "    svr_models.append(svr)"
   ]
  },
  {
   "cell_type": "code",
   "execution_count": 114,
   "metadata": {},
   "outputs": [
    {
     "name": "stdout",
     "output_type": "stream",
     "text": [
      "Ensemble of SVR models saved to ensemble_svr_models.pkl\n"
     ]
    }
   ],
   "source": [
    "# Save the ensembl\n",
    "ensemble_filename = 'ensemble_svr_models.pkl'\n",
    "with open(ensemble_filename, 'wb') as file:\n",
    "    pickle.dump(svr_models, file)\n",
    "\n",
    "print(f'Ensemble of SVR models saved to {ensemble_filename}')"
   ]
  },
  {
   "cell_type": "code",
   "execution_count": 115,
   "metadata": {},
   "outputs": [
    {
     "name": "stdout",
     "output_type": "stream",
     "text": [
      "Ensemble of SVR models loaded from file\n"
     ]
    }
   ],
   "source": [
    "# Load the ensemble of models from the file\n",
    "with open('ensemble_svr_models.pkl', 'rb') as file:\n",
    "    loaded_svr_models = pickle.load(file)\n",
    "\n",
    "print('Ensemble of SVR models loaded from file')"
   ]
  },
  {
   "cell_type": "markdown",
   "metadata": {},
   "source": [
    "**Prediction method for the ensemble:**"
   ]
  },
  {
   "cell_type": "code",
   "execution_count": 151,
   "metadata": {},
   "outputs": [],
   "source": [
    "def ensemble_predict(svr_models, X, threshold=0.5, proof=1):\n",
    "    predictions = np.zeros((len(svr_models), len(X)))\n",
    "    \n",
    "    for i, svr in enumerate(svr_models):\n",
    "        predictions[i] = svr.predict(X)\n",
    "    \n",
    "    # Count votes for each sample\n",
    "    votes = np.sum(predictions > threshold, axis=0)\n",
    "    \n",
    "    # If more than half the models predict 1, return 1; otherwise, return 0\n",
    "    final_predictions = (votes >= proof).astype(int)\n",
    "    return final_predictions"
   ]
  },
  {
   "cell_type": "code",
   "execution_count": 152,
   "metadata": {},
   "outputs": [],
   "source": [
    "# Make predictions on the test set using the loaded ensemble of SVR models\n",
    "y_pred_binary = ensemble_predict(loaded_svr_models, X_test_scaled)"
   ]
  },
  {
   "cell_type": "code",
   "execution_count": 153,
   "metadata": {},
   "outputs": [
    {
     "name": "stdout",
     "output_type": "stream",
     "text": [
      "Test set accuracy: 1.0000\n",
      "Precision: 0.9850\n",
      "Recall: 0.9669\n",
      "F1-score: 0.9759\n",
      "Confusion Matrix:\n",
      "[[260817      4]\n",
      " [     9    263]]\n",
      "Classification Report:\n",
      "              precision    recall  f1-score   support\n",
      "\n",
      "           0       1.00      1.00      1.00    260821\n",
      "           1       0.99      0.97      0.98       272\n",
      "\n",
      "    accuracy                           1.00    261093\n",
      "   macro avg       0.99      0.98      0.99    261093\n",
      "weighted avg       1.00      1.00      1.00    261093\n",
      "\n"
     ]
    }
   ],
   "source": [
    "accuracy = accuracy_score(y_test, y_pred_binary)\n",
    "precision = precision_score(y_test, y_pred_binary)\n",
    "recall = recall_score(y_test, y_pred_binary)\n",
    "f1 = f1_score(y_test, y_pred_binary)\n",
    "conf_matrix = confusion_matrix(y_test, y_pred_binary)\n",
    "class_report = classification_report(y_test, y_pred_binary)\n",
    "\n",
    "print(f'Test set accuracy: {accuracy:.4f}')\n",
    "print(f'Precision: {precision:.4f}')\n",
    "print(f'Recall: {recall:.4f}')\n",
    "print(f'F1-score: {f1:.4f}')\n",
    "print(f'Confusion Matrix:\\n{conf_matrix}')\n",
    "print(f'Classification Report:\\n{class_report}')"
   ]
  },
  {
   "cell_type": "code",
   "execution_count": 154,
   "metadata": {},
   "outputs": [
    {
     "data": {
      "image/png": "[encoded data removed]",
      "text/plain": [
       "<Figure size 800x600 with 2 Axes>"
      ]
     },
     "metadata": {},
     "output_type": "display_data"
    }
   ],
   "source": [
    "# Visualize the confusion matrix\n",
    "plt.figure(figsize=(8, 6))\n",
    "sns.heatmap(conf_matrix, annot=True, fmt='d', cmap='Blues', xticklabels=['Not Relevant', 'Relevant'], yticklabels=['Not Relevant', 'Relevant'])\n",
    "plt.xlabel('Predicted')\n",
    "plt.ylabel('Actual')\n",
    "plt.title('Confusion Matrix')\n",
    "plt.show()"
   ]
  },
  {
   "cell_type": "code",
   "execution_count": 155,
   "metadata": {},
   "outputs": [
    {
     "data": {
      "image/png": "[encoded data removed]",
      "text/plain": [
       "<Figure size 1000x600 with 1 Axes>"
      ]
     },
     "metadata": {},
     "output_type": "display_data"
    }
   ],
   "source": [
    "# Plotting SVR results (for regression)\n",
    "plt.figure(figsize=(10, 6))\n",
    "plt.scatter(y_test, y_pred, color='blue', alpha=0.3, label='SVR Predictions')\n",
    "plt.plot([y_test.min(), y_test.max()], [y_test.min(), y_test.max()], 'k--', lw=2, label='Perfect Prediction')\n",
    "plt.title('SVR Predictions vs Actual')\n",
    "plt.xlabel('Actual')\n",
    "plt.ylabel('Predicted')\n",
    "plt.legend()\n",
    "plt.grid(True)\n",
    "plt.show()"
   ]
  }
 ],
 "metadata": {
  "kernelspec": {
   "display_name": "Python 3 (ipykernel)",
   "language": "python",
   "name": "python3"
  },
  "language_info": {
   "codemirror_mode": {
    "name": "ipython",
    "version": 3
   },
   "file_extension": ".py",
   "mimetype": "text/x-python",
   "name": "python",
   "nbconvert_exporter": "python",
   "pygments_lexer": "ipython3",
   "version": "3.10.14"
  }
 },
 "nbformat": 4,
 "nbformat_minor": 2
}
