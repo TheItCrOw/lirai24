{
 "cells": [
  {
   "cell_type": "markdown",
   "metadata": {},
   "source": [
    "# About\n",
    "\n",
    "Applying the SVR Ensemble on Retrieval Task."
   ]
  },
  {
   "cell_type": "code",
   "execution_count": 44,
   "metadata": {},
   "outputs": [
    {
     "name": "stderr",
     "output_type": "stream",
     "text": [
      "/tmp/ipykernel_3117961/1415649699.py:16: DeprecationWarning: Importing display from IPython.core.display is deprecated since IPython 7.14, please import from IPython display\n",
      "  from IPython.core.display import display, HTML\n"
     ]
    }
   ],
   "source": [
    "import numpy as np\n",
    "import cupy as cp\n",
    "import pandas as pd\n",
    "import torch, torch.nn.functional as F\n",
    "import os\n",
    "import gc \n",
    "import seaborn as sns\n",
    "import matplotlib.pyplot as plt\n",
    "import pickle\n",
    "import cudf\n",
    "import cuml\n",
    "import numba.cuda\n",
    "\n",
    "from sklearn.model_selection import train_test_split\n",
    "from scipy.spatial.distance import cdist\n",
    "from IPython.core.display import display, HTML\n",
    "from sklearn.manifold import TSNE\n",
    "from heapq import nlargest\n",
    "from io import StringIO\n",
    "from tqdm.auto import tqdm\n",
    "from transformers import AutoModel,AutoTokenizer\n",
    "from sklearn.svm import SVR\n",
    "from sklearn.preprocessing import StandardScaler\n",
    "from sklearn.metrics import accuracy_score, precision_score, recall_score, f1_score, mean_squared_error\n",
    "from sklearn.model_selection import train_test_split\n",
    "from cuml.svm import SVR as cumlSVR\n",
    "from cuml.preprocessing import StandardScaler as cumlStandardScaler\n",
    "from sklearn.utils.class_weight import compute_class_weight\n",
    "from sklearn.metrics import accuracy_score, confusion_matrix, classification_report"
   ]
  },
  {
   "cell_type": "code",
   "execution_count": 45,
   "metadata": {},
   "outputs": [
    {
     "name": "stdout",
     "output_type": "stream",
     "text": [
      "cuda\n",
      "[<torch.cuda.device object at 0x7f720816ceb0>, <torch.cuda.device object at 0x7f720816dc60>]\n"
     ]
    }
   ],
   "source": [
    "pd.set_option('display.max_colwidth', None)\n",
    "\n",
    "device = torch.device('cuda' if torch.cuda.is_available() else 'cpu')\n",
    "available_gpus = [torch.cuda.device(i) for i in range(torch.cuda.device_count())]\n",
    "print(device)\n",
    "print(available_gpus)"
   ]
  },
  {
   "cell_type": "code",
   "execution_count": 46,
   "metadata": {},
   "outputs": [],
   "source": [
    "class Config:\n",
    "    GERDALIR_PATH = './data/GerDaLIR/'\n",
    "    EMBEDDINGS_DIRECTORY = './data/embeddings/'\n",
    "    COMBINED_EMBEDDINGS = './data/embeddings/test/combined_{TYPE}_.npy'\n",
    "    CHUNK_QUERIES = False"
   ]
  },
  {
   "cell_type": "markdown",
   "metadata": {},
   "source": [
    "# Read Data"
   ]
  },
  {
   "cell_type": "code",
   "execution_count": 47,
   "metadata": {},
   "outputs": [],
   "source": [
    "def read_tsv(file_path):\n",
    "    data = []\n",
    "    with open(file_path, 'r', encoding='utf8') as file:\n",
    "        for line in file:\n",
    "            columns = line.strip().split('\\t')\n",
    "            # Concatenate columns from index 1 onwards (since we have some broken rows)\n",
    "            concatenated_value = ''.join(columns[1:])\n",
    "            data.append((columns[0], concatenated_value))\n",
    "\n",
    "    df = pd.DataFrame(data, columns=['id', 'value'])\n",
    "    return df"
   ]
  },
  {
   "cell_type": "code",
   "execution_count": 48,
   "metadata": {},
   "outputs": [],
   "source": [
    "collection = read_tsv(Config.GERDALIR_PATH + 'collection/collection.tsv')\n",
    "collection.rename(columns={'id': 'd_id', 'value':'passage'}, inplace=True)\n",
    "collection.reset_index(inplace=True)\n",
    "\n",
    "rels = read_tsv(Config.GERDALIR_PATH + 'qrels/qrels.test.tsv')\n",
    "rels.rename(columns={'id': 'q_id', 'value': 'd_id'}, inplace=True)\n",
    "rels.reset_index(inplace=True)\n",
    "\n",
    "queries = read_tsv(Config.GERDALIR_PATH + 'queries/queries.test.tsv')\n",
    "queries.rename(columns={'id': 'q_id', 'value': 'query'}, inplace=True)\n",
    "queries.reset_index(inplace=True)"
   ]
  },
  {
   "cell_type": "code",
   "execution_count": 49,
   "metadata": {},
   "outputs": [
    {
     "data": {
      "text/html": [
       "<div>\n",
       "<style scoped>\n",
       "    .dataframe tbody tr th:only-of-type {\n",
       "        vertical-align: middle;\n",
       "    }\n",
       "\n",
       "    .dataframe tbody tr th {\n",
       "        vertical-align: top;\n",
       "    }\n",
       "\n",
       "    .dataframe thead th {\n",
       "        text-align: right;\n",
       "    }\n",
       "</style>\n",
       "<table border=\"1\" class=\"dataframe\">\n",
       "  <thead>\n",
       "    <tr style=\"text-align: right;\">\n",
       "      <th></th>\n",
       "      <th>index</th>\n",
       "      <th>q_id</th>\n",
       "      <th>query</th>\n",
       "    </tr>\n",
       "  </thead>\n",
       "  <tbody>\n",
       "    <tr>\n",
       "      <th>0</th>\n",
       "      <td>0</td>\n",
       "      <td>1</td>\n",
       "      <td>Die Antragsgegnerin kann den mit der Ordnungsverfügung vom [DATE] verfügten Widerruf und die Verpflichtung zur Herausgabe der Erlaubnisurkunde gegenüber der Antragstellerin im maßgeblichen Zeitpunkt der Behördenentscheidung</td>\n",
       "    </tr>\n",
       "    <tr>\n",
       "      <th>1</th>\n",
       "      <td>1</td>\n",
       "      <td>15</td>\n",
       "      <td>Hinsichtlich der Ermahnung wendet der Kläger ein, dass die Behörde für den Fall eines Wiederaufnahmeverfahrens verpflichtet sei, zuzuwarten, bis das Verfahren endgültig abgeschlossen ist. Dies gelte umso mehr, da es sich um einen Bußgeldbescheid aus dem Hause des Beklagten handele. Mit diesem Vorbringen setzt sich der Kläger schon nicht hinreichend mit den Ausführungen des Verwaltungsgerichts zur Bindung an rechtskräftige Entscheidungen nach [REF] auseinander, vgl. [REF] . Darüber hinaus steht die Ansicht des Verwaltungsgerichts in Einklang mit der zu dieser Frage ergangenen obergerichtlichen Rechtsprechung und Literatur. Der Betroffene muss den Bußgeldbescheid solange gegen sich gelten lassen, wie die Rechtskraft dieser Entscheidung nicht durch eine Wiedereinsetzung in den vorigen Stand oder eine Wiederaufnahme des gerichtlichen Verfahrens beseitigt wird.</td>\n",
       "    </tr>\n",
       "  </tbody>\n",
       "</table>\n",
       "</div>"
      ],
      "text/plain": [
       "   index q_id  \\\n",
       "0      0    1   \n",
       "1      1   15   \n",
       "\n",
       "                                                                                                                                                                                                                                                                                                                                                                                                                                                                                                                                                                                                                                                                                                                                                                                                                                                                                                  query  \n",
       "0                                                                                                                                                                                                                                                                                                                                                                                                                                                                                                                                                                                                                                                                       Die Antragsgegnerin kann den mit der Ordnungsverfügung vom [DATE] verfügten Widerruf und die Verpflichtung zur Herausgabe der Erlaubnisurkunde gegenüber der Antragstellerin im maßgeblichen Zeitpunkt der Behördenentscheidung  \n",
       "1  Hinsichtlich der Ermahnung wendet der Kläger ein, dass die Behörde für den Fall eines Wiederaufnahmeverfahrens verpflichtet sei, zuzuwarten, bis das Verfahren endgültig abgeschlossen ist. Dies gelte umso mehr, da es sich um einen Bußgeldbescheid aus dem Hause des Beklagten handele. Mit diesem Vorbringen setzt sich der Kläger schon nicht hinreichend mit den Ausführungen des Verwaltungsgerichts zur Bindung an rechtskräftige Entscheidungen nach [REF] auseinander, vgl. [REF] . Darüber hinaus steht die Ansicht des Verwaltungsgerichts in Einklang mit der zu dieser Frage ergangenen obergerichtlichen Rechtsprechung und Literatur. Der Betroffene muss den Bußgeldbescheid solange gegen sich gelten lassen, wie die Rechtskraft dieser Entscheidung nicht durch eine Wiedereinsetzung in den vorigen Stand oder eine Wiederaufnahme des gerichtlichen Verfahrens beseitigt wird.  "
      ]
     },
     "metadata": {},
     "output_type": "display_data"
    },
    {
     "data": {
      "text/plain": [
       "12298"
      ]
     },
     "metadata": {},
     "output_type": "display_data"
    },
    {
     "data": {
      "text/html": [
       "<div>\n",
       "<style scoped>\n",
       "    .dataframe tbody tr th:only-of-type {\n",
       "        vertical-align: middle;\n",
       "    }\n",
       "\n",
       "    .dataframe tbody tr th {\n",
       "        vertical-align: top;\n",
       "    }\n",
       "\n",
       "    .dataframe thead th {\n",
       "        text-align: right;\n",
       "    }\n",
       "</style>\n",
       "<table border=\"1\" class=\"dataframe\">\n",
       "  <thead>\n",
       "    <tr style=\"text-align: right;\">\n",
       "      <th></th>\n",
       "      <th>index</th>\n",
       "      <th>d_id</th>\n",
       "      <th>passage</th>\n",
       "    </tr>\n",
       "  </thead>\n",
       "  <tbody>\n",
       "    <tr>\n",
       "      <th>0</th>\n",
       "      <td>0</td>\n",
       "      <td>1</td>\n",
       "      <td>Tenor Der Antrag der Klägerin auf Zulassung der Berufung gegen das Urteil des Verwaltungsgerichts Gelsenkirchen vom [DATE] wird abgelehnt. Die Klägerin trägt die Kosten des Zulassungsverfahrens. Der Streitwert wird auch für das Zulassungsverfahren auf 0 Euro festgesetzt. Gründe:</td>\n",
       "    </tr>\n",
       "    <tr>\n",
       "      <th>1</th>\n",
       "      <td>1</td>\n",
       "      <td>1</td>\n",
       "      <td>Das Zulassungsvorbringen der Klägerin begründet keine ernstlichen Zweifel an der Richtigkeit des angefochtenen Urteils . Zweifel in diesem Sinn sind anzunehmen, wenn ein einzelner tragender Rechtssatz oder eine einzelne erhebliche Tatsachenfeststellung des Verwaltungsgerichts mit schlüssigen Gegenargumenten in Frage gestellt werden.</td>\n",
       "    </tr>\n",
       "  </tbody>\n",
       "</table>\n",
       "</div>"
      ],
      "text/plain": [
       "   index d_id  \\\n",
       "0      0    1   \n",
       "1      1    1   \n",
       "\n",
       "                                                                                                                                                                                                                                                                                                                                          passage  \n",
       "0                                                         Tenor Der Antrag der Klägerin auf Zulassung der Berufung gegen das Urteil des Verwaltungsgerichts Gelsenkirchen vom [DATE] wird abgelehnt. Die Klägerin trägt die Kosten des Zulassungsverfahrens. Der Streitwert wird auch für das Zulassungsverfahren auf 0 Euro festgesetzt. Gründe:  \n",
       "1  Das Zulassungsvorbringen der Klägerin begründet keine ernstlichen Zweifel an der Richtigkeit des angefochtenen Urteils . Zweifel in diesem Sinn sind anzunehmen, wenn ein einzelner tragender Rechtssatz oder eine einzelne erhebliche Tatsachenfeststellung des Verwaltungsgerichts mit schlüssigen Gegenargumenten in Frage gestellt werden.  "
      ]
     },
     "metadata": {},
     "output_type": "display_data"
    },
    {
     "data": {
      "text/plain": [
       "3095383"
      ]
     },
     "metadata": {},
     "output_type": "display_data"
    },
    {
     "data": {
      "text/html": [
       "<div>\n",
       "<style scoped>\n",
       "    .dataframe tbody tr th:only-of-type {\n",
       "        vertical-align: middle;\n",
       "    }\n",
       "\n",
       "    .dataframe tbody tr th {\n",
       "        vertical-align: top;\n",
       "    }\n",
       "\n",
       "    .dataframe thead th {\n",
       "        text-align: right;\n",
       "    }\n",
       "</style>\n",
       "<table border=\"1\" class=\"dataframe\">\n",
       "  <thead>\n",
       "    <tr style=\"text-align: right;\">\n",
       "      <th></th>\n",
       "      <th>index</th>\n",
       "      <th>q_id</th>\n",
       "      <th>d_id</th>\n",
       "    </tr>\n",
       "  </thead>\n",
       "  <tbody>\n",
       "    <tr>\n",
       "      <th>0</th>\n",
       "      <td>0</td>\n",
       "      <td>1</td>\n",
       "      <td>72511</td>\n",
       "    </tr>\n",
       "    <tr>\n",
       "      <th>1</th>\n",
       "      <td>1</td>\n",
       "      <td>15</td>\n",
       "      <td>12697</td>\n",
       "    </tr>\n",
       "  </tbody>\n",
       "</table>\n",
       "</div>"
      ],
      "text/plain": [
       "   index q_id   d_id\n",
       "0      0    1  72511\n",
       "1      1   15  12697"
      ]
     },
     "metadata": {},
     "output_type": "display_data"
    },
    {
     "data": {
      "text/plain": [
       "14394"
      ]
     },
     "metadata": {},
     "output_type": "display_data"
    }
   ],
   "source": [
    "display(queries.head(2))\n",
    "display(len(queries))\n",
    "\n",
    "display(collection.head(2))\n",
    "display(len(collection))\n",
    "\n",
    "display(rels.head(2))\n",
    "display(len(rels))"
   ]
  },
  {
   "cell_type": "markdown",
   "metadata": {},
   "source": [
    "# Postprocess"
   ]
  },
  {
   "cell_type": "code",
   "execution_count": 50,
   "metadata": {},
   "outputs": [],
   "source": [
    "def chunk_string_with_overlap(s, k, overlap):\n",
    "    if k <= 0:\n",
    "        raise ValueError(\"Chunk length must be greater than 0\")\n",
    "    if overlap < 0:\n",
    "        raise ValueError(\"Overlap must be non-negative\")\n",
    "    if overlap >= k:\n",
    "        raise ValueError(\"Overlap must be less than chunk length\")\n",
    "    \n",
    "    chunks = []\n",
    "    for i in range(0, len(s), k - overlap):\n",
    "        chunk = s[i:i + k]\n",
    "        chunks.append(chunk)\n",
    "        if len(chunk) < k:\n",
    "            break\n",
    "    \n",
    "    return chunks"
   ]
  },
  {
   "cell_type": "markdown",
   "metadata": {},
   "source": [
    "Average length of queries:"
   ]
  },
  {
   "cell_type": "code",
   "execution_count": 51,
   "metadata": {},
   "outputs": [
    {
     "name": "stdout",
     "output_type": "stream",
     "text": [
      "135.19986989754432\n",
      "1027.8997397950886\n"
     ]
    }
   ],
   "source": [
    "print(queries['query'].apply(lambda x: len(x.split())).mean())\n",
    "print(queries['query'].apply(lambda x: len(x)).mean())"
   ]
  },
  {
   "cell_type": "code",
   "execution_count": 52,
   "metadata": {},
   "outputs": [],
   "source": [
    "if(Config.CHUNK_QUERIES):\n",
    "    queries['query'] = queries['query'].apply(lambda q: chunk_string_with_overlap(q, 275, 15))\n",
    "    queries = queries.explode('query').reset_index(drop=True)\n",
    "    display(queries.head(10))\n",
    "    print(len(queries))"
   ]
  },
  {
   "cell_type": "markdown",
   "metadata": {},
   "source": [
    "# Embeddings\n",
    "\n",
    "The idea was taken from [Chris Deotte](https://www.kaggle.com/code/cdeotte/rapids-svr-starter-cv-0-830-lb-0-804) in the [Automatic Essay Scoring 2.0 competition](https://www.kaggle.com/competitions/learning-agency-lab-automated-essay-scoring-2) on kaggle."
   ]
  },
  {
   "cell_type": "code",
   "execution_count": 53,
   "metadata": {},
   "outputs": [],
   "source": [
    "def mean_pooling(model_output, attention_mask):\n",
    "    token_embeddings = model_output.last_hidden_state.detach().cpu()\n",
    "    input_mask_expanded = (\n",
    "        attention_mask.unsqueeze(-1).expand(token_embeddings.size()).float()\n",
    "    )\n",
    "    return torch.sum(token_embeddings * input_mask_expanded, 1) / torch.clamp(\n",
    "        input_mask_expanded.sum(1), min=1e-9\n",
    "    )"
   ]
  },
  {
   "cell_type": "code",
   "execution_count": 54,
   "metadata": {},
   "outputs": [],
   "source": [
    "class EmbedDataset(torch.utils.data.Dataset):\n",
    "    def __init__(self, df, tokenizer, max_length, text_col):\n",
    "        self.df = df.reset_index(drop=True)\n",
    "        self.tokenizer = tokenizer\n",
    "        self.text_col = text_col\n",
    "        self.max = max_length\n",
    "\n",
    "    def __len__(self):\n",
    "        return len(self.df)\n",
    "    \n",
    "    def __getitem__(self, idx):\n",
    "        text = self.df.loc[idx, self.text_col]\n",
    "        tokens = self.tokenizer(\n",
    "                text,\n",
    "                None,\n",
    "                add_special_tokens=True,\n",
    "                padding='max_length',\n",
    "                truncation=True,\n",
    "                max_length=self.max,\n",
    "                return_tensors=\"pt\")\n",
    "        tokens = {k:v.squeeze(0) for k,v in tokens.items()}\n",
    "        return tokens"
   ]
  },
  {
   "cell_type": "code",
   "execution_count": 55,
   "metadata": {},
   "outputs": [],
   "source": [
    "class EmbedderContainer:\n",
    "\n",
    "    def __init__(self, model_name, max_length, batch_size, device):\n",
    "        self.device = device\n",
    "        self.model_name = model_name\n",
    "        self.__model_path = model_name\n",
    "        self.__max_length = max_length\n",
    "        self.__batch_size = batch_size\n",
    "\n",
    "    def init_model(self):\n",
    "        self.__model = AutoModel.from_pretrained(self.__model_path, trust_remote_code=True).to(self.device)  #force_download=True\n",
    "        self.__model.eval()\n",
    "        self.__tokenizer = AutoTokenizer.from_pretrained(self.__model_path, trust_remote_code=True)  #force_download=True\n",
    "\n",
    "    def init_embed_dataset(self, df, text_col):\n",
    "        self.__dataset = EmbedDataset(df, self.__tokenizer, self.__max_length, text_col)\n",
    "        self.__embed_dataloader = torch.utils.data.DataLoader(self.__dataset,\n",
    "                                batch_size=self.__batch_size,\n",
    "                                shuffle=False)\n",
    "        return self.__embed_dataloader\n",
    "\n",
    "    def embed(self, input_ids, attention_mask):\n",
    "        return self.__model(input_ids=input_ids, attention_mask=attention_mask)\n",
    "\n",
    "    def dispose(self):\n",
    "        if hasattr(self, '__dataset'):\n",
    "            del self.__dataset\n",
    "        if hasattr(self, '__embed_dataloader'):\n",
    "            del self.__embed_dataloader\n",
    "        if hasattr(self, '__model'):\n",
    "            del self.__model\n",
    "        if hasattr(self, '__tokenizer'):\n",
    "            del self.__tokenizer\n",
    "        gc.collect()\n",
    "        torch.cuda.empty_cache()\n",
    "    "
   ]
  },
  {
   "cell_type": "code",
   "execution_count": 56,
   "metadata": {},
   "outputs": [],
   "source": [
    "def get_embeddings(embedding_container, compute_collection=True, compute_queries=False):\n",
    "\n",
    "    global collection, queries\n",
    "    embedding_container.init_model()\n",
    "\n",
    "    # COMPUTE COLLECTION EMBEDDINGS\n",
    "    all_collection_embeddings = []\n",
    "    if compute_collection:\n",
    "        # Create dataset for collection\n",
    "        embed_dataloader_tr = embedding_container.init_embed_dataset(collection, 'passage')\n",
    "        for batch in tqdm(embed_dataloader_tr,total=len(embed_dataloader_tr)):\n",
    "            input_ids = batch[\"input_ids\"].to(embedding_container.device)\n",
    "            attention_mask = batch[\"attention_mask\"].to(embedding_container.device)\n",
    "            with torch.no_grad():\n",
    "                with torch.cuda.amp.autocast(enabled=True):\n",
    "                    model_output = embedding_container.embed(input_ids, attention_mask)\n",
    "\n",
    "            sentence_embeddings = mean_pooling(model_output, attention_mask.detach().cpu())\n",
    "            # Normalize the embeddings\n",
    "            sentence_embeddings = F.normalize(sentence_embeddings, p=2, dim=1)\n",
    "            sentence_embeddings =  sentence_embeddings.squeeze(0).detach().cpu().numpy()\n",
    "            all_collection_embeddings.extend(sentence_embeddings)\n",
    "    all_collection_embeddings = np.array(all_collection_embeddings)\n",
    "\n",
    "    # COMPUTE QUERY EMBEDDINGS\n",
    "    all_query_embeddings = []\n",
    "    if compute_queries:\n",
    "        # Create dataset for query\n",
    "        embed_dataloader_te = embedding_container.init_embed_dataset(queries, 'query')\n",
    "        for batch in embed_dataloader_te:\n",
    "            input_ids = batch[\"input_ids\"].to(embedding_container.device)\n",
    "            attention_mask = batch[\"attention_mask\"].to(embedding_container.device)\n",
    "            with torch.no_grad():\n",
    "                with torch.cuda.amp.autocast(enabled=True):\n",
    "                    model_output = embedding_container.embed(input_ids, attention_mask)\n",
    "            sentence_embeddings = mean_pooling(model_output, attention_mask.detach().cpu())\n",
    "            # Normalize the embeddings\n",
    "            sentence_embeddings = F.normalize(sentence_embeddings, p=2, dim=1)\n",
    "            sentence_embeddings =  sentence_embeddings.squeeze(0).detach().cpu().numpy()\n",
    "            all_query_embeddings.extend(sentence_embeddings)\n",
    "    all_query_embeddings = np.array(all_query_embeddings)\n",
    "\n",
    "    # DISPOSE\n",
    "    if 'model_output' in locals():\n",
    "        del model_output\n",
    "    if 'sentence_embeddings' in locals():\n",
    "        del sentence_embeddings\n",
    "    if 'input_ids' in locals():\n",
    "        del input_ids\n",
    "    if 'attention_mask' in locals():\n",
    "        del attention_mask\n",
    "    embedding_container.dispose()\n",
    "\n",
    "    # RETURN EMBEDDINGS\n",
    "    return all_collection_embeddings, all_query_embeddings"
   ]
  },
  {
   "cell_type": "markdown",
   "metadata": {},
   "source": [
    "### Possible Embedding Models"
   ]
  },
  {
   "cell_type": "code",
   "execution_count": 57,
   "metadata": {},
   "outputs": [],
   "source": [
    "DEVICE = \"cuda:1\"\n",
    "\n",
    "container = [\n",
    "    EmbedderContainer('allenai/longformer-base-4096', 1024, 32, DEVICE),\n",
    "\n",
    "    # =========== Possible other models, longformer was the best though. ==============\n",
    "    #EmbedderContainer('microsoft/deberta-base', 1024, 32, DEVICE),\n",
    "    #EmbedderContainer('microsoft/deberta-large', 1024, 8, DEVICE),\n",
    "    #EmbedderContainer('microsoft/deberta-v3-large', 1024, 8, DEVICE),\n",
    "    #EmbedderContainer('LennartKeller/longformer-gottbert-base-8192-aw512', 1024, 32, DEVICE),\n",
    "    #EmbedderContainer('allenai/longformer-large-4096', 1024, 8, DEVICE),\n",
    "    #EmbedderContainer('google/bigbird-roberta-base', 1024, 32, DEVICE),\n",
    "    #EmbedderContainer('google/bigbird-roberta-large', 1024, 8, DEVICE),\n",
    "    # Sentence Transformers fine-tuned for sentence embeddings:\n",
    "    # EmbedderContainer('sentence-transformers/all-distilroberta-v1', 512, 32, DEVICE), # https://huggingface.co/sentence-transformers/all-distilroberta-v1\n",
    "    # EmbedderContainer('sentence-transformers/msmarco-distilbert-base-v4', 512, 32, DEVICE), # https://huggingface.co/sentence-transformers/msmarco-distilbert-base-v4\n",
    "    #EmbedderContainer('sentence-transformers/all-MiniLM-L6-v2', 384, 64, DEVICE), # https://huggingface.co/sentence-transformers/all-MiniLM-L6-v2\n",
    "]"
   ]
  },
  {
   "cell_type": "markdown",
   "metadata": {},
   "source": [
    "### Generate Embeddings"
   ]
  },
  {
   "cell_type": "code",
   "execution_count": 58,
   "metadata": {},
   "outputs": [],
   "source": [
    "all_collection_embeds = []\n",
    "all_query_embeds = []\n",
    "\n",
    "calculate = True"
   ]
  },
  {
   "cell_type": "code",
   "execution_count": 59,
   "metadata": {},
   "outputs": [],
   "source": [
    "if(os.path.exists(Config.COMBINED_EMBEDDINGS.replace('{TYPE}', 'collection_full'))):\n",
    "    all_collection_embeds = np.load(Config.COMBINED_EMBEDDINGS.replace('{TYPE}', 'collection_full'))\n",
    "    all_query_embeds = np.load(Config.COMBINED_EMBEDDINGS.replace('{TYPE}', 'query_train'))\n",
    "    calculate = False"
   ]
  },
  {
   "cell_type": "code",
   "execution_count": 60,
   "metadata": {},
   "outputs": [
    {
     "name": "stdout",
     "output_type": "stream",
     "text": [
      "Loading embeddings for ./data/embeddings/collection_allenai_longformer-base-4096.npy\n"
     ]
    },
    {
     "name": "stderr",
     "output_type": "stream",
     "text": [
      "/home/staff_homes/kboenisc/miniconda3/envs/rapids-24.06/lib/python3.10/site-packages/huggingface_hub/file_download.py:1132: FutureWarning: `resume_download` is deprecated and will be removed in version 1.0.0. Downloads always resume when possible. If you want to force a new download, use `force_download=True`.\n",
      "  warnings.warn(\n"
     ]
    }
   ],
   "source": [
    "if(calculate):\n",
    "    for embedding_container in container:\n",
    "        name = (Config.EMBEDDINGS_DIRECTORY + \n",
    "                'collection_' + \n",
    "                embedding_container.model_name.replace(\"/\", \"_\") + \n",
    "                \".npy\")\n",
    "        \n",
    "        if os.path.exists(name):\n",
    "            print(f\"Loading embeddings for {name}\")\n",
    "            _, query_embed = get_embeddings(embedding_container, compute_collection=False, compute_queries=True)\n",
    "            collection_embed = np.load(name)\n",
    "        else:\n",
    "            print(f\"Computing embeddings for {name}\") \n",
    "            collection_embed, query_embed = get_embeddings(embedding_container, compute_collection=True, compute_queries=True)\n",
    "            np.save(name, collection_embed)\n",
    "        all_collection_embeds.append(collection_embed)\n",
    "        all_query_embeds.append(query_embed)\n",
    "\n",
    "    del collection_embed, query_embed"
   ]
  },
  {
   "cell_type": "code",
   "execution_count": 61,
   "metadata": {},
   "outputs": [],
   "source": [
    "if(calculate):\n",
    "    all_collection_embeds = np.concatenate(all_collection_embeds,axis=1)\n",
    "    all_query_embeds = np.concatenate(all_query_embeds,axis=1)"
   ]
  },
  {
   "cell_type": "code",
   "execution_count": 62,
   "metadata": {},
   "outputs": [
    {
     "name": "stdout",
     "output_type": "stream",
     "text": [
      "(3095383, 768)\n",
      "(12298, 768)\n"
     ]
    }
   ],
   "source": [
    "print(all_collection_embeds.shape)\n",
    "print(all_query_embeds.shape)"
   ]
  },
  {
   "cell_type": "code",
   "execution_count": 63,
   "metadata": {},
   "outputs": [
    {
     "data": {
      "text/plain": [
       "11"
      ]
     },
     "execution_count": 63,
     "metadata": {},
     "output_type": "execute_result"
    }
   ],
   "source": [
    "gc.collect()"
   ]
  },
  {
   "cell_type": "code",
   "execution_count": 64,
   "metadata": {},
   "outputs": [],
   "source": [
    "if(calculate):\n",
    "    np.save(Config.COMBINED_EMBEDDINGS.replace('{TYPE}', 'collection_full'), all_collection_embeds)\n",
    "    np.save(Config.COMBINED_EMBEDDINGS.replace('{TYPE}', 'query_train'), all_query_embeds)"
   ]
  },
  {
   "cell_type": "markdown",
   "metadata": {},
   "source": [
    "# Inference"
   ]
  },
  {
   "cell_type": "code",
   "execution_count": 65,
   "metadata": {},
   "outputs": [],
   "source": [
    "features = []\n",
    "labels = []\n",
    "calculate_feat = True\n",
    "\n",
    "if(os.path.exists(Config.COMBINED_EMBEDDINGS.replace('{TYPE}', 'features'))):\n",
    "    features = np.load(Config.COMBINED_EMBEDDINGS.replace('{TYPE}', 'features'))\n",
    "    labels = np.load(Config.COMBINED_EMBEDDINGS.replace('{TYPE}', 'labels'))\n",
    "    calculate_feat = False\n",
    "\n",
    "subsampling_top_k = 50\n",
    "\n",
    "# query_idx_lookup = {qid: idx for idx, qid in enumerate(queries['q_id'])}\n",
    "passage_idx_lookup = {pid: idx for idx, pid in enumerate(collection['d_id'])}"
   ]
  },
  {
   "cell_type": "code",
   "execution_count": 66,
   "metadata": {},
   "outputs": [],
   "source": [
    "def query_fits_passage(q_idx, c_idx):\n",
    "    '''Does the given collection index fit to a given query index?'''\n",
    "    q_id = queries.iloc[q_idx]['q_id']\n",
    "    d_id = collection.iloc[c_idx]['d_id']\n",
    "    return len(rels[(rels['q_id'] == q_id) & (rels['d_id'] == d_id)].values) > 0"
   ]
  },
  {
   "cell_type": "markdown",
   "metadata": {},
   "source": [
    "**Convert to cupy arrays for faster GPU cosine sims**"
   ]
  },
  {
   "cell_type": "code",
   "execution_count": 67,
   "metadata": {},
   "outputs": [],
   "source": [
    "if(calculate_feat):\n",
    "    all_query_embeds_cp = cp.asarray(all_query_embeds, dtype=cp.float16) \n",
    "    all_collection_embeds_cp = cp.asarray(all_collection_embeds, dtype=cp.float16)"
   ]
  },
  {
   "cell_type": "code",
   "execution_count": 68,
   "metadata": {},
   "outputs": [
    {
     "name": "stderr",
     "output_type": "stream",
     "text": [
      "Processing Queries:   0%|                                                                     | 0/12298 [00:00<?, ?it/s]"
     ]
    },
    {
     "name": "stderr",
     "output_type": "stream",
     "text": [
      "Processing Queries: 100%|█████████████████████████████████████████████████████████| 12298/12298 [03:06<00:00, 65.88it/s]\n"
     ]
    }
   ],
   "source": [
    "# Loop through queries\n",
    "if(calculate_feat):\n",
    "    for q_idx, row in tqdm(queries.iterrows(), total=len(queries), desc='Processing Queries'):\n",
    "        query_id = row['q_id']\n",
    "        query_embed_cp = all_query_embeds_cp[q_idx]\n",
    "\n",
    "        # Positive samples\n",
    "        positive_indices = set()\n",
    "        rels_for_query = rels[rels['q_id'] == query_id]\n",
    "        for passage_id in rels_for_query['d_id']:\n",
    "            if passage_id in passage_idx_lookup:\n",
    "                passage_idx = passage_idx_lookup[passage_id]\n",
    "                passage_embed_cp = all_collection_embeds_cp[passage_idx]\n",
    "\n",
    "                # Convert CuPy arrays back to NumPy\n",
    "                query_embed_np = cp.asnumpy(query_embed_cp)\n",
    "                passage_embed_np = cp.asnumpy(passage_embed_cp)\n",
    "\n",
    "                # Concatenate using NumPy\n",
    "                feature_np = np.concatenate((query_embed_np, passage_embed_np))\n",
    "                features.append(feature_np)  # Append NumPy array\n",
    "                labels.append(1)\n",
    "                positive_indices.add(passage_idx)\n",
    "        \n",
    "        # Compute cosine similarity on GPU\n",
    "        cos_sim_cp = 1 - cp.matmul(query_embed_cp, all_collection_embeds_cp.T)\n",
    "        top_k_indices = cp.asnumpy(cp.argpartition(cos_sim_cp, subsampling_top_k + len(positive_indices))[:subsampling_top_k + len(positive_indices)])\n",
    "        negative_indices = top_k_indices[:subsampling_top_k]\n",
    "\n",
    "        for passage_idx in negative_indices:\n",
    "            passage_embed_cp = all_collection_embeds_cp[passage_idx]\n",
    "\n",
    "            # Convert CuPy arrays back to NumPy\n",
    "            query_embed_np = cp.asnumpy(query_embed_cp)\n",
    "            passage_embed_np = cp.asnumpy(passage_embed_cp)\n",
    "\n",
    "            # Concatenate using NumPy\n",
    "            feature_np = np.concatenate((query_embed_np, passage_embed_np)).astype(np.float16)\n",
    "            features.append(feature_np)  # Append NumPy array\n",
    "            labels.append(0)\n"
   ]
  },
  {
   "cell_type": "code",
   "execution_count": 69,
   "metadata": {},
   "outputs": [],
   "source": [
    "if(calculate_feat):\n",
    "    features = np.array(features)\n",
    "    labels = np.array(labels) "
   ]
  },
  {
   "cell_type": "code",
   "execution_count": 70,
   "metadata": {},
   "outputs": [
    {
     "name": "stdout",
     "output_type": "stream",
     "text": [
      "float16\n"
     ]
    }
   ],
   "source": [
    "print(features.dtype)"
   ]
  },
  {
   "cell_type": "code",
   "execution_count": 71,
   "metadata": {},
   "outputs": [],
   "source": [
    "if(calculate_feat):\n",
    "    np.save(Config.COMBINED_EMBEDDINGS.replace('{TYPE}', 'features'), features)\n",
    "    np.save(Config.COMBINED_EMBEDDINGS.replace('{TYPE}', 'labels'), labels)"
   ]
  },
  {
   "cell_type": "code",
   "execution_count": 72,
   "metadata": {},
   "outputs": [
    {
     "name": "stdout",
     "output_type": "stream",
     "text": [
      "(629294, 1536)\n",
      "(629294,)\n",
      "[1 0 0 0 0 0 0 0 0 0 0 0 0 0 0 0 0 0 0 0 0 0 0 0 0 0 0 0 0 0 0 0 0 0 0 0 0\n",
      " 0 0 0 0 0 0 0 0 0 0 0 0 0 0 1 0 0 0 0 0 0 0 0 0 0 0 0 0 0 0 0 0 0 0 0 0 0\n",
      " 0 0 0 0 0 0 0 0 0 0 0 0 0 0 0 0 0 0 0 0 0 0 0 0 0 0 0 0 1 0 0 0 0 0 0 0 0\n",
      " 0 0 0 0 0 0 0 0 0 0 0 0 0 0 0 0 0 0 0 0 0 0 0 0 0 0 0 0 0 0 0 0 0 0 0 0 0\n",
      " 0 0 0 0 0 1 0 0 0 0 0 0 0 0 0 0 0 0 0 0 0 0 0 0 0 0 0 0 0 0 0 0 0 0 0 0 0\n",
      " 0 0 0 0 0 0 0 0 0 0 0 0 0 0 0]\n",
      "Negative labels: 614900\n",
      "Positive labels: 14394\n"
     ]
    }
   ],
   "source": [
    "print(features.shape)\n",
    "print(labels.shape)\n",
    "print(labels[:200])\n",
    "print('Negative labels: ' + str(len(list(filter(lambda x: x == 0, labels)))))\n",
    "print('Positive labels: ' + str(len(list(filter(lambda x: x > 0, labels)))))\n"
   ]
  },
  {
   "cell_type": "code",
   "execution_count": 73,
   "metadata": {},
   "outputs": [],
   "source": [
    "if 'all_collection_embeds' in locals() and 'all_collection_embeds_cp' in locals():\n",
    "    del all_collection_embeds, all_collection_embeds_cp, all_query_embeds, all_query_embeds_cp\n",
    "    gc.collect()"
   ]
  },
  {
   "cell_type": "code",
   "execution_count": 74,
   "metadata": {},
   "outputs": [],
   "source": [
    "X_test = features\n",
    "y_test = labels"
   ]
  },
  {
   "cell_type": "code",
   "execution_count": 75,
   "metadata": {},
   "outputs": [
    {
     "name": "stdout",
     "output_type": "stream",
     "text": [
      "629294\n",
      "629294\n"
     ]
    }
   ],
   "source": [
    "print(len(X_test))\n",
    "print(len(y_test))"
   ]
  },
  {
   "cell_type": "markdown",
   "metadata": {},
   "source": [
    "**Load the scaler from the training**"
   ]
  },
  {
   "cell_type": "code",
   "execution_count": 76,
   "metadata": {},
   "outputs": [],
   "source": [
    "with open('./scalers/cpu_scaler.pkl', 'rb') as file:\n",
    "    cpu_scaler = pickle.load(file)"
   ]
  },
  {
   "cell_type": "code",
   "execution_count": 77,
   "metadata": {},
   "outputs": [],
   "source": [
    "X_test_scaled = cpu_scaler.transform(X_test)"
   ]
  },
  {
   "cell_type": "markdown",
   "metadata": {},
   "source": [
    "## Inference"
   ]
  },
  {
   "cell_type": "code",
   "execution_count": 80,
   "metadata": {},
   "outputs": [],
   "source": [
    "numba.cuda.select_device(1)\n",
    "\n",
    "svr_models = []\n",
    "ensemble_filename = './models/ensemble_svr_models.pkl'\n",
    "\n",
    "with open(ensemble_filename, 'rb') as file:\n",
    "    svr_models = pickle.load(file)"
   ]
  },
  {
   "cell_type": "markdown",
   "metadata": {},
   "source": [
    "**Prediction method for the ensemble:**"
   ]
  },
  {
   "cell_type": "code",
   "execution_count": 81,
   "metadata": {},
   "outputs": [],
   "source": [
    "def ensemble_predict(svr_models, X, threshold=0.5, proof=1):\n",
    "    predictions = np.zeros((len(svr_models), len(X)))\n",
    "    \n",
    "    for i, svr in enumerate(svr_models):\n",
    "        predictions[i] = svr.predict(X)\n",
    "    \n",
    "    votes = np.sum(predictions > threshold, axis=0)\n",
    "    final_predictions = (votes >= proof).astype(int)\n",
    "    return final_predictions"
   ]
  },
  {
   "cell_type": "code",
   "execution_count": 82,
   "metadata": {},
   "outputs": [],
   "source": [
    "y_pred_binary = ensemble_predict(svr_models, X_test_scaled)"
   ]
  },
  {
   "cell_type": "code",
   "execution_count": 83,
   "metadata": {},
   "outputs": [
    {
     "name": "stdout",
     "output_type": "stream",
     "text": [
      "Test set accuracy: 0.9965\n",
      "Precision: 0.9998\n",
      "Recall: 0.8488\n",
      "F1-score: 0.9181\n",
      "Confusion Matrix:\n",
      "[[614898      2]\n",
      " [  2177  12217]]\n",
      "Classification Report:\n",
      "              precision    recall  f1-score   support\n",
      "\n",
      "           0       1.00      1.00      1.00    614900\n",
      "           1       1.00      0.85      0.92     14394\n",
      "\n",
      "    accuracy                           1.00    629294\n",
      "   macro avg       1.00      0.92      0.96    629294\n",
      "weighted avg       1.00      1.00      1.00    629294\n",
      "\n"
     ]
    }
   ],
   "source": [
    "accuracy = accuracy_score(y_test, y_pred_binary)\n",
    "precision = precision_score(y_test, y_pred_binary)\n",
    "recall = recall_score(y_test, y_pred_binary)\n",
    "f1 = f1_score(y_test, y_pred_binary)\n",
    "conf_matrix = confusion_matrix(y_test, y_pred_binary)\n",
    "class_report = classification_report(y_test, y_pred_binary)\n",
    "\n",
    "print(f'Test set accuracy: {accuracy:.4f}')\n",
    "print(f'Precision: {precision:.4f}')\n",
    "print(f'Recall: {recall:.4f}')\n",
    "print(f'F1-score: {f1:.4f}')\n",
    "print(f'Confusion Matrix:\\n{conf_matrix}')\n",
    "print(f'Classification Report:\\n{class_report}')"
   ]
  },
  {
   "cell_type": "code",
   "execution_count": 84,
   "metadata": {},
   "outputs": [
    {
     "data": {
      "image/png": "[encoded data removed]",
      "text/plain": [
       "<Figure size 800x600 with 2 Axes>"
      ]
     },
     "metadata": {},
     "output_type": "display_data"
    }
   ],
   "source": [
    "# Visualize the confusion matrix\n",
    "plt.figure(figsize=(8, 6))\n",
    "sns.heatmap(conf_matrix, annot=True, fmt='d', cmap='Blues', xticklabels=['Not Relevant', 'Relevant'], yticklabels=['Not Relevant', 'Relevant'])\n",
    "plt.xlabel('Predicted')\n",
    "plt.ylabel('Actual')\n",
    "plt.title('Confusion Matrix')\n",
    "plt.show()"
   ]
  }
 ],
 "metadata": {
  "kernelspec": {
   "display_name": "Python 3 (ipykernel)",
   "language": "python",
   "name": "python3"
  },
  "language_info": {
   "codemirror_mode": {
    "name": "ipython",
    "version": 3
   },
   "file_extension": ".py",
   "mimetype": "text/x-python",
   "name": "python",
   "nbconvert_exporter": "python",
   "pygments_lexer": "ipython3",
   "version": "3.10.14"
  }
 },
 "nbformat": 4,
 "nbformat_minor": 2
}
