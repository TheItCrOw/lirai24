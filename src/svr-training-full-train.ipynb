{
 "cells": [
  {
   "cell_type": "markdown",
   "metadata": {},
   "source": [
    "# About\n",
    "\n",
    "Testing SVR Regression on Retrieval Task."
   ]
  },
  {
   "cell_type": "code",
   "execution_count": 7,
   "metadata": {},
   "outputs": [
    {
     "name": "stderr",
     "output_type": "stream",
     "text": [
      "/tmp/ipykernel_3031628/1415649699.py:16: DeprecationWarning: Importing display from IPython.core.display is deprecated since IPython 7.14, please import from IPython display\n",
      "  from IPython.core.display import display, HTML\n"
     ]
    }
   ],
   "source": [
    "import numpy as np\n",
    "import cupy as cp\n",
    "import pandas as pd\n",
    "import torch, torch.nn.functional as F\n",
    "import os\n",
    "import gc \n",
    "import seaborn as sns\n",
    "import matplotlib.pyplot as plt\n",
    "import pickle\n",
    "import cudf\n",
    "import cuml\n",
    "import numba.cuda\n",
    "\n",
    "from sklearn.model_selection import train_test_split\n",
    "from scipy.spatial.distance import cdist\n",
    "from IPython.core.display import display, HTML\n",
    "from sklearn.manifold import TSNE\n",
    "from heapq import nlargest\n",
    "from io import StringIO\n",
    "from tqdm.auto import tqdm\n",
    "from transformers import AutoModel,AutoTokenizer\n",
    "from sklearn.svm import SVR\n",
    "from sklearn.preprocessing import StandardScaler\n",
    "from sklearn.metrics import accuracy_score, precision_score, recall_score, f1_score, mean_squared_error\n",
    "from sklearn.model_selection import train_test_split\n",
    "from cuml.svm import SVR as cumlSVR\n",
    "from cuml.preprocessing import StandardScaler as cumlStandardScaler\n",
    "from sklearn.utils.class_weight import compute_class_weight\n",
    "from sklearn.metrics import accuracy_score, confusion_matrix, classification_report"
   ]
  },
  {
   "cell_type": "code",
   "execution_count": 8,
   "metadata": {},
   "outputs": [
    {
     "name": "stdout",
     "output_type": "stream",
     "text": [
      "cuda\n",
      "[<torch.cuda.device object at 0x7f7f0e76f310>, <torch.cuda.device object at 0x7f7f0e76fe80>]\n"
     ]
    }
   ],
   "source": [
    "pd.set_option('display.max_colwidth', None)\n",
    "\n",
    "device = torch.device('cuda' if torch.cuda.is_available() else 'cpu')\n",
    "available_gpus = [torch.cuda.device(i) for i in range(torch.cuda.device_count())]\n",
    "print(device)\n",
    "print(available_gpus)"
   ]
  },
  {
   "cell_type": "code",
   "execution_count": 9,
   "metadata": {},
   "outputs": [],
   "source": [
    "class Config:\n",
    "    GERDALIR_PATH = './data/GerDaLIR/'\n",
    "    EMBEDDINGS_DIRECTORY = './data/embeddings/'\n",
    "    COMBINED_EMBEDDINGS = './data/embeddings/combined_{TYPE}_.npy'\n",
    "    REMOVE_STOPWORDS = False\n",
    "    EPXLODE_SENTENCES = True\n",
    "    USE_TFIDF = False\n",
    "    CHUNK_QUERIES = False"
   ]
  },
  {
   "cell_type": "markdown",
   "metadata": {},
   "source": [
    "# Read Data"
   ]
  },
  {
   "cell_type": "code",
   "execution_count": 10,
   "metadata": {},
   "outputs": [],
   "source": [
    "def read_tsv(file_path):\n",
    "    data = []\n",
    "    with open(file_path, 'r', encoding='utf8') as file:\n",
    "        for line in file:\n",
    "            columns = line.strip().split('\\t')\n",
    "            # Concatenate columns from index 1 onwards (since we have some broken rows)\n",
    "            concatenated_value = ''.join(columns[1:])\n",
    "            data.append((columns[0], concatenated_value))\n",
    "\n",
    "    df = pd.DataFrame(data, columns=['id', 'value'])\n",
    "    return df"
   ]
  },
  {
   "cell_type": "code",
   "execution_count": 11,
   "metadata": {},
   "outputs": [],
   "source": [
    "collection = read_tsv(Config.GERDALIR_PATH + 'collection/collection.tsv').head(99900000)\n",
    "collection.rename(columns={'id': 'd_id', 'value':'passage'}, inplace=True)\n",
    "collection.reset_index(inplace=True)\n",
    "\n",
    "rels = read_tsv(Config.GERDALIR_PATH + 'qrels/qrels.train.tsv')\n",
    "rels.rename(columns={'id': 'q_id', 'value': 'd_id'}, inplace=True)\n",
    "rels = rels[rels['d_id'].isin(collection['d_id'].values)] # This can be deleted once we work with all\n",
    "rels.reset_index(inplace=True)\n",
    "\n",
    "queries = read_tsv(Config.GERDALIR_PATH + 'queries/queries.train.tsv')\n",
    "queries.rename(columns={'id': 'q_id', 'value': 'query'}, inplace=True)\n",
    "queries = queries[queries['q_id'].isin(rels['q_id'].values)] # This can be deleted once we work with all\n",
    "queries.reset_index(inplace=True)"
   ]
  },
  {
   "cell_type": "code",
   "execution_count": 12,
   "metadata": {},
   "outputs": [
    {
     "data": {
      "text/html": [
       "<div>\n",
       "<style scoped>\n",
       "    .dataframe tbody tr th:only-of-type {\n",
       "        vertical-align: middle;\n",
       "    }\n",
       "\n",
       "    .dataframe tbody tr th {\n",
       "        vertical-align: top;\n",
       "    }\n",
       "\n",
       "    .dataframe thead th {\n",
       "        text-align: right;\n",
       "    }\n",
       "</style>\n",
       "<table border=\"1\" class=\"dataframe\">\n",
       "  <thead>\n",
       "    <tr style=\"text-align: right;\">\n",
       "      <th></th>\n",
       "      <th>index</th>\n",
       "      <th>q_id</th>\n",
       "      <th>query</th>\n",
       "    </tr>\n",
       "  </thead>\n",
       "  <tbody>\n",
       "    <tr>\n",
       "      <th>0</th>\n",
       "      <td>0</td>\n",
       "      <td>2</td>\n",
       "      <td>Nach [REF] ist eine Erlaubnis zu widerrufen, wenn nachträglich bekannt wird, dass die Voraussetzung nach § 0 Nummer 0 nicht erfüllt ist. Gemäß [REF] setzt die Erlaubnis zum Führen der Berufsbezeichnung voraus, dass die antragstellende Person sich nicht eines Verhaltens schuldig gemacht hat, aus dem sich die Unzuverlässigkeit zur Ausübung des Berufes ergibt. Der gerichtlich voll überprüfbare unbestimmte Rechtsbegriff der Zuverlässigkeit bezeichnet ein Instrument sicherheits und ordnungsrechtlicher Gefahrenabwehr. Der Ausschluss unzuverlässiger Erlaubnisbewerber bzw. inhaber hat demgemäß präventiven Charakter und dient der Abwehr von Gefahren für das Gemeinwohl. Unzuverlässigkeit i. S. d. der Bestimmungen ist dabei in Anlehnung an entsprechende Begrifflichkeiten in anderen, auch heilberufsrechtlichen Bestimmungen anzunehmen, wenn bei prognostischer Betrachtung auf Grund einer Würdigung der gesamten Persönlichkeit, des Gesamtverhaltens und der Lebensumstände des Betreffenden unter Berücksichtigung der Eigenart des Berufs nicht die Gewähr besteht, dass dieser in Zukunft seine beruflichen Pflichten zuverlässig erfüllen wird. Für die gebotene Prognose ist dabei abzustellen auf die jeweilige Situation des Betreffenden im maßgeblichen Zeitpunkt, der regelmäßig im Abschluss des behördlichen Verfahrens liegt, sowie auf vor allem durch die Art, Schwere und Zahl der Verstöße gegen die Berufspflichten manifest gewordenen Charakter des Betreffenden.</td>\n",
       "    </tr>\n",
       "    <tr>\n",
       "      <th>1</th>\n",
       "      <td>1</td>\n",
       "      <td>3</td>\n",
       "      <td>Erforderlich ist mithin eine Prognoseentscheidung unter Berücksichtigung aller Umstände des Einzelfalls dahingehend, ob der Betreffende willens und in der Lage sein wird, künftig seine beruflichen Pflichten zuverlässig zu erfüllen.</td>\n",
       "    </tr>\n",
       "  </tbody>\n",
       "</table>\n",
       "</div>"
      ],
      "text/plain": [
       "   index q_id  \\\n",
       "0      0    2   \n",
       "1      1    3   \n",
       "\n",
       "                                                                                                                                                                                                                                                                                                                                                                                                                                                                                                                                                                                                                                                                                                                                                                                                                                                                                                                                                                                                                                                                                                                                                                                                                                                                                                                                                                                                                                                                                                                 query  \n",
       "0  Nach [REF] ist eine Erlaubnis zu widerrufen, wenn nachträglich bekannt wird, dass die Voraussetzung nach § 0 Nummer 0 nicht erfüllt ist. Gemäß [REF] setzt die Erlaubnis zum Führen der Berufsbezeichnung voraus, dass die antragstellende Person sich nicht eines Verhaltens schuldig gemacht hat, aus dem sich die Unzuverlässigkeit zur Ausübung des Berufes ergibt. Der gerichtlich voll überprüfbare unbestimmte Rechtsbegriff der Zuverlässigkeit bezeichnet ein Instrument sicherheits und ordnungsrechtlicher Gefahrenabwehr. Der Ausschluss unzuverlässiger Erlaubnisbewerber bzw. inhaber hat demgemäß präventiven Charakter und dient der Abwehr von Gefahren für das Gemeinwohl. Unzuverlässigkeit i. S. d. der Bestimmungen ist dabei in Anlehnung an entsprechende Begrifflichkeiten in anderen, auch heilberufsrechtlichen Bestimmungen anzunehmen, wenn bei prognostischer Betrachtung auf Grund einer Würdigung der gesamten Persönlichkeit, des Gesamtverhaltens und der Lebensumstände des Betreffenden unter Berücksichtigung der Eigenart des Berufs nicht die Gewähr besteht, dass dieser in Zukunft seine beruflichen Pflichten zuverlässig erfüllen wird. Für die gebotene Prognose ist dabei abzustellen auf die jeweilige Situation des Betreffenden im maßgeblichen Zeitpunkt, der regelmäßig im Abschluss des behördlichen Verfahrens liegt, sowie auf vor allem durch die Art, Schwere und Zahl der Verstöße gegen die Berufspflichten manifest gewordenen Charakter des Betreffenden.  \n",
       "1                                                                                                                                                                                                                                                                                                                                                                                                                                                                                                                                                                                                                                                                                                                                                                                                                                                                                                                                                                                                                                                                                                                                                                                                                                                                              Erforderlich ist mithin eine Prognoseentscheidung unter Berücksichtigung aller Umstände des Einzelfalls dahingehend, ob der Betreffende willens und in der Lage sein wird, künftig seine beruflichen Pflichten zuverlässig zu erfüllen.  "
      ]
     },
     "metadata": {},
     "output_type": "display_data"
    },
    {
     "data": {
      "text/plain": [
       "98380"
      ]
     },
     "metadata": {},
     "output_type": "display_data"
    },
    {
     "data": {
      "text/html": [
       "<div>\n",
       "<style scoped>\n",
       "    .dataframe tbody tr th:only-of-type {\n",
       "        vertical-align: middle;\n",
       "    }\n",
       "\n",
       "    .dataframe tbody tr th {\n",
       "        vertical-align: top;\n",
       "    }\n",
       "\n",
       "    .dataframe thead th {\n",
       "        text-align: right;\n",
       "    }\n",
       "</style>\n",
       "<table border=\"1\" class=\"dataframe\">\n",
       "  <thead>\n",
       "    <tr style=\"text-align: right;\">\n",
       "      <th></th>\n",
       "      <th>index</th>\n",
       "      <th>d_id</th>\n",
       "      <th>passage</th>\n",
       "    </tr>\n",
       "  </thead>\n",
       "  <tbody>\n",
       "    <tr>\n",
       "      <th>0</th>\n",
       "      <td>0</td>\n",
       "      <td>1</td>\n",
       "      <td>Tenor Der Antrag der Klägerin auf Zulassung der Berufung gegen das Urteil des Verwaltungsgerichts Gelsenkirchen vom [DATE] wird abgelehnt. Die Klägerin trägt die Kosten des Zulassungsverfahrens. Der Streitwert wird auch für das Zulassungsverfahren auf 0 Euro festgesetzt. Gründe:</td>\n",
       "    </tr>\n",
       "    <tr>\n",
       "      <th>1</th>\n",
       "      <td>1</td>\n",
       "      <td>1</td>\n",
       "      <td>Das Zulassungsvorbringen der Klägerin begründet keine ernstlichen Zweifel an der Richtigkeit des angefochtenen Urteils . Zweifel in diesem Sinn sind anzunehmen, wenn ein einzelner tragender Rechtssatz oder eine einzelne erhebliche Tatsachenfeststellung des Verwaltungsgerichts mit schlüssigen Gegenargumenten in Frage gestellt werden.</td>\n",
       "    </tr>\n",
       "  </tbody>\n",
       "</table>\n",
       "</div>"
      ],
      "text/plain": [
       "   index d_id  \\\n",
       "0      0    1   \n",
       "1      1    1   \n",
       "\n",
       "                                                                                                                                                                                                                                                                                                                                          passage  \n",
       "0                                                         Tenor Der Antrag der Klägerin auf Zulassung der Berufung gegen das Urteil des Verwaltungsgerichts Gelsenkirchen vom [DATE] wird abgelehnt. Die Klägerin trägt die Kosten des Zulassungsverfahrens. Der Streitwert wird auch für das Zulassungsverfahren auf 0 Euro festgesetzt. Gründe:  \n",
       "1  Das Zulassungsvorbringen der Klägerin begründet keine ernstlichen Zweifel an der Richtigkeit des angefochtenen Urteils . Zweifel in diesem Sinn sind anzunehmen, wenn ein einzelner tragender Rechtssatz oder eine einzelne erhebliche Tatsachenfeststellung des Verwaltungsgerichts mit schlüssigen Gegenargumenten in Frage gestellt werden.  "
      ]
     },
     "metadata": {},
     "output_type": "display_data"
    },
    {
     "data": {
      "text/plain": [
       "3095383"
      ]
     },
     "metadata": {},
     "output_type": "display_data"
    },
    {
     "data": {
      "text/html": [
       "<div>\n",
       "<style scoped>\n",
       "    .dataframe tbody tr th:only-of-type {\n",
       "        vertical-align: middle;\n",
       "    }\n",
       "\n",
       "    .dataframe tbody tr th {\n",
       "        vertical-align: top;\n",
       "    }\n",
       "\n",
       "    .dataframe thead th {\n",
       "        text-align: right;\n",
       "    }\n",
       "</style>\n",
       "<table border=\"1\" class=\"dataframe\">\n",
       "  <thead>\n",
       "    <tr style=\"text-align: right;\">\n",
       "      <th></th>\n",
       "      <th>index</th>\n",
       "      <th>q_id</th>\n",
       "      <th>d_id</th>\n",
       "    </tr>\n",
       "  </thead>\n",
       "  <tbody>\n",
       "    <tr>\n",
       "      <th>0</th>\n",
       "      <td>0</td>\n",
       "      <td>2</td>\n",
       "      <td>118149</td>\n",
       "    </tr>\n",
       "    <tr>\n",
       "      <th>1</th>\n",
       "      <td>1</td>\n",
       "      <td>3</td>\n",
       "      <td>72511</td>\n",
       "    </tr>\n",
       "  </tbody>\n",
       "</table>\n",
       "</div>"
      ],
      "text/plain": [
       "   index q_id    d_id\n",
       "0      0    2  118149\n",
       "1      1    3   72511"
      ]
     },
     "metadata": {},
     "output_type": "display_data"
    },
    {
     "data": {
      "text/plain": [
       "115360"
      ]
     },
     "metadata": {},
     "output_type": "display_data"
    }
   ],
   "source": [
    "display(queries.head(2))\n",
    "display(len(queries))\n",
    "\n",
    "display(collection.head(2))\n",
    "display(len(collection))\n",
    "\n",
    "display(rels.head(2))\n",
    "display(len(rels))"
   ]
  },
  {
   "cell_type": "markdown",
   "metadata": {},
   "source": [
    "# Postprocess"
   ]
  },
  {
   "cell_type": "code",
   "execution_count": 13,
   "metadata": {},
   "outputs": [],
   "source": [
    "def chunk_string_with_overlap(s, k, overlap):\n",
    "    if k <= 0:\n",
    "        raise ValueError(\"Chunk length must be greater than 0\")\n",
    "    if overlap < 0:\n",
    "        raise ValueError(\"Overlap must be non-negative\")\n",
    "    if overlap >= k:\n",
    "        raise ValueError(\"Overlap must be less than chunk length\")\n",
    "    \n",
    "    chunks = []\n",
    "    for i in range(0, len(s), k - overlap):\n",
    "        chunk = s[i:i + k]\n",
    "        chunks.append(chunk)\n",
    "        if len(chunk) < k:\n",
    "            break\n",
    "    \n",
    "    return chunks"
   ]
  },
  {
   "cell_type": "markdown",
   "metadata": {},
   "source": [
    "Average length of queries:"
   ]
  },
  {
   "cell_type": "code",
   "execution_count": 14,
   "metadata": {},
   "outputs": [
    {
     "name": "stdout",
     "output_type": "stream",
     "text": [
      "137.06715795893473\n",
      "1043.171305143322\n"
     ]
    }
   ],
   "source": [
    "print(queries['query'].apply(lambda x: len(x.split())).mean())\n",
    "print(queries['query'].apply(lambda x: len(x)).mean())"
   ]
  },
  {
   "cell_type": "code",
   "execution_count": 15,
   "metadata": {},
   "outputs": [],
   "source": [
    "if(Config.CHUNK_QUERIES):\n",
    "    queries['query'] = queries['query'].apply(lambda q: chunk_string_with_overlap(q, 275, 15))\n",
    "    queries = queries.explode('query').reset_index(drop=True)\n",
    "    display(queries.head(10))\n",
    "    print(len(queries))"
   ]
  },
  {
   "cell_type": "markdown",
   "metadata": {},
   "source": [
    "# Embeddings"
   ]
  },
  {
   "cell_type": "code",
   "execution_count": 16,
   "metadata": {},
   "outputs": [],
   "source": [
    "def mean_pooling(model_output, attention_mask):\n",
    "    token_embeddings = model_output.last_hidden_state.detach().cpu()\n",
    "    input_mask_expanded = (\n",
    "        attention_mask.unsqueeze(-1).expand(token_embeddings.size()).float()\n",
    "    )\n",
    "    return torch.sum(token_embeddings * input_mask_expanded, 1) / torch.clamp(\n",
    "        input_mask_expanded.sum(1), min=1e-9\n",
    "    )"
   ]
  },
  {
   "cell_type": "code",
   "execution_count": 17,
   "metadata": {},
   "outputs": [],
   "source": [
    "class EmbedDataset(torch.utils.data.Dataset):\n",
    "    def __init__(self, df, tokenizer, max_length, text_col):\n",
    "        self.df = df.reset_index(drop=True)\n",
    "        self.tokenizer = tokenizer\n",
    "        self.text_col = text_col\n",
    "        self.max = max_length\n",
    "\n",
    "    def __len__(self):\n",
    "        return len(self.df)\n",
    "    \n",
    "    def __getitem__(self, idx):\n",
    "        text = self.df.loc[idx, self.text_col]\n",
    "        tokens = self.tokenizer(\n",
    "                text,\n",
    "                None,\n",
    "                add_special_tokens=True,\n",
    "                padding='max_length',\n",
    "                truncation=True,\n",
    "                max_length=self.max,\n",
    "                return_tensors=\"pt\")\n",
    "        tokens = {k:v.squeeze(0) for k,v in tokens.items()}\n",
    "        return tokens"
   ]
  },
  {
   "cell_type": "code",
   "execution_count": 18,
   "metadata": {},
   "outputs": [],
   "source": [
    "class EmbedderContainer:\n",
    "\n",
    "    def __init__(self, model_name, max_length, batch_size, device):\n",
    "        self.device = device\n",
    "        self.model_name = model_name\n",
    "        self.__model_path = model_name\n",
    "        self.__max_length = max_length\n",
    "        self.__batch_size = batch_size\n",
    "\n",
    "    def init_model(self):\n",
    "        self.__model = AutoModel.from_pretrained(self.__model_path, trust_remote_code=True).to(self.device)  #force_download=True\n",
    "        self.__model.eval()\n",
    "        self.__tokenizer = AutoTokenizer.from_pretrained(self.__model_path, trust_remote_code=True)  #force_download=True\n",
    "\n",
    "    def init_embed_dataset(self, df, text_col):\n",
    "        self.__dataset = EmbedDataset(df, self.__tokenizer, self.__max_length, text_col)\n",
    "        self.__embed_dataloader = torch.utils.data.DataLoader(self.__dataset,\n",
    "                                batch_size=self.__batch_size,\n",
    "                                shuffle=False)\n",
    "        return self.__embed_dataloader\n",
    "\n",
    "    def embed(self, input_ids, attention_mask):\n",
    "        return self.__model(input_ids=input_ids, attention_mask=attention_mask)\n",
    "\n",
    "    def dispose(self):\n",
    "        if hasattr(self, '__dataset'):\n",
    "            del self.__dataset\n",
    "        if hasattr(self, '__embed_dataloader'):\n",
    "            del self.__embed_dataloader\n",
    "        if hasattr(self, '__model'):\n",
    "            del self.__model\n",
    "        if hasattr(self, '__tokenizer'):\n",
    "            del self.__tokenizer\n",
    "        gc.collect()\n",
    "        torch.cuda.empty_cache()\n",
    "    "
   ]
  },
  {
   "cell_type": "code",
   "execution_count": 19,
   "metadata": {},
   "outputs": [],
   "source": [
    "def get_embeddings(embedding_container, compute_collection=True, compute_queries=False):\n",
    "\n",
    "    global collection, queries\n",
    "    embedding_container.init_model()\n",
    "\n",
    "    # COMPUTE COLLECTION EMBEDDINGS\n",
    "    all_collection_embeddings = []\n",
    "    if compute_collection:\n",
    "        # Create dataset for collection\n",
    "        embed_dataloader_tr = embedding_container.init_embed_dataset(collection, 'passage')\n",
    "        for batch in tqdm(embed_dataloader_tr,total=len(embed_dataloader_tr)):\n",
    "            input_ids = batch[\"input_ids\"].to(embedding_container.device)\n",
    "            attention_mask = batch[\"attention_mask\"].to(embedding_container.device)\n",
    "            with torch.no_grad():\n",
    "                with torch.cuda.amp.autocast(enabled=True):\n",
    "                    model_output = embedding_container.embed(input_ids, attention_mask)\n",
    "\n",
    "            sentence_embeddings = mean_pooling(model_output, attention_mask.detach().cpu())\n",
    "            # Normalize the embeddings\n",
    "            sentence_embeddings = F.normalize(sentence_embeddings, p=2, dim=1)\n",
    "            sentence_embeddings =  sentence_embeddings.squeeze(0).detach().cpu().numpy()\n",
    "            all_collection_embeddings.extend(sentence_embeddings)\n",
    "    all_collection_embeddings = np.array(all_collection_embeddings)\n",
    "\n",
    "    # COMPUTE QUERY EMBEDDINGS\n",
    "    all_query_embeddings = []\n",
    "    if compute_queries:\n",
    "        # Create dataset for query\n",
    "        embed_dataloader_te = embedding_container.init_embed_dataset(queries, 'query')\n",
    "        for batch in embed_dataloader_te:\n",
    "            input_ids = batch[\"input_ids\"].to(embedding_container.device)\n",
    "            attention_mask = batch[\"attention_mask\"].to(embedding_container.device)\n",
    "            with torch.no_grad():\n",
    "                with torch.cuda.amp.autocast(enabled=True):\n",
    "                    model_output = embedding_container.embed(input_ids, attention_mask)\n",
    "            sentence_embeddings = mean_pooling(model_output, attention_mask.detach().cpu())\n",
    "            # Normalize the embeddings\n",
    "            sentence_embeddings = F.normalize(sentence_embeddings, p=2, dim=1)\n",
    "            sentence_embeddings =  sentence_embeddings.squeeze(0).detach().cpu().numpy()\n",
    "            all_query_embeddings.extend(sentence_embeddings)\n",
    "    all_query_embeddings = np.array(all_query_embeddings)\n",
    "\n",
    "    # DISPOSE\n",
    "    if 'model_output' in locals():\n",
    "        del model_output\n",
    "    if 'sentence_embeddings' in locals():\n",
    "        del sentence_embeddings\n",
    "    if 'input_ids' in locals():\n",
    "        del input_ids\n",
    "    if 'attention_mask' in locals():\n",
    "        del attention_mask\n",
    "    embedding_container.dispose()\n",
    "\n",
    "    # RETURN EMBEDDINGS\n",
    "    return all_collection_embeddings, all_query_embeddings"
   ]
  },
  {
   "cell_type": "markdown",
   "metadata": {},
   "source": [
    "### Possible Embedding Models"
   ]
  },
  {
   "cell_type": "code",
   "execution_count": 20,
   "metadata": {},
   "outputs": [],
   "source": [
    "DEVICE = \"cuda:1\" # We want to extract embeddings on the second GPU.\n",
    "\n",
    "container = [\n",
    "    #EmbedderContainer('microsoft/deberta-base', 1024, 32, DEVICE),\n",
    "    #EmbedderContainer('microsoft/deberta-large', 1024, 8, DEVICE),\n",
    "    #EmbedderContainer('microsoft/deberta-v3-large', 1024, 8, DEVICE),\n",
    "    EmbedderContainer('allenai/longformer-base-4096', 1024, 32, DEVICE),\n",
    "    #EmbedderContainer('LennartKeller/longformer-gottbert-base-8192-aw512', 1024, 32, DEVICE),\n",
    "    #EmbedderContainer('allenai/longformer-large-4096', 1024, 8, DEVICE),\n",
    "    #EmbedderContainer('google/bigbird-roberta-base', 1024, 32, DEVICE),\n",
    "    #EmbedderContainer('google/bigbird-roberta-large', 1024, 8, DEVICE),\n",
    "\n",
    "    # Sentence Transformers fine-tuned for sentence embeddings:\n",
    "    # EmbedderContainer('sentence-transformers/all-distilroberta-v1', 512, 32, DEVICE), # https://huggingface.co/sentence-transformers/all-distilroberta-v1\n",
    "    # EmbedderContainer('sentence-transformers/msmarco-distilbert-base-v4', 512, 32, DEVICE), # https://huggingface.co/sentence-transformers/msmarco-distilbert-base-v4\n",
    "    #EmbedderContainer('sentence-transformers/all-MiniLM-L6-v2', 384, 64, DEVICE), # https://huggingface.co/sentence-transformers/all-MiniLM-L6-v2\n",
    "]"
   ]
  },
  {
   "cell_type": "markdown",
   "metadata": {},
   "source": [
    "### Generate Embeddings"
   ]
  },
  {
   "cell_type": "code",
   "execution_count": 21,
   "metadata": {},
   "outputs": [],
   "source": [
    "all_collection_embeds = []\n",
    "all_query_embeds = []\n",
    "\n",
    "calculate = True"
   ]
  },
  {
   "cell_type": "code",
   "execution_count": 22,
   "metadata": {},
   "outputs": [],
   "source": [
    "if(os.path.exists(Config.COMBINED_EMBEDDINGS.replace('{TYPE}', 'collection_full'))):\n",
    "    all_collection_embeds = np.load(Config.COMBINED_EMBEDDINGS.replace('{TYPE}', 'collection_full'))\n",
    "    all_query_embeds = np.load(Config.COMBINED_EMBEDDINGS.replace('{TYPE}', 'query_train'))\n",
    "    calculate = False"
   ]
  },
  {
   "cell_type": "code",
   "execution_count": 23,
   "metadata": {},
   "outputs": [],
   "source": [
    "if(calculate):\n",
    "    for embedding_container in container:\n",
    "        name = (Config.EMBEDDINGS_DIRECTORY + \n",
    "                'collection_' + \n",
    "                embedding_container.model_name.replace(\"/\", \"_\") + \n",
    "                \".npy\")\n",
    "        \n",
    "        if os.path.exists(name):\n",
    "            print(f\"Loading embeddings for {name}\")\n",
    "            _, query_embed = get_embeddings(embedding_container, compute_collection=False, compute_queries=True)\n",
    "            collection_embed = np.load(name)\n",
    "        else:\n",
    "            print(f\"Computing embeddings for {name}\") \n",
    "            collection_embed, query_embed = get_embeddings(embedding_container, compute_collection=True, compute_queries=True)\n",
    "            np.save(name, collection_embed)\n",
    "        all_collection_embeds.append(collection_embed)\n",
    "        all_query_embeds.append(query_embed)\n",
    "\n",
    "    del collection_embed, query_embed"
   ]
  },
  {
   "cell_type": "code",
   "execution_count": 24,
   "metadata": {},
   "outputs": [],
   "source": [
    "if(calculate):\n",
    "    all_collection_embeds = np.concatenate(all_collection_embeds,axis=1)\n",
    "    all_query_embeds = np.concatenate(all_query_embeds,axis=1)"
   ]
  },
  {
   "cell_type": "code",
   "execution_count": 25,
   "metadata": {},
   "outputs": [
    {
     "name": "stdout",
     "output_type": "stream",
     "text": [
      "(3095383, 768)\n",
      "(98380, 768)\n"
     ]
    }
   ],
   "source": [
    "print(all_collection_embeds.shape)\n",
    "print(all_query_embeds.shape)"
   ]
  },
  {
   "cell_type": "code",
   "execution_count": 26,
   "metadata": {},
   "outputs": [
    {
     "data": {
      "text/plain": [
       "67"
      ]
     },
     "execution_count": 26,
     "metadata": {},
     "output_type": "execute_result"
    }
   ],
   "source": [
    "gc.collect()"
   ]
  },
  {
   "cell_type": "code",
   "execution_count": 27,
   "metadata": {},
   "outputs": [],
   "source": [
    "if(calculate):\n",
    "    np.save(Config.COMBINED_EMBEDDINGS.replace('{TYPE}', 'collection_full'), all_collection_embeds)\n",
    "    np.save(Config.COMBINED_EMBEDDINGS.replace('{TYPE}', 'query_train'), all_query_embeds)"
   ]
  },
  {
   "cell_type": "markdown",
   "metadata": {},
   "source": [
    "# Training"
   ]
  },
  {
   "cell_type": "code",
   "execution_count": 28,
   "metadata": {},
   "outputs": [],
   "source": [
    "features = []\n",
    "labels = []\n",
    "calculate_feat = True\n",
    "\n",
    "if(os.path.exists(Config.COMBINED_EMBEDDINGS.replace('{TYPE}', 'features'))):\n",
    "    features = np.load(Config.COMBINED_EMBEDDINGS.replace('{TYPE}', 'features'))\n",
    "    labels = np.load(Config.COMBINED_EMBEDDINGS.replace('{TYPE}', 'labels'))\n",
    "    calculate_feat = False\n",
    "\n",
    "subsampling_top_k = 50\n",
    "\n",
    "# query_idx_lookup = {qid: idx for idx, qid in enumerate(queries['q_id'])}\n",
    "passage_idx_lookup = {pid: idx for idx, pid in enumerate(collection['d_id'])}"
   ]
  },
  {
   "cell_type": "code",
   "execution_count": 29,
   "metadata": {},
   "outputs": [],
   "source": [
    "def query_fits_passage(q_idx, c_idx):\n",
    "    '''Does the given collection index fit to a given query index?'''\n",
    "    q_id = queries.iloc[q_idx]['q_id']\n",
    "    d_id = collection.iloc[c_idx]['d_id']\n",
    "    return len(rels[(rels['q_id'] == q_id) & (rels['d_id'] == d_id)].values) > 0"
   ]
  },
  {
   "cell_type": "markdown",
   "metadata": {},
   "source": [
    "**Convert to cupy arrays for faster GPU cosine sims**"
   ]
  },
  {
   "cell_type": "code",
   "execution_count": 30,
   "metadata": {},
   "outputs": [],
   "source": [
    "if(calculate_feat):\n",
    "    all_query_embeds_cp = cp.asarray(all_query_embeds, dtype=cp.float16) \n",
    "    all_collection_embeds_cp = cp.asarray(all_collection_embeds, dtype=cp.float16)"
   ]
  },
  {
   "cell_type": "code",
   "execution_count": 31,
   "metadata": {},
   "outputs": [],
   "source": [
    "# Loop through queries\n",
    "if(calculate_feat):\n",
    "    for q_idx, row in tqdm(queries.iterrows(), total=len(queries), desc='Processing Queries'):\n",
    "        query_id = row['q_id']\n",
    "        query_embed_cp = all_query_embeds_cp[q_idx]\n",
    "\n",
    "        # Positive samples\n",
    "        positive_indices = set()\n",
    "        rels_for_query = rels[rels['q_id'] == query_id]\n",
    "        for passage_id in rels_for_query['d_id']:\n",
    "            if passage_id in passage_idx_lookup:\n",
    "                passage_idx = passage_idx_lookup[passage_id]\n",
    "                #print('Correct answer:')\n",
    "                #print(collection.iloc[passage_idx]['passage'])\n",
    "                passage_embed_cp = all_collection_embeds_cp[passage_idx]\n",
    "\n",
    "                # Convert CuPy arrays back to NumPy\n",
    "                query_embed_np = cp.asnumpy(query_embed_cp)\n",
    "                passage_embed_np = cp.asnumpy(passage_embed_cp)\n",
    "\n",
    "                # Concatenate using NumPy\n",
    "                feature_np = np.concatenate((query_embed_np, passage_embed_np))\n",
    "                features.append(feature_np)  # Append NumPy array\n",
    "                labels.append(1)\n",
    "                positive_indices.add(passage_idx)\n",
    "        \n",
    "        # Compute cosine similarity on GPU\n",
    "        cos_sim_cp = 1 - cp.matmul(query_embed_cp, all_collection_embeds_cp.T)\n",
    "        top_k_indices = cp.asnumpy(cp.argpartition(cos_sim_cp, subsampling_top_k + len(positive_indices))[:subsampling_top_k + len(positive_indices)])\n",
    "        negative_indices = top_k_indices[:subsampling_top_k]\n",
    "        #print('Query')\n",
    "        #print(queries.iloc[q_idx]['query'])\n",
    "        #print('Passage')\n",
    "        #print(collection.iloc[negative_indices[0]]['passage'])\n",
    "        #print('\\n\\n')\n",
    "\n",
    "        for passage_idx in negative_indices:\n",
    "            passage_embed_cp = all_collection_embeds_cp[passage_idx]\n",
    "\n",
    "            # Convert CuPy arrays back to NumPy\n",
    "            query_embed_np = cp.asnumpy(query_embed_cp)\n",
    "            passage_embed_np = cp.asnumpy(passage_embed_cp)\n",
    "\n",
    "            # Concatenate using NumPy\n",
    "            feature_np = np.concatenate((query_embed_np, passage_embed_np)).astype(np.float16)\n",
    "            features.append(feature_np)  # Append NumPy array\n",
    "            labels.append(0)\n",
    "\n",
    "        # Explicitly free memory if needed\n",
    "        # cp.get_default_memory_pool().free_all_blocks()\n"
   ]
  },
  {
   "cell_type": "code",
   "execution_count": 32,
   "metadata": {},
   "outputs": [],
   "source": [
    "if(calculate_feat):\n",
    "    features = np.array(features)\n",
    "    labels = np.array(labels) "
   ]
  },
  {
   "cell_type": "code",
   "execution_count": 33,
   "metadata": {},
   "outputs": [
    {
     "name": "stdout",
     "output_type": "stream",
     "text": [
      "float16\n"
     ]
    }
   ],
   "source": [
    "print(features.dtype)"
   ]
  },
  {
   "cell_type": "code",
   "execution_count": 34,
   "metadata": {},
   "outputs": [],
   "source": [
    "if(calculate_feat):\n",
    "    np.save(Config.COMBINED_EMBEDDINGS.replace('{TYPE}', 'features'), features)\n",
    "    np.save(Config.COMBINED_EMBEDDINGS.replace('{TYPE}', 'labels'), labels)"
   ]
  },
  {
   "cell_type": "code",
   "execution_count": 36,
   "metadata": {},
   "outputs": [
    {
     "name": "stdout",
     "output_type": "stream",
     "text": [
      "(5034360, 1536)\n",
      "(5034360,)\n",
      "[1 0 0 0 0 0 0 0 0 0 0 0 0 0 0 0 0 0 0 0 0 0 0 0 0 0 0 0 0 0 0 0 0 0 0 0 0\n",
      " 0 0 0 0 0 0 0 0 0 0 0 0 0 0 1 0 0 0 0 0 0 0 0 0 0 0 0 0 0 0 0 0 0 0 0 0 0\n",
      " 0 0 0 0 0 0 0 0 0 0 0 0 0 0 0 0 0 0 0 0 0 0 0 0 0 0 0 0 1 0 0 0 0 0 0 0 0\n",
      " 0 0 0 0 0 0 0 0 0 0 0 0 0 0 0 0 0 0 0 0 0 0 0 0 0 0 0 0 0 0 0 0 0 0 0 0 0\n",
      " 0 0 0 0 0 1 1 1 0 0 0 0 0 0 0 0 0 0 0 0 0 0 0 0 0 0 0 0 0 0 0 0 0 0 0 0 0\n",
      " 0 0 0 0 0 0 0 0 0 0 0 0 0 0 0]\n",
      "Negative labels: 4919000\n",
      "Positive labels: 115360\n"
     ]
    }
   ],
   "source": [
    "print(features.shape)\n",
    "print(labels.shape)\n",
    "print(labels[:200])\n",
    "print('Negative labels: ' + str(len(list(filter(lambda x: x == 0, labels)))))\n",
    "print('Positive labels: ' + str(len(list(filter(lambda x: x > 0, labels)))))\n"
   ]
  },
  {
   "cell_type": "code",
   "execution_count": 37,
   "metadata": {},
   "outputs": [],
   "source": [
    "if 'all_collection_embeds' in locals() and 'all_collection_embeds_cp' in locals():\n",
    "    del all_collection_embeds, all_collection_embeds_cp, all_query_embeds, all_query_embeds_cp\n",
    "    gc.collect()"
   ]
  },
  {
   "cell_type": "code",
   "execution_count": 38,
   "metadata": {},
   "outputs": [],
   "source": [
    "X_train, X_test, y_train, y_test = train_test_split(features, labels, test_size=0.1, random_state=42)"
   ]
  },
  {
   "cell_type": "code",
   "execution_count": 39,
   "metadata": {},
   "outputs": [
    {
     "name": "stdout",
     "output_type": "stream",
     "text": [
      "4530924\n",
      "4530924\n",
      "4530924\n",
      "503436\n"
     ]
    }
   ],
   "source": [
    "print(len(X_train))\n",
    "print(len(X_train))\n",
    "print(len(y_train))\n",
    "print(len(y_test))"
   ]
  },
  {
   "cell_type": "code",
   "execution_count": 40,
   "metadata": {},
   "outputs": [
    {
     "data": {
      "text/plain": [
       "0"
      ]
     },
     "execution_count": 40,
     "metadata": {},
     "output_type": "execute_result"
    }
   ],
   "source": [
    "del features, labels\n",
    "\n",
    "gc.collect()"
   ]
  },
  {
   "cell_type": "markdown",
   "metadata": {},
   "source": [
    "### Bagging\n",
    "\n",
    "We have too many features and datapoints, which a single SVR can't handle on this machine. Instead, I'm going to:\n",
    "\n",
    "- Train X different SVR using a portion of the rows\n",
    "- Ensemble the SVRs\n",
    "- In that way duplicate the bagging of Random Forest"
   ]
  },
  {
   "cell_type": "code",
   "execution_count": 42,
   "metadata": {},
   "outputs": [],
   "source": [
    "# Helper function to create random subsets with overlap\n",
    "def create_subsets(X, y, num_subsets, overlap_percentage):\n",
    "    subsets = []\n",
    "    subset_size = int((len(X) // num_subsets) * overlap_percentage)\n",
    "    num_samples = len(X)\n",
    "    \n",
    "    for _ in range(num_subsets):\n",
    "        subset_indices = np.random.choice(num_samples, size=subset_size, replace=True)\n",
    "        X_subset = X[subset_indices]\n",
    "        y_subset = y[subset_indices]\n",
    "        subsets.append((X_subset, y_subset))\n",
    "        print(f'Done with {_}/{num_subsets}')\n",
    "    \n",
    "    return subsets"
   ]
  },
  {
   "cell_type": "code",
   "execution_count": 43,
   "metadata": {},
   "outputs": [],
   "source": [
    "# Logging function to track progress\n",
    "def log_progress(model, X_val, y_val):\n",
    "    y_pred = model.predict(X_val)\n",
    "    y_pred_binary = (y_pred > 0.5).astype(int)\n",
    "    \n",
    "    precision = precision_score(y_val, y_pred_binary)\n",
    "    recall = recall_score(y_val, y_pred_binary)\n",
    "    f1 = f1_score(y_val, y_pred_binary)\n",
    "    accuracy = accuracy_score(y_val, y_pred_binary)\n",
    "    \n",
    "    print(f'  Accuracy: {accuracy:.4f}')\n",
    "    print(f'  Precision: {precision:.4f}')\n",
    "    print(f'  Recall: {recall:.4f}')\n",
    "    print(f'  F1 Score: {f1:.4f}')"
   ]
  },
  {
   "cell_type": "markdown",
   "metadata": {},
   "source": [
    "### Normalize\n",
    "\n",
    "There is no way we fit 200GB of features into the GPU at once to transform the data. Hence, we calculate the fitting on the CPU with the standard scaler, chunk it and then transform in chunks."
   ]
  },
  {
   "cell_type": "code",
   "execution_count": 44,
   "metadata": {},
   "outputs": [
    {
     "name": "stdout",
     "output_type": "stream",
     "text": [
      "Doing Chunk: 0/181\n",
      "Doing Chunk: 1/181\n",
      "Doing Chunk: 2/181\n",
      "Doing Chunk: 3/181\n",
      "Doing Chunk: 4/181\n",
      "Doing Chunk: 5/181\n",
      "Doing Chunk: 6/181\n",
      "Doing Chunk: 7/181\n",
      "Doing Chunk: 8/181\n",
      "Doing Chunk: 9/181\n",
      "Doing Chunk: 10/181\n",
      "Doing Chunk: 11/181\n",
      "Doing Chunk: 12/181\n",
      "Doing Chunk: 13/181\n",
      "Doing Chunk: 14/181\n",
      "Doing Chunk: 15/181\n",
      "Doing Chunk: 16/181\n",
      "Doing Chunk: 17/181\n",
      "Doing Chunk: 18/181\n",
      "Doing Chunk: 19/181\n",
      "Doing Chunk: 20/181\n",
      "Doing Chunk: 21/181\n",
      "Doing Chunk: 22/181\n",
      "Doing Chunk: 23/181\n",
      "Doing Chunk: 24/181\n",
      "Doing Chunk: 25/181\n",
      "Doing Chunk: 26/181\n",
      "Doing Chunk: 27/181\n",
      "Doing Chunk: 28/181\n",
      "Doing Chunk: 29/181\n",
      "Doing Chunk: 30/181\n",
      "Doing Chunk: 31/181\n",
      "Doing Chunk: 32/181\n",
      "Doing Chunk: 33/181\n",
      "Doing Chunk: 34/181\n",
      "Doing Chunk: 35/181\n",
      "Doing Chunk: 36/181\n",
      "Doing Chunk: 37/181\n",
      "Doing Chunk: 38/181\n",
      "Doing Chunk: 39/181\n",
      "Doing Chunk: 40/181\n",
      "Doing Chunk: 41/181\n",
      "Doing Chunk: 42/181\n",
      "Doing Chunk: 43/181\n",
      "Doing Chunk: 44/181\n",
      "Doing Chunk: 45/181\n",
      "Doing Chunk: 46/181\n",
      "Doing Chunk: 47/181\n",
      "Doing Chunk: 48/181\n",
      "Doing Chunk: 49/181\n",
      "Doing Chunk: 50/181\n",
      "Doing Chunk: 51/181\n",
      "Doing Chunk: 52/181\n",
      "Doing Chunk: 53/181\n",
      "Doing Chunk: 54/181\n",
      "Doing Chunk: 55/181\n",
      "Doing Chunk: 56/181\n",
      "Doing Chunk: 57/181\n",
      "Doing Chunk: 58/181\n",
      "Doing Chunk: 59/181\n",
      "Doing Chunk: 60/181\n",
      "Doing Chunk: 61/181\n",
      "Doing Chunk: 62/181\n",
      "Doing Chunk: 63/181\n",
      "Doing Chunk: 64/181\n",
      "Doing Chunk: 65/181\n",
      "Doing Chunk: 66/181\n",
      "Doing Chunk: 67/181\n",
      "Doing Chunk: 68/181\n",
      "Doing Chunk: 69/181\n",
      "Doing Chunk: 70/181\n",
      "Doing Chunk: 71/181\n",
      "Doing Chunk: 72/181\n",
      "Doing Chunk: 73/181\n",
      "Doing Chunk: 74/181\n",
      "Doing Chunk: 75/181\n",
      "Doing Chunk: 76/181\n",
      "Doing Chunk: 77/181\n",
      "Doing Chunk: 78/181\n",
      "Doing Chunk: 79/181\n",
      "Doing Chunk: 80/181\n",
      "Doing Chunk: 81/181\n",
      "Doing Chunk: 82/181\n",
      "Doing Chunk: 83/181\n",
      "Doing Chunk: 84/181\n",
      "Doing Chunk: 85/181\n",
      "Doing Chunk: 86/181\n",
      "Doing Chunk: 87/181\n",
      "Doing Chunk: 88/181\n",
      "Doing Chunk: 89/181\n",
      "Doing Chunk: 90/181\n",
      "Doing Chunk: 91/181\n",
      "Doing Chunk: 92/181\n",
      "Doing Chunk: 93/181\n",
      "Doing Chunk: 94/181\n",
      "Doing Chunk: 95/181\n",
      "Doing Chunk: 96/181\n",
      "Doing Chunk: 97/181\n",
      "Doing Chunk: 98/181\n",
      "Doing Chunk: 99/181\n",
      "Doing Chunk: 100/181\n",
      "Doing Chunk: 101/181\n",
      "Doing Chunk: 102/181\n",
      "Doing Chunk: 103/181\n",
      "Doing Chunk: 104/181\n",
      "Doing Chunk: 105/181\n",
      "Doing Chunk: 106/181\n",
      "Doing Chunk: 107/181\n",
      "Doing Chunk: 108/181\n",
      "Doing Chunk: 109/181\n",
      "Doing Chunk: 110/181\n",
      "Doing Chunk: 111/181\n",
      "Doing Chunk: 112/181\n",
      "Doing Chunk: 113/181\n",
      "Doing Chunk: 114/181\n",
      "Doing Chunk: 115/181\n",
      "Doing Chunk: 116/181\n",
      "Doing Chunk: 117/181\n",
      "Doing Chunk: 118/181\n",
      "Doing Chunk: 119/181\n",
      "Doing Chunk: 120/181\n",
      "Doing Chunk: 121/181\n",
      "Doing Chunk: 122/181\n",
      "Doing Chunk: 123/181\n",
      "Doing Chunk: 124/181\n",
      "Doing Chunk: 125/181\n",
      "Doing Chunk: 126/181\n",
      "Doing Chunk: 127/181\n",
      "Doing Chunk: 128/181\n",
      "Doing Chunk: 129/181\n",
      "Doing Chunk: 130/181\n",
      "Doing Chunk: 131/181\n",
      "Doing Chunk: 132/181\n",
      "Doing Chunk: 133/181\n",
      "Doing Chunk: 134/181\n",
      "Doing Chunk: 135/181\n",
      "Doing Chunk: 136/181\n",
      "Doing Chunk: 137/181\n",
      "Doing Chunk: 138/181\n",
      "Doing Chunk: 139/181\n",
      "Doing Chunk: 140/181\n",
      "Doing Chunk: 141/181\n",
      "Doing Chunk: 142/181\n",
      "Doing Chunk: 143/181\n",
      "Doing Chunk: 144/181\n",
      "Doing Chunk: 145/181\n",
      "Doing Chunk: 146/181\n",
      "Doing Chunk: 147/181\n",
      "Doing Chunk: 148/181\n",
      "Doing Chunk: 149/181\n",
      "Doing Chunk: 150/181\n",
      "Doing Chunk: 151/181\n",
      "Doing Chunk: 152/181\n",
      "Doing Chunk: 153/181\n",
      "Doing Chunk: 154/181\n",
      "Doing Chunk: 155/181\n",
      "Doing Chunk: 156/181\n",
      "Doing Chunk: 157/181\n",
      "Doing Chunk: 158/181\n",
      "Doing Chunk: 159/181\n",
      "Doing Chunk: 160/181\n",
      "Doing Chunk: 161/181\n",
      "Doing Chunk: 162/181\n",
      "Doing Chunk: 163/181\n",
      "Doing Chunk: 164/181\n",
      "Doing Chunk: 165/181\n",
      "Doing Chunk: 166/181\n",
      "Doing Chunk: 167/181\n",
      "Doing Chunk: 168/181\n",
      "Doing Chunk: 169/181\n",
      "Doing Chunk: 170/181\n",
      "Doing Chunk: 171/181\n",
      "Doing Chunk: 172/181\n",
      "Doing Chunk: 173/181\n",
      "Doing Chunk: 174/181\n",
      "Doing Chunk: 175/181\n",
      "Doing Chunk: 176/181\n",
      "Doing Chunk: 177/181\n",
      "Doing Chunk: 178/181\n",
      "Doing Chunk: 179/181\n",
      "Doing Chunk: 180/181\n",
      "Doing Chunk: 181/181\n"
     ]
    }
   ],
   "source": [
    "def chunkify(data, chunk_size):\n",
    "    for i in range(0, len(data), chunk_size):\n",
    "        yield data[i:i + chunk_size]\n",
    "\n",
    "# Initialize a CPU-based StandardScaler\n",
    "cpu_scaler = StandardScaler()\n",
    "\n",
    "# Fit the CPU scaler incrementally on each chunk of X_train\n",
    "chunk_size = 25000\n",
    "count = 0\n",
    "total = len(X_train) // chunk_size\n",
    "for chunk in chunkify(X_train, chunk_size):\n",
    "    print(f'Doing Chunk: {count}/{total}')\n",
    "    cpu_scaler.partial_fit(chunk)\n",
    "    count += 1"
   ]
  },
  {
   "cell_type": "code",
   "execution_count": 45,
   "metadata": {},
   "outputs": [
    {
     "name": "stdout",
     "output_type": "stream",
     "text": [
      "Done with 0/4530924\n",
      "Done with 25000/4530924\n",
      "Done with 50000/4530924\n",
      "Done with 75000/4530924\n",
      "Done with 100000/4530924\n",
      "Done with 125000/4530924\n",
      "Done with 150000/4530924\n",
      "Done with 175000/4530924\n",
      "Done with 200000/4530924\n",
      "Done with 225000/4530924\n",
      "Done with 250000/4530924\n",
      "Done with 275000/4530924\n",
      "Done with 300000/4530924\n",
      "Done with 325000/4530924\n",
      "Done with 350000/4530924\n",
      "Done with 375000/4530924\n",
      "Done with 400000/4530924\n",
      "Done with 425000/4530924\n",
      "Done with 450000/4530924\n",
      "Done with 475000/4530924\n",
      "Done with 500000/4530924\n",
      "Done with 525000/4530924\n",
      "Done with 550000/4530924\n",
      "Done with 575000/4530924\n",
      "Done with 600000/4530924\n",
      "Done with 625000/4530924\n",
      "Done with 650000/4530924\n",
      "Done with 675000/4530924\n",
      "Done with 700000/4530924\n",
      "Done with 725000/4530924\n",
      "Done with 750000/4530924\n",
      "Done with 775000/4530924\n",
      "Done with 800000/4530924\n",
      "Done with 825000/4530924\n",
      "Done with 850000/4530924\n",
      "Done with 875000/4530924\n",
      "Done with 900000/4530924\n",
      "Done with 925000/4530924\n",
      "Done with 950000/4530924\n",
      "Done with 975000/4530924\n",
      "Done with 1000000/4530924\n",
      "Done with 1025000/4530924\n",
      "Done with 1050000/4530924\n",
      "Done with 1075000/4530924\n",
      "Done with 1100000/4530924\n",
      "Done with 1125000/4530924\n",
      "Done with 1150000/4530924\n",
      "Done with 1175000/4530924\n",
      "Done with 1200000/4530924\n",
      "Done with 1225000/4530924\n",
      "Done with 1250000/4530924\n",
      "Done with 1275000/4530924\n",
      "Done with 1300000/4530924\n",
      "Done with 1325000/4530924\n",
      "Done with 1350000/4530924\n",
      "Done with 1375000/4530924\n",
      "Done with 1400000/4530924\n",
      "Done with 1425000/4530924\n",
      "Done with 1450000/4530924\n",
      "Done with 1475000/4530924\n",
      "Done with 1500000/4530924\n",
      "Done with 1525000/4530924\n",
      "Done with 1550000/4530924\n",
      "Done with 1575000/4530924\n",
      "Done with 1600000/4530924\n",
      "Done with 1625000/4530924\n",
      "Done with 1650000/4530924\n",
      "Done with 1675000/4530924\n",
      "Done with 1700000/4530924\n",
      "Done with 1725000/4530924\n",
      "Done with 1750000/4530924\n",
      "Done with 1775000/4530924\n",
      "Done with 1800000/4530924\n",
      "Done with 1825000/4530924\n",
      "Done with 1850000/4530924\n",
      "Done with 1875000/4530924\n",
      "Done with 1900000/4530924\n",
      "Done with 1925000/4530924\n",
      "Done with 1950000/4530924\n",
      "Done with 1975000/4530924\n",
      "Done with 2000000/4530924\n",
      "Done with 2025000/4530924\n",
      "Done with 2050000/4530924\n",
      "Done with 2075000/4530924\n",
      "Done with 2100000/4530924\n",
      "Done with 2125000/4530924\n",
      "Done with 2150000/4530924\n",
      "Done with 2175000/4530924\n",
      "Done with 2200000/4530924\n",
      "Done with 2225000/4530924\n",
      "Done with 2250000/4530924\n",
      "Done with 2275000/4530924\n",
      "Done with 2300000/4530924\n",
      "Done with 2325000/4530924\n",
      "Done with 2350000/4530924\n",
      "Done with 2375000/4530924\n",
      "Done with 2400000/4530924\n",
      "Done with 2425000/4530924\n",
      "Done with 2450000/4530924\n",
      "Done with 2475000/4530924\n",
      "Done with 2500000/4530924\n",
      "Done with 2525000/4530924\n",
      "Done with 2550000/4530924\n",
      "Done with 2575000/4530924\n",
      "Done with 2600000/4530924\n",
      "Done with 2625000/4530924\n",
      "Done with 2650000/4530924\n",
      "Done with 2675000/4530924\n",
      "Done with 2700000/4530924\n",
      "Done with 2725000/4530924\n",
      "Done with 2750000/4530924\n",
      "Done with 2775000/4530924\n",
      "Done with 2800000/4530924\n",
      "Done with 2825000/4530924\n",
      "Done with 2850000/4530924\n",
      "Done with 2875000/4530924\n",
      "Done with 2900000/4530924\n",
      "Done with 2925000/4530924\n",
      "Done with 2950000/4530924\n",
      "Done with 2975000/4530924\n",
      "Done with 3000000/4530924\n",
      "Done with 3025000/4530924\n",
      "Done with 3050000/4530924\n",
      "Done with 3075000/4530924\n",
      "Done with 3100000/4530924\n",
      "Done with 3125000/4530924\n",
      "Done with 3150000/4530924\n",
      "Done with 3175000/4530924\n",
      "Done with 3200000/4530924\n",
      "Done with 3225000/4530924\n",
      "Done with 3250000/4530924\n",
      "Done with 3275000/4530924\n",
      "Done with 3300000/4530924\n",
      "Done with 3325000/4530924\n",
      "Done with 3350000/4530924\n",
      "Done with 3375000/4530924\n",
      "Done with 3400000/4530924\n",
      "Done with 3425000/4530924\n",
      "Done with 3450000/4530924\n",
      "Done with 3475000/4530924\n",
      "Done with 3500000/4530924\n",
      "Done with 3525000/4530924\n",
      "Done with 3550000/4530924\n",
      "Done with 3575000/4530924\n",
      "Done with 3600000/4530924\n",
      "Done with 3625000/4530924\n",
      "Done with 3650000/4530924\n",
      "Done with 3675000/4530924\n",
      "Done with 3700000/4530924\n",
      "Done with 3725000/4530924\n",
      "Done with 3750000/4530924\n",
      "Done with 3775000/4530924\n",
      "Done with 3800000/4530924\n",
      "Done with 3825000/4530924\n",
      "Done with 3850000/4530924\n",
      "Done with 3875000/4530924\n",
      "Done with 3900000/4530924\n",
      "Done with 3925000/4530924\n",
      "Done with 3950000/4530924\n",
      "Done with 3975000/4530924\n",
      "Done with 4000000/4530924\n",
      "Done with 4025000/4530924\n",
      "Done with 4050000/4530924\n",
      "Done with 4075000/4530924\n",
      "Done with 4100000/4530924\n",
      "Done with 4125000/4530924\n",
      "Done with 4150000/4530924\n",
      "Done with 4175000/4530924\n",
      "Done with 4200000/4530924\n",
      "Done with 4225000/4530924\n",
      "Done with 4250000/4530924\n",
      "Done with 4275000/4530924\n",
      "Done with 4300000/4530924\n",
      "Done with 4325000/4530924\n",
      "Done with 4350000/4530924\n",
      "Done with 4375000/4530924\n",
      "Done with 4400000/4530924\n",
      "Done with 4425000/4530924\n",
      "Done with 4450000/4530924\n",
      "Done with 4475000/4530924\n",
      "Done with 4500000/4530924\n",
      "Done with 4525000/4530924\n",
      "Done with 0/503436\n",
      "Done with 25000/503436\n",
      "Done with 50000/503436\n",
      "Done with 75000/503436\n",
      "Done with 100000/503436\n",
      "Done with 125000/503436\n",
      "Done with 150000/503436\n",
      "Done with 175000/503436\n",
      "Done with 200000/503436\n",
      "Done with 225000/503436\n",
      "Done with 250000/503436\n",
      "Done with 275000/503436\n",
      "Done with 300000/503436\n",
      "Done with 325000/503436\n",
      "Done with 350000/503436\n",
      "Done with 375000/503436\n",
      "Done with 400000/503436\n",
      "Done with 425000/503436\n",
      "Done with 450000/503436\n",
      "Done with 475000/503436\n",
      "Done with 500000/503436\n"
     ]
    }
   ],
   "source": [
    "def transform_in_chunks(scaler, data, chunk_size):\n",
    "    count = 0\n",
    "    scaled_data = []\n",
    "    for chunk in chunkify(data, chunk_size):\n",
    "        print(f'Done with {count}/{len(data)}')\n",
    "        chunk_scaled = scaler.transform(chunk)\n",
    "        scaled_data.append(chunk_scaled)\n",
    "        count += chunk_size\n",
    "    return np.vstack(scaled_data)\n",
    "\n",
    "# Transform X_train and X_test in chunks\n",
    "X_train_scaled = transform_in_chunks(cpu_scaler, X_train, chunk_size)\n",
    "X_test_scaled = transform_in_chunks(cpu_scaler, X_test, chunk_size)"
   ]
  },
  {
   "cell_type": "code",
   "execution_count": 46,
   "metadata": {},
   "outputs": [],
   "source": [
    "del X_train, X_test\n",
    "\n",
    "gc.collect()\n",
    "torch.cuda.empty_cache()\n",
    "cp.get_default_memory_pool().free_all_blocks()"
   ]
  },
  {
   "cell_type": "markdown",
   "metadata": {},
   "source": [
    "Wont work, we dont have that much CUDA memory."
   ]
  },
  {
   "cell_type": "code",
   "execution_count": 47,
   "metadata": {},
   "outputs": [],
   "source": [
    "# Standardize the data\n",
    "#gpu_scaler = cumlStandardScaler()\n",
    "#X_train_scaled = gpu_scaler.fit_transform(X_train)\n",
    "#X_test_scaled = gpu_scaler.transform(X_test)"
   ]
  },
  {
   "cell_type": "code",
   "execution_count": 48,
   "metadata": {},
   "outputs": [
    {
     "name": "stdout",
     "output_type": "stream",
     "text": [
      "Done with 0/35\n",
      "Done with 1/35\n",
      "Done with 2/35\n",
      "Done with 3/35\n",
      "Done with 4/35\n",
      "Done with 5/35\n",
      "Done with 6/35\n",
      "Done with 7/35\n",
      "Done with 8/35\n",
      "Done with 9/35\n",
      "Done with 10/35\n",
      "Done with 11/35\n",
      "Done with 12/35\n",
      "Done with 13/35\n",
      "Done with 14/35\n",
      "Done with 15/35\n",
      "Done with 16/35\n",
      "Done with 17/35\n",
      "Done with 18/35\n",
      "Done with 19/35\n",
      "Done with 20/35\n",
      "Done with 21/35\n",
      "Done with 22/35\n",
      "Done with 23/35\n",
      "Done with 24/35\n",
      "Done with 25/35\n",
      "Done with 26/35\n",
      "Done with 27/35\n",
      "Done with 28/35\n",
      "Done with 29/35\n",
      "Done with 30/35\n",
      "Done with 31/35\n",
      "Done with 32/35\n",
      "Done with 33/35\n",
      "Done with 34/35\n",
      "35\n",
      "207126\n"
     ]
    }
   ],
   "source": [
    "num_subsets = 35\n",
    "subsets = create_subsets(X_train_scaled, y_train, num_subsets, 1.6)\n",
    "\n",
    "print(len(subsets))\n",
    "print(len(subsets[0][0]))"
   ]
  },
  {
   "cell_type": "code",
   "execution_count": 49,
   "metadata": {},
   "outputs": [],
   "source": [
    "gc.collect()\n",
    "torch.cuda.empty_cache()\n",
    "cp.get_default_memory_pool().free_all_blocks()"
   ]
  },
  {
   "cell_type": "markdown",
   "metadata": {},
   "source": [
    "**Train SVR foreach subset**"
   ]
  },
  {
   "cell_type": "code",
   "execution_count": 50,
   "metadata": {},
   "outputs": [],
   "source": [
    "svr_models = []\n",
    "tqdm._instances.clear()\n",
    "numba.cuda.select_device(1)\n",
    "train = True\n",
    "if(os.path.exists('ensemble_svr_models.pkl')):\n",
    "    train = False"
   ]
  },
  {
   "cell_type": "code",
   "execution_count": 51,
   "metadata": {},
   "outputs": [],
   "source": [
    "if(train):\n",
    "    for i, (X_subset, y_subset) in enumerate(subsets):\n",
    "        print(f'Training SVR model {i+1}/{num_subsets}')\n",
    "        svr = cumlSVR(kernel='rbf')\n",
    "        svr.fit(X_subset.astype(np.float32), y_subset.astype(np.float32))\n",
    "        log_progress(svr, X_subset, y_subset)\n",
    "        svr_models.append(svr)"
   ]
  },
  {
   "cell_type": "code",
   "execution_count": 52,
   "metadata": {},
   "outputs": [],
   "source": [
    "# Save the ensemble\n",
    "if(train):\n",
    "    ensemble_filename = 'ensemble_svr_models.pkl'\n",
    "    with open(ensemble_filename, 'wb') as file:\n",
    "        pickle.dump(svr_models, file)\n",
    "\n",
    "    print(f'Ensemble of SVR models saved to {ensemble_filename}')"
   ]
  },
  {
   "cell_type": "code",
   "execution_count": 53,
   "metadata": {},
   "outputs": [
    {
     "name": "stdout",
     "output_type": "stream",
     "text": [
      "Ensemble of SVR models loaded from file\n"
     ]
    }
   ],
   "source": [
    "# Load the ensemble of models from the file\n",
    "with open('ensemble_svr_models.pkl', 'rb') as file:\n",
    "    loaded_svr_models = pickle.load(file)\n",
    "\n",
    "print('Ensemble of SVR models loaded from file')"
   ]
  },
  {
   "cell_type": "markdown",
   "metadata": {},
   "source": [
    "**Prediction method for the ensemble:**"
   ]
  },
  {
   "cell_type": "code",
   "execution_count": 54,
   "metadata": {},
   "outputs": [],
   "source": [
    "def ensemble_predict(svr_models, X, threshold=0.5, proof=1):\n",
    "    predictions = np.zeros((len(svr_models), len(X)))\n",
    "    \n",
    "    for i, svr in enumerate(svr_models):\n",
    "        predictions[i] = svr.predict(X)\n",
    "    \n",
    "    # Count votes for each sample\n",
    "    votes = np.sum(predictions > threshold, axis=0)\n",
    "    \n",
    "    # If more than half the models predict 1, return 1; otherwise, return 0\n",
    "    final_predictions = (votes >= proof).astype(int)\n",
    "    return final_predictions"
   ]
  },
  {
   "cell_type": "code",
   "execution_count": 55,
   "metadata": {},
   "outputs": [],
   "source": [
    "# Make predictions on the test set using the loaded ensemble of SVR models\n",
    "y_pred_binary = ensemble_predict(loaded_svr_models, X_test_scaled)"
   ]
  },
  {
   "cell_type": "code",
   "execution_count": 56,
   "metadata": {},
   "outputs": [
    {
     "name": "stdout",
     "output_type": "stream",
     "text": [
      "Test set accuracy: 0.9966\n",
      "Precision: 0.9987\n",
      "Recall: 0.8527\n",
      "F1-score: 0.9199\n",
      "Confusion Matrix:\n",
      "[[491902     13]\n",
      " [  1697   9824]]\n",
      "Classification Report:\n",
      "              precision    recall  f1-score   support\n",
      "\n",
      "           0       1.00      1.00      1.00    491915\n",
      "           1       1.00      0.85      0.92     11521\n",
      "\n",
      "    accuracy                           1.00    503436\n",
      "   macro avg       1.00      0.93      0.96    503436\n",
      "weighted avg       1.00      1.00      1.00    503436\n",
      "\n"
     ]
    }
   ],
   "source": [
    "accuracy = accuracy_score(y_test, y_pred_binary)\n",
    "precision = precision_score(y_test, y_pred_binary)\n",
    "recall = recall_score(y_test, y_pred_binary)\n",
    "f1 = f1_score(y_test, y_pred_binary)\n",
    "conf_matrix = confusion_matrix(y_test, y_pred_binary)\n",
    "class_report = classification_report(y_test, y_pred_binary)\n",
    "\n",
    "print(f'Test set accuracy: {accuracy:.4f}')\n",
    "print(f'Precision: {precision:.4f}')\n",
    "print(f'Recall: {recall:.4f}')\n",
    "print(f'F1-score: {f1:.4f}')\n",
    "print(f'Confusion Matrix:\\n{conf_matrix}')\n",
    "print(f'Classification Report:\\n{class_report}')"
   ]
  },
  {
   "cell_type": "code",
   "execution_count": 57,
   "metadata": {},
   "outputs": [
    {
     "data": {
      "image/png": "[encoded data removed]",
      "text/plain": [
       "<Figure size 800x600 with 2 Axes>"
      ]
     },
     "metadata": {},
     "output_type": "display_data"
    }
   ],
   "source": [
    "# Visualize the confusion matrix\n",
    "plt.figure(figsize=(8, 6))\n",
    "sns.heatmap(conf_matrix, annot=True, fmt='d', cmap='Blues', xticklabels=['Not Relevant', 'Relevant'], yticklabels=['Not Relevant', 'Relevant'])\n",
    "plt.xlabel('Predicted')\n",
    "plt.ylabel('Actual')\n",
    "plt.title('Confusion Matrix')\n",
    "plt.show()"
   ]
  },
  {
   "cell_type": "code",
   "execution_count": 58,
   "metadata": {},
   "outputs": [
    {
     "ename": "NameError",
     "evalue": "name 'y_pred' is not defined",
     "output_type": "error",
     "traceback": [
      "\u001b[0;31m---------------------------------------------------------------------------\u001b[0m",
      "\u001b[0;31mNameError\u001b[0m                                 Traceback (most recent call last)",
      "Cell \u001b[0;32mIn[58], line 3\u001b[0m\n\u001b[1;32m      1\u001b[0m \u001b[38;5;66;03m# Plotting SVR results (for regression)\u001b[39;00m\n\u001b[1;32m      2\u001b[0m plt\u001b[38;5;241m.\u001b[39mfigure(figsize\u001b[38;5;241m=\u001b[39m(\u001b[38;5;241m10\u001b[39m, \u001b[38;5;241m6\u001b[39m))\n\u001b[0;32m----> 3\u001b[0m plt\u001b[38;5;241m.\u001b[39mscatter(y_test, \u001b[43my_pred\u001b[49m, color\u001b[38;5;241m=\u001b[39m\u001b[38;5;124m'\u001b[39m\u001b[38;5;124mblue\u001b[39m\u001b[38;5;124m'\u001b[39m, alpha\u001b[38;5;241m=\u001b[39m\u001b[38;5;241m0.3\u001b[39m, label\u001b[38;5;241m=\u001b[39m\u001b[38;5;124m'\u001b[39m\u001b[38;5;124mSVR Predictions\u001b[39m\u001b[38;5;124m'\u001b[39m)\n\u001b[1;32m      4\u001b[0m plt\u001b[38;5;241m.\u001b[39mplot([y_test\u001b[38;5;241m.\u001b[39mmin(), y_test\u001b[38;5;241m.\u001b[39mmax()], [y_test\u001b[38;5;241m.\u001b[39mmin(), y_test\u001b[38;5;241m.\u001b[39mmax()], \u001b[38;5;124m'\u001b[39m\u001b[38;5;124mk--\u001b[39m\u001b[38;5;124m'\u001b[39m, lw\u001b[38;5;241m=\u001b[39m\u001b[38;5;241m2\u001b[39m, label\u001b[38;5;241m=\u001b[39m\u001b[38;5;124m'\u001b[39m\u001b[38;5;124mPerfect Prediction\u001b[39m\u001b[38;5;124m'\u001b[39m)\n\u001b[1;32m      5\u001b[0m plt\u001b[38;5;241m.\u001b[39mtitle(\u001b[38;5;124m'\u001b[39m\u001b[38;5;124mSVR Predictions vs Actual\u001b[39m\u001b[38;5;124m'\u001b[39m)\n",
      "\u001b[0;31mNameError\u001b[0m: name 'y_pred' is not defined"
     ]
    },
    {
     "data": {
      "text/plain": [
       "<Figure size 1000x600 with 0 Axes>"
      ]
     },
     "metadata": {},
     "output_type": "display_data"
    }
   ],
   "source": [
    "# Plotting SVR results (for regression)\n",
    "plt.figure(figsize=(10, 6))\n",
    "plt.scatter(y_test, y_pred, color='blue', alpha=0.3, label='SVR Predictions')\n",
    "plt.plot([y_test.min(), y_test.max()], [y_test.min(), y_test.max()], 'k--', lw=2, label='Perfect Prediction')\n",
    "plt.title('SVR Predictions vs Actual')\n",
    "plt.xlabel('Actual')\n",
    "plt.ylabel('Predicted')\n",
    "plt.legend()\n",
    "plt.grid(True)\n",
    "plt.show()"
   ]
  }
 ],
 "metadata": {
  "kernelspec": {
   "display_name": "Python 3 (ipykernel)",
   "language": "python",
   "name": "python3"
  },
  "language_info": {
   "codemirror_mode": {
    "name": "ipython",
    "version": 3
   },
   "file_extension": ".py",
   "mimetype": "text/x-python",
   "name": "python",
   "nbconvert_exporter": "python",
   "pygments_lexer": "ipython3",
   "version": "3.10.14"
  }
 },
 "nbformat": 4,
 "nbformat_minor": 2
}
