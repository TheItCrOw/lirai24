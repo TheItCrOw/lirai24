{
 "cells": [
  {
   "cell_type": "markdown",
   "metadata": {},
   "source": [
    "# About\n",
    "\n",
    "Testing SVR Regression on Retrieval Task."
   ]
  },
  {
   "cell_type": "code",
   "execution_count": 1,
   "metadata": {},
   "outputs": [
    {
     "name": "stderr",
     "output_type": "stream",
     "text": [
      "/tmp/ipykernel_3686731/1415649699.py:16: DeprecationWarning: Importing display from IPython.core.display is deprecated since IPython 7.14, please import from IPython display\n",
      "  from IPython.core.display import display, HTML\n",
      "/home/staff_homes/kboenisc/miniconda3/envs/rapids-24.06/lib/python3.10/site-packages/tqdm/auto.py:21: TqdmWarning: IProgress not found. Please update jupyter and ipywidgets. See https://ipywidgets.readthedocs.io/en/stable/user_install.html\n",
      "  from .autonotebook import tqdm as notebook_tqdm\n"
     ]
    }
   ],
   "source": [
    "import numpy as np\n",
    "import cupy as cp\n",
    "import pandas as pd\n",
    "import torch, torch.nn.functional as F\n",
    "import os\n",
    "import gc \n",
    "import seaborn as sns\n",
    "import matplotlib.pyplot as plt\n",
    "import pickle\n",
    "import cudf\n",
    "import cuml\n",
    "import numba.cuda\n",
    "\n",
    "from sklearn.model_selection import train_test_split\n",
    "from scipy.spatial.distance import cdist\n",
    "from IPython.core.display import display, HTML\n",
    "from sklearn.manifold import TSNE\n",
    "from heapq import nlargest\n",
    "from io import StringIO\n",
    "from tqdm.auto import tqdm\n",
    "from transformers import AutoModel,AutoTokenizer\n",
    "from sklearn.svm import SVR\n",
    "from sklearn.preprocessing import StandardScaler\n",
    "from sklearn.metrics import accuracy_score, precision_score, recall_score, f1_score, mean_squared_error\n",
    "from sklearn.model_selection import train_test_split\n",
    "from cuml.svm import SVR as cumlSVR\n",
    "from cuml.preprocessing import StandardScaler as cumlStandardScaler\n",
    "from sklearn.utils.class_weight import compute_class_weight\n",
    "from sklearn.metrics import accuracy_score, confusion_matrix, classification_report"
   ]
  },
  {
   "cell_type": "code",
   "execution_count": 2,
   "metadata": {},
   "outputs": [
    {
     "name": "stdout",
     "output_type": "stream",
     "text": [
      "cuda\n",
      "[<torch.cuda.device object at 0x7f17676de920>, <torch.cuda.device object at 0x7f17676dfc70>]\n"
     ]
    }
   ],
   "source": [
    "pd.set_option('display.max_colwidth', None)\n",
    "\n",
    "device = torch.device('cuda' if torch.cuda.is_available() else 'cpu')\n",
    "available_gpus = [torch.cuda.device(i) for i in range(torch.cuda.device_count())]\n",
    "print(device)\n",
    "print(available_gpus)"
   ]
  },
  {
   "cell_type": "code",
   "execution_count": 3,
   "metadata": {},
   "outputs": [],
   "source": [
    "class Config:\n",
    "    GERDALIR_PATH = './data/GerDaLIR/'\n",
    "    EMBEDDINGS_DIRECTORY = './data/embeddings/'\n",
    "    COMBINED_EMBEDDINGS = './data/embeddings/combined_{TYPE}_.npy'\n",
    "    REMOVE_STOPWORDS = False\n",
    "    EPXLODE_SENTENCES = True\n",
    "    USE_TFIDF = False\n",
    "    CHUNK_QUERIES = False"
   ]
  },
  {
   "cell_type": "markdown",
   "metadata": {},
   "source": [
    "# Read Data"
   ]
  },
  {
   "cell_type": "code",
   "execution_count": 4,
   "metadata": {},
   "outputs": [],
   "source": [
    "def read_tsv(file_path):\n",
    "    data = []\n",
    "    with open(file_path, 'r', encoding='utf8') as file:\n",
    "        for line in file:\n",
    "            columns = line.strip().split('\\t')\n",
    "            # Concatenate columns from index 1 onwards (since we have some broken rows)\n",
    "            concatenated_value = ''.join(columns[1:])\n",
    "            data.append((columns[0], concatenated_value))\n",
    "\n",
    "    df = pd.DataFrame(data, columns=['id', 'value'])\n",
    "    return df"
   ]
  },
  {
   "cell_type": "code",
   "execution_count": 5,
   "metadata": {},
   "outputs": [],
   "source": [
    "collection = read_tsv(Config.GERDALIR_PATH + 'collection/collection.tsv').head(99900000)\n",
    "collection.rename(columns={'id': 'd_id', 'value':'passage'}, inplace=True)\n",
    "collection.reset_index(inplace=True)\n",
    "\n",
    "rels = read_tsv(Config.GERDALIR_PATH + 'qrels/qrels.train.tsv')\n",
    "rels.rename(columns={'id': 'q_id', 'value': 'd_id'}, inplace=True)\n",
    "rels = rels[rels['d_id'].isin(collection['d_id'].values)] # This can be deleted once we work with all\n",
    "rels.reset_index(inplace=True)\n",
    "\n",
    "queries = read_tsv(Config.GERDALIR_PATH + 'queries/queries.train.tsv')\n",
    "queries.rename(columns={'id': 'q_id', 'value': 'query'}, inplace=True)\n",
    "queries = queries[queries['q_id'].isin(rels['q_id'].values)] # This can be deleted once we work with all\n",
    "queries.reset_index(inplace=True)"
   ]
  },
  {
   "cell_type": "code",
   "execution_count": 6,
   "metadata": {},
   "outputs": [
    {
     "data": {
      "text/html": [
       "<div>\n",
       "<style scoped>\n",
       "    .dataframe tbody tr th:only-of-type {\n",
       "        vertical-align: middle;\n",
       "    }\n",
       "\n",
       "    .dataframe tbody tr th {\n",
       "        vertical-align: top;\n",
       "    }\n",
       "\n",
       "    .dataframe thead th {\n",
       "        text-align: right;\n",
       "    }\n",
       "</style>\n",
       "<table border=\"1\" class=\"dataframe\">\n",
       "  <thead>\n",
       "    <tr style=\"text-align: right;\">\n",
       "      <th></th>\n",
       "      <th>index</th>\n",
       "      <th>q_id</th>\n",
       "      <th>query</th>\n",
       "    </tr>\n",
       "  </thead>\n",
       "  <tbody>\n",
       "    <tr>\n",
       "      <th>0</th>\n",
       "      <td>0</td>\n",
       "      <td>2</td>\n",
       "      <td>Nach [REF] ist eine Erlaubnis zu widerrufen, wenn nachträglich bekannt wird, dass die Voraussetzung nach § 0 Nummer 0 nicht erfüllt ist. Gemäß [REF] setzt die Erlaubnis zum Führen der Berufsbezeichnung voraus, dass die antragstellende Person sich nicht eines Verhaltens schuldig gemacht hat, aus dem sich die Unzuverlässigkeit zur Ausübung des Berufes ergibt. Der gerichtlich voll überprüfbare unbestimmte Rechtsbegriff der Zuverlässigkeit bezeichnet ein Instrument sicherheits und ordnungsrechtlicher Gefahrenabwehr. Der Ausschluss unzuverlässiger Erlaubnisbewerber bzw. inhaber hat demgemäß präventiven Charakter und dient der Abwehr von Gefahren für das Gemeinwohl. Unzuverlässigkeit i. S. d. der Bestimmungen ist dabei in Anlehnung an entsprechende Begrifflichkeiten in anderen, auch heilberufsrechtlichen Bestimmungen anzunehmen, wenn bei prognostischer Betrachtung auf Grund einer Würdigung der gesamten Persönlichkeit, des Gesamtverhaltens und der Lebensumstände des Betreffenden unter Berücksichtigung der Eigenart des Berufs nicht die Gewähr besteht, dass dieser in Zukunft seine beruflichen Pflichten zuverlässig erfüllen wird. Für die gebotene Prognose ist dabei abzustellen auf die jeweilige Situation des Betreffenden im maßgeblichen Zeitpunkt, der regelmäßig im Abschluss des behördlichen Verfahrens liegt, sowie auf vor allem durch die Art, Schwere und Zahl der Verstöße gegen die Berufspflichten manifest gewordenen Charakter des Betreffenden.</td>\n",
       "    </tr>\n",
       "    <tr>\n",
       "      <th>1</th>\n",
       "      <td>1</td>\n",
       "      <td>3</td>\n",
       "      <td>Erforderlich ist mithin eine Prognoseentscheidung unter Berücksichtigung aller Umstände des Einzelfalls dahingehend, ob der Betreffende willens und in der Lage sein wird, künftig seine beruflichen Pflichten zuverlässig zu erfüllen.</td>\n",
       "    </tr>\n",
       "  </tbody>\n",
       "</table>\n",
       "</div>"
      ],
      "text/plain": [
       "   index q_id  \\\n",
       "0      0    2   \n",
       "1      1    3   \n",
       "\n",
       "                                                                                                                                                                                                                                                                                                                                                                                                                                                                                                                                                                                                                                                                                                                                                                                                                                                                                                                                                                                                                                                                                                                                                                                                                                                                                                                                                                                                                                                                                                                 query  \n",
       "0  Nach [REF] ist eine Erlaubnis zu widerrufen, wenn nachträglich bekannt wird, dass die Voraussetzung nach § 0 Nummer 0 nicht erfüllt ist. Gemäß [REF] setzt die Erlaubnis zum Führen der Berufsbezeichnung voraus, dass die antragstellende Person sich nicht eines Verhaltens schuldig gemacht hat, aus dem sich die Unzuverlässigkeit zur Ausübung des Berufes ergibt. Der gerichtlich voll überprüfbare unbestimmte Rechtsbegriff der Zuverlässigkeit bezeichnet ein Instrument sicherheits und ordnungsrechtlicher Gefahrenabwehr. Der Ausschluss unzuverlässiger Erlaubnisbewerber bzw. inhaber hat demgemäß präventiven Charakter und dient der Abwehr von Gefahren für das Gemeinwohl. Unzuverlässigkeit i. S. d. der Bestimmungen ist dabei in Anlehnung an entsprechende Begrifflichkeiten in anderen, auch heilberufsrechtlichen Bestimmungen anzunehmen, wenn bei prognostischer Betrachtung auf Grund einer Würdigung der gesamten Persönlichkeit, des Gesamtverhaltens und der Lebensumstände des Betreffenden unter Berücksichtigung der Eigenart des Berufs nicht die Gewähr besteht, dass dieser in Zukunft seine beruflichen Pflichten zuverlässig erfüllen wird. Für die gebotene Prognose ist dabei abzustellen auf die jeweilige Situation des Betreffenden im maßgeblichen Zeitpunkt, der regelmäßig im Abschluss des behördlichen Verfahrens liegt, sowie auf vor allem durch die Art, Schwere und Zahl der Verstöße gegen die Berufspflichten manifest gewordenen Charakter des Betreffenden.  \n",
       "1                                                                                                                                                                                                                                                                                                                                                                                                                                                                                                                                                                                                                                                                                                                                                                                                                                                                                                                                                                                                                                                                                                                                                                                                                                                                              Erforderlich ist mithin eine Prognoseentscheidung unter Berücksichtigung aller Umstände des Einzelfalls dahingehend, ob der Betreffende willens und in der Lage sein wird, künftig seine beruflichen Pflichten zuverlässig zu erfüllen.  "
      ]
     },
     "metadata": {},
     "output_type": "display_data"
    },
    {
     "data": {
      "text/plain": [
       "98380"
      ]
     },
     "metadata": {},
     "output_type": "display_data"
    },
    {
     "data": {
      "text/html": [
       "<div>\n",
       "<style scoped>\n",
       "    .dataframe tbody tr th:only-of-type {\n",
       "        vertical-align: middle;\n",
       "    }\n",
       "\n",
       "    .dataframe tbody tr th {\n",
       "        vertical-align: top;\n",
       "    }\n",
       "\n",
       "    .dataframe thead th {\n",
       "        text-align: right;\n",
       "    }\n",
       "</style>\n",
       "<table border=\"1\" class=\"dataframe\">\n",
       "  <thead>\n",
       "    <tr style=\"text-align: right;\">\n",
       "      <th></th>\n",
       "      <th>index</th>\n",
       "      <th>d_id</th>\n",
       "      <th>passage</th>\n",
       "    </tr>\n",
       "  </thead>\n",
       "  <tbody>\n",
       "    <tr>\n",
       "      <th>0</th>\n",
       "      <td>0</td>\n",
       "      <td>1</td>\n",
       "      <td>Tenor Der Antrag der Klägerin auf Zulassung der Berufung gegen das Urteil des Verwaltungsgerichts Gelsenkirchen vom [DATE] wird abgelehnt. Die Klägerin trägt die Kosten des Zulassungsverfahrens. Der Streitwert wird auch für das Zulassungsverfahren auf 0 Euro festgesetzt. Gründe:</td>\n",
       "    </tr>\n",
       "    <tr>\n",
       "      <th>1</th>\n",
       "      <td>1</td>\n",
       "      <td>1</td>\n",
       "      <td>Das Zulassungsvorbringen der Klägerin begründet keine ernstlichen Zweifel an der Richtigkeit des angefochtenen Urteils . Zweifel in diesem Sinn sind anzunehmen, wenn ein einzelner tragender Rechtssatz oder eine einzelne erhebliche Tatsachenfeststellung des Verwaltungsgerichts mit schlüssigen Gegenargumenten in Frage gestellt werden.</td>\n",
       "    </tr>\n",
       "  </tbody>\n",
       "</table>\n",
       "</div>"
      ],
      "text/plain": [
       "   index d_id  \\\n",
       "0      0    1   \n",
       "1      1    1   \n",
       "\n",
       "                                                                                                                                                                                                                                                                                                                                          passage  \n",
       "0                                                         Tenor Der Antrag der Klägerin auf Zulassung der Berufung gegen das Urteil des Verwaltungsgerichts Gelsenkirchen vom [DATE] wird abgelehnt. Die Klägerin trägt die Kosten des Zulassungsverfahrens. Der Streitwert wird auch für das Zulassungsverfahren auf 0 Euro festgesetzt. Gründe:  \n",
       "1  Das Zulassungsvorbringen der Klägerin begründet keine ernstlichen Zweifel an der Richtigkeit des angefochtenen Urteils . Zweifel in diesem Sinn sind anzunehmen, wenn ein einzelner tragender Rechtssatz oder eine einzelne erhebliche Tatsachenfeststellung des Verwaltungsgerichts mit schlüssigen Gegenargumenten in Frage gestellt werden.  "
      ]
     },
     "metadata": {},
     "output_type": "display_data"
    },
    {
     "data": {
      "text/plain": [
       "3095383"
      ]
     },
     "metadata": {},
     "output_type": "display_data"
    },
    {
     "data": {
      "text/html": [
       "<div>\n",
       "<style scoped>\n",
       "    .dataframe tbody tr th:only-of-type {\n",
       "        vertical-align: middle;\n",
       "    }\n",
       "\n",
       "    .dataframe tbody tr th {\n",
       "        vertical-align: top;\n",
       "    }\n",
       "\n",
       "    .dataframe thead th {\n",
       "        text-align: right;\n",
       "    }\n",
       "</style>\n",
       "<table border=\"1\" class=\"dataframe\">\n",
       "  <thead>\n",
       "    <tr style=\"text-align: right;\">\n",
       "      <th></th>\n",
       "      <th>index</th>\n",
       "      <th>q_id</th>\n",
       "      <th>d_id</th>\n",
       "    </tr>\n",
       "  </thead>\n",
       "  <tbody>\n",
       "    <tr>\n",
       "      <th>0</th>\n",
       "      <td>0</td>\n",
       "      <td>2</td>\n",
       "      <td>118149</td>\n",
       "    </tr>\n",
       "    <tr>\n",
       "      <th>1</th>\n",
       "      <td>1</td>\n",
       "      <td>3</td>\n",
       "      <td>72511</td>\n",
       "    </tr>\n",
       "  </tbody>\n",
       "</table>\n",
       "</div>"
      ],
      "text/plain": [
       "   index q_id    d_id\n",
       "0      0    2  118149\n",
       "1      1    3   72511"
      ]
     },
     "metadata": {},
     "output_type": "display_data"
    },
    {
     "data": {
      "text/plain": [
       "115360"
      ]
     },
     "metadata": {},
     "output_type": "display_data"
    }
   ],
   "source": [
    "display(queries.head(2))\n",
    "display(len(queries))\n",
    "\n",
    "display(collection.head(2))\n",
    "display(len(collection))\n",
    "\n",
    "display(rels.head(2))\n",
    "display(len(rels))"
   ]
  },
  {
   "cell_type": "markdown",
   "metadata": {},
   "source": [
    "# Postprocess"
   ]
  },
  {
   "cell_type": "code",
   "execution_count": 7,
   "metadata": {},
   "outputs": [],
   "source": [
    "def chunk_string_with_overlap(s, k, overlap):\n",
    "    if k <= 0:\n",
    "        raise ValueError(\"Chunk length must be greater than 0\")\n",
    "    if overlap < 0:\n",
    "        raise ValueError(\"Overlap must be non-negative\")\n",
    "    if overlap >= k:\n",
    "        raise ValueError(\"Overlap must be less than chunk length\")\n",
    "    \n",
    "    chunks = []\n",
    "    for i in range(0, len(s), k - overlap):\n",
    "        chunk = s[i:i + k]\n",
    "        chunks.append(chunk)\n",
    "        if len(chunk) < k:\n",
    "            break\n",
    "    \n",
    "    return chunks"
   ]
  },
  {
   "cell_type": "markdown",
   "metadata": {},
   "source": [
    "Average length of queries:"
   ]
  },
  {
   "cell_type": "code",
   "execution_count": 8,
   "metadata": {},
   "outputs": [
    {
     "name": "stdout",
     "output_type": "stream",
     "text": [
      "137.06715795893473\n",
      "1043.171305143322\n"
     ]
    }
   ],
   "source": [
    "print(queries['query'].apply(lambda x: len(x.split())).mean())\n",
    "print(queries['query'].apply(lambda x: len(x)).mean())"
   ]
  },
  {
   "cell_type": "code",
   "execution_count": 9,
   "metadata": {},
   "outputs": [],
   "source": [
    "if(Config.CHUNK_QUERIES):\n",
    "    queries['query'] = queries['query'].apply(lambda q: chunk_string_with_overlap(q, 275, 15))\n",
    "    queries = queries.explode('query').reset_index(drop=True)\n",
    "    display(queries.head(10))\n",
    "    print(len(queries))"
   ]
  },
  {
   "cell_type": "markdown",
   "metadata": {},
   "source": [
    "# Embeddings"
   ]
  },
  {
   "cell_type": "code",
   "execution_count": 10,
   "metadata": {},
   "outputs": [],
   "source": [
    "def mean_pooling(model_output, attention_mask):\n",
    "    token_embeddings = model_output.last_hidden_state.detach().cpu()\n",
    "    input_mask_expanded = (\n",
    "        attention_mask.unsqueeze(-1).expand(token_embeddings.size()).float()\n",
    "    )\n",
    "    return torch.sum(token_embeddings * input_mask_expanded, 1) / torch.clamp(\n",
    "        input_mask_expanded.sum(1), min=1e-9\n",
    "    )"
   ]
  },
  {
   "cell_type": "code",
   "execution_count": 11,
   "metadata": {},
   "outputs": [],
   "source": [
    "class EmbedDataset(torch.utils.data.Dataset):\n",
    "    def __init__(self, df, tokenizer, max_length, text_col):\n",
    "        self.df = df.reset_index(drop=True)\n",
    "        self.tokenizer = tokenizer\n",
    "        self.text_col = text_col\n",
    "        self.max = max_length\n",
    "\n",
    "    def __len__(self):\n",
    "        return len(self.df)\n",
    "    \n",
    "    def __getitem__(self, idx):\n",
    "        text = self.df.loc[idx, self.text_col]\n",
    "        tokens = self.tokenizer(\n",
    "                text,\n",
    "                None,\n",
    "                add_special_tokens=True,\n",
    "                padding='max_length',\n",
    "                truncation=True,\n",
    "                max_length=self.max,\n",
    "                return_tensors=\"pt\")\n",
    "        tokens = {k:v.squeeze(0) for k,v in tokens.items()}\n",
    "        return tokens"
   ]
  },
  {
   "cell_type": "code",
   "execution_count": 12,
   "metadata": {},
   "outputs": [],
   "source": [
    "class EmbedderContainer:\n",
    "\n",
    "    def __init__(self, model_name, max_length, batch_size, device):\n",
    "        self.device = device\n",
    "        self.model_name = model_name\n",
    "        self.__model_path = model_name\n",
    "        self.__max_length = max_length\n",
    "        self.__batch_size = batch_size\n",
    "\n",
    "    def init_model(self):\n",
    "        self.__model = AutoModel.from_pretrained(self.__model_path, trust_remote_code=True).to(self.device)  #force_download=True\n",
    "        self.__model.eval()\n",
    "        self.__tokenizer = AutoTokenizer.from_pretrained(self.__model_path, trust_remote_code=True)  #force_download=True\n",
    "\n",
    "    def init_embed_dataset(self, df, text_col):\n",
    "        self.__dataset = EmbedDataset(df, self.__tokenizer, self.__max_length, text_col)\n",
    "        self.__embed_dataloader = torch.utils.data.DataLoader(self.__dataset,\n",
    "                                batch_size=self.__batch_size,\n",
    "                                shuffle=False)\n",
    "        return self.__embed_dataloader\n",
    "\n",
    "    def embed(self, input_ids, attention_mask):\n",
    "        return self.__model(input_ids=input_ids, attention_mask=attention_mask)\n",
    "\n",
    "    def dispose(self):\n",
    "        if hasattr(self, '__dataset'):\n",
    "            del self.__dataset\n",
    "        if hasattr(self, '__embed_dataloader'):\n",
    "            del self.__embed_dataloader\n",
    "        if hasattr(self, '__model'):\n",
    "            del self.__model\n",
    "        if hasattr(self, '__tokenizer'):\n",
    "            del self.__tokenizer\n",
    "        gc.collect()\n",
    "        torch.cuda.empty_cache()\n",
    "    "
   ]
  },
  {
   "cell_type": "code",
   "execution_count": 13,
   "metadata": {},
   "outputs": [],
   "source": [
    "def get_embeddings(embedding_container, compute_collection=True, compute_queries=False):\n",
    "\n",
    "    global collection, queries\n",
    "    embedding_container.init_model()\n",
    "\n",
    "    # COMPUTE COLLECTION EMBEDDINGS\n",
    "    all_collection_embeddings = []\n",
    "    if compute_collection:\n",
    "        # Create dataset for collection\n",
    "        embed_dataloader_tr = embedding_container.init_embed_dataset(collection, 'passage')\n",
    "        for batch in tqdm(embed_dataloader_tr,total=len(embed_dataloader_tr)):\n",
    "            input_ids = batch[\"input_ids\"].to(embedding_container.device)\n",
    "            attention_mask = batch[\"attention_mask\"].to(embedding_container.device)\n",
    "            with torch.no_grad():\n",
    "                with torch.cuda.amp.autocast(enabled=True):\n",
    "                    model_output = embedding_container.embed(input_ids, attention_mask)\n",
    "\n",
    "            sentence_embeddings = mean_pooling(model_output, attention_mask.detach().cpu())\n",
    "            # Normalize the embeddings\n",
    "            sentence_embeddings = F.normalize(sentence_embeddings, p=2, dim=1)\n",
    "            sentence_embeddings =  sentence_embeddings.squeeze(0).detach().cpu().numpy()\n",
    "            all_collection_embeddings.extend(sentence_embeddings)\n",
    "    all_collection_embeddings = np.array(all_collection_embeddings)\n",
    "\n",
    "    # COMPUTE QUERY EMBEDDINGS\n",
    "    all_query_embeddings = []\n",
    "    if compute_queries:\n",
    "        # Create dataset for query\n",
    "        embed_dataloader_te = embedding_container.init_embed_dataset(queries, 'query')\n",
    "        for batch in embed_dataloader_te:\n",
    "            input_ids = batch[\"input_ids\"].to(embedding_container.device)\n",
    "            attention_mask = batch[\"attention_mask\"].to(embedding_container.device)\n",
    "            with torch.no_grad():\n",
    "                with torch.cuda.amp.autocast(enabled=True):\n",
    "                    model_output = embedding_container.embed(input_ids, attention_mask)\n",
    "            sentence_embeddings = mean_pooling(model_output, attention_mask.detach().cpu())\n",
    "            # Normalize the embeddings\n",
    "            sentence_embeddings = F.normalize(sentence_embeddings, p=2, dim=1)\n",
    "            sentence_embeddings =  sentence_embeddings.squeeze(0).detach().cpu().numpy()\n",
    "            all_query_embeddings.extend(sentence_embeddings)\n",
    "    all_query_embeddings = np.array(all_query_embeddings)\n",
    "\n",
    "    # DISPOSE\n",
    "    if 'model_output' in locals():\n",
    "        del model_output\n",
    "    if 'sentence_embeddings' in locals():\n",
    "        del sentence_embeddings\n",
    "    if 'input_ids' in locals():\n",
    "        del input_ids\n",
    "    if 'attention_mask' in locals():\n",
    "        del attention_mask\n",
    "    embedding_container.dispose()\n",
    "\n",
    "    # RETURN EMBEDDINGS\n",
    "    return all_collection_embeddings, all_query_embeddings"
   ]
  },
  {
   "cell_type": "markdown",
   "metadata": {},
   "source": [
    "### Possible Embedding Models"
   ]
  },
  {
   "cell_type": "code",
   "execution_count": 14,
   "metadata": {},
   "outputs": [],
   "source": [
    "DEVICE = \"cuda:1\" # We want to extract embeddings on the second GPU.\n",
    "\n",
    "container = [\n",
    "    #EmbedderContainer('microsoft/deberta-base', 1024, 32, DEVICE),\n",
    "    #EmbedderContainer('microsoft/deberta-large', 1024, 8, DEVICE),\n",
    "    #EmbedderContainer('microsoft/deberta-v3-large', 1024, 8, DEVICE),\n",
    "    EmbedderContainer('allenai/longformer-base-4096', 1024, 32, DEVICE),\n",
    "    #EmbedderContainer('LennartKeller/longformer-gottbert-base-8192-aw512', 1024, 32, DEVICE),\n",
    "    #EmbedderContainer('allenai/longformer-large-4096', 1024, 8, DEVICE),\n",
    "    #EmbedderContainer('google/bigbird-roberta-base', 1024, 32, DEVICE),\n",
    "    #EmbedderContainer('google/bigbird-roberta-large', 1024, 8, DEVICE),\n",
    "\n",
    "    # Sentence Transformers fine-tuned for sentence embeddings:\n",
    "    # EmbedderContainer('sentence-transformers/all-distilroberta-v1', 512, 32, DEVICE), # https://huggingface.co/sentence-transformers/all-distilroberta-v1\n",
    "    # EmbedderContainer('sentence-transformers/msmarco-distilbert-base-v4', 512, 32, DEVICE), # https://huggingface.co/sentence-transformers/msmarco-distilbert-base-v4\n",
    "    #EmbedderContainer('sentence-transformers/all-MiniLM-L6-v2', 384, 64, DEVICE), # https://huggingface.co/sentence-transformers/all-MiniLM-L6-v2\n",
    "]"
   ]
  },
  {
   "cell_type": "markdown",
   "metadata": {},
   "source": [
    "### Generate Embeddings"
   ]
  },
  {
   "cell_type": "code",
   "execution_count": 15,
   "metadata": {},
   "outputs": [],
   "source": [
    "all_collection_embeds = []\n",
    "all_query_embeds = []\n",
    "\n",
    "calculate = True"
   ]
  },
  {
   "cell_type": "code",
   "execution_count": 16,
   "metadata": {},
   "outputs": [],
   "source": [
    "if(os.path.exists(Config.COMBINED_EMBEDDINGS.replace('{TYPE}', 'collection_full'))):\n",
    "    all_collection_embeds = np.load(Config.COMBINED_EMBEDDINGS.replace('{TYPE}', 'collection_full'))\n",
    "    all_query_embeds = np.load(Config.COMBINED_EMBEDDINGS.replace('{TYPE}', 'query_train'))\n",
    "    calculate = False"
   ]
  },
  {
   "cell_type": "code",
   "execution_count": 17,
   "metadata": {},
   "outputs": [
    {
     "name": "stdout",
     "output_type": "stream",
     "text": [
      "Loading embeddings for ./data/embeddings/collection_allenai_longformer-base-4096.npy\n"
     ]
    },
    {
     "name": "stderr",
     "output_type": "stream",
     "text": [
      "/home/staff_homes/kboenisc/miniconda3/envs/rapids-24.06/lib/python3.10/site-packages/huggingface_hub/file_download.py:1132: FutureWarning: `resume_download` is deprecated and will be removed in version 1.0.0. Downloads always resume when possible. If you want to force a new download, use `force_download=True`.\n",
      "  warnings.warn(\n"
     ]
    }
   ],
   "source": [
    "if(calculate):\n",
    "    for embedding_container in container:\n",
    "        name = (Config.EMBEDDINGS_DIRECTORY + \n",
    "                'collection_' + \n",
    "                embedding_container.model_name.replace(\"/\", \"_\") + \n",
    "                \".npy\")\n",
    "        \n",
    "        if os.path.exists(name):\n",
    "            print(f\"Loading embeddings for {name}\")\n",
    "            _, query_embed = get_embeddings(embedding_container, compute_collection=False, compute_queries=True)\n",
    "            collection_embed = np.load(name)\n",
    "        else:\n",
    "            print(f\"Computing embeddings for {name}\") \n",
    "            collection_embed, query_embed = get_embeddings(embedding_container, compute_collection=True, compute_queries=True)\n",
    "            np.save(name, collection_embed)\n",
    "        all_collection_embeds.append(collection_embed)\n",
    "        all_query_embeds.append(query_embed)\n",
    "\n",
    "    del collection_embed, query_embed"
   ]
  },
  {
   "cell_type": "code",
   "execution_count": 18,
   "metadata": {},
   "outputs": [],
   "source": [
    "if(calculate):\n",
    "    all_collection_embeds = np.concatenate(all_collection_embeds,axis=1)\n",
    "    all_query_embeds = np.concatenate(all_query_embeds,axis=1)"
   ]
  },
  {
   "cell_type": "code",
   "execution_count": 19,
   "metadata": {},
   "outputs": [
    {
     "name": "stdout",
     "output_type": "stream",
     "text": [
      "(3095383, 768)\n",
      "(98380, 768)\n"
     ]
    }
   ],
   "source": [
    "print(all_collection_embeds.shape)\n",
    "print(all_query_embeds.shape)"
   ]
  },
  {
   "cell_type": "code",
   "execution_count": 20,
   "metadata": {},
   "outputs": [
    {
     "data": {
      "text/plain": [
       "11"
      ]
     },
     "execution_count": 20,
     "metadata": {},
     "output_type": "execute_result"
    }
   ],
   "source": [
    "gc.collect()"
   ]
  },
  {
   "cell_type": "code",
   "execution_count": 21,
   "metadata": {},
   "outputs": [],
   "source": [
    "if(calculate):\n",
    "    np.save(Config.COMBINED_EMBEDDINGS.replace('{TYPE}', 'collection_full'), all_collection_embeds)\n",
    "    np.save(Config.COMBINED_EMBEDDINGS.replace('{TYPE}', 'query_train'), all_query_embeds)"
   ]
  },
  {
   "cell_type": "markdown",
   "metadata": {},
   "source": [
    "# Training"
   ]
  },
  {
   "cell_type": "code",
   "execution_count": 22,
   "metadata": {},
   "outputs": [],
   "source": [
    "features = []\n",
    "labels = []\n",
    "calculate_feat = True\n",
    "\n",
    "if(os.path.exists(Config.COMBINED_EMBEDDINGS.replace('{TYPE}', 'features'))):\n",
    "    features = np.load(Config.COMBINED_EMBEDDINGS.replace('{TYPE}', 'features'))\n",
    "    labels = np.load(Config.COMBINED_EMBEDDINGS.replace('{TYPE}', 'labels'))\n",
    "    calculate_feat = False\n",
    "\n",
    "subsampling_top_k = 100\n",
    "\n",
    "# query_idx_lookup = {qid: idx for idx, qid in enumerate(queries['q_id'])}\n",
    "passage_idx_lookup = {pid: idx for idx, pid in enumerate(collection['d_id'])}"
   ]
  },
  {
   "cell_type": "code",
   "execution_count": 23,
   "metadata": {},
   "outputs": [],
   "source": [
    "def query_fits_passage(q_idx, c_idx):\n",
    "    '''Does the given collection index fit to a given query index?'''\n",
    "    q_id = queries.iloc[q_idx]['q_id']\n",
    "    d_id = collection.iloc[c_idx]['d_id']\n",
    "    return len(rels[(rels['q_id'] == q_id) & (rels['d_id'] == d_id)].values) > 0"
   ]
  },
  {
   "cell_type": "markdown",
   "metadata": {},
   "source": [
    "**Convert to cupy arrays for faster GPU cosine sims**"
   ]
  },
  {
   "cell_type": "code",
   "execution_count": 24,
   "metadata": {},
   "outputs": [],
   "source": [
    "if(calculate_feat):\n",
    "    all_query_embeds_cp = cp.asarray(all_query_embeds, dtype=cp.float16) \n",
    "    all_collection_embeds_cp = cp.asarray(all_collection_embeds, dtype=cp.float16)"
   ]
  },
  {
   "cell_type": "code",
   "execution_count": 25,
   "metadata": {},
   "outputs": [
    {
     "name": "stderr",
     "output_type": "stream",
     "text": [
      "Processing Queries: 100%|█████████████████████████████████████████████████████████| 98380/98380 [45:52<00:00, 35.75it/s]\n"
     ]
    }
   ],
   "source": [
    "# Loop through queries\n",
    "if(calculate_feat):\n",
    "    for q_idx, row in tqdm(queries.iterrows(), total=len(queries), desc='Processing Queries'):\n",
    "        query_id = row['q_id']\n",
    "        query_embed_cp = all_query_embeds_cp[q_idx]\n",
    "\n",
    "        # Positive samples\n",
    "        positive_indices = set()\n",
    "        rels_for_query = rels[rels['q_id'] == query_id]\n",
    "        for passage_id in rels_for_query['d_id']:\n",
    "            if passage_id in passage_idx_lookup:\n",
    "                passage_idx = passage_idx_lookup[passage_id]\n",
    "                #print('Correct answer:')\n",
    "                #print(collection.iloc[passage_idx]['passage'])\n",
    "                passage_embed_cp = all_collection_embeds_cp[passage_idx]\n",
    "\n",
    "                # Convert CuPy arrays back to NumPy\n",
    "                query_embed_np = cp.asnumpy(query_embed_cp)\n",
    "                passage_embed_np = cp.asnumpy(passage_embed_cp)\n",
    "\n",
    "                # Concatenate using NumPy\n",
    "                feature_np = np.concatenate((query_embed_np, passage_embed_np))\n",
    "                features.append(feature_np)  # Append NumPy array\n",
    "                labels.append(1)\n",
    "                positive_indices.add(passage_idx)\n",
    "        \n",
    "        # Compute cosine similarity on GPU\n",
    "        cos_sim_cp = 1 - cp.matmul(query_embed_cp, all_collection_embeds_cp.T)\n",
    "        top_k_indices = cp.asnumpy(cp.argpartition(cos_sim_cp, subsampling_top_k + len(positive_indices))[:subsampling_top_k + len(positive_indices)])\n",
    "        negative_indices = top_k_indices[:subsampling_top_k]\n",
    "        #print('Query')\n",
    "        #print(queries.iloc[q_idx]['query'])\n",
    "        #print('Passage')\n",
    "        #print(collection.iloc[negative_indices[0]]['passage'])\n",
    "        #print('\\n\\n')\n",
    "\n",
    "        for passage_idx in negative_indices:\n",
    "            passage_embed_cp = all_collection_embeds_cp[passage_idx]\n",
    "\n",
    "            # Convert CuPy arrays back to NumPy\n",
    "            query_embed_np = cp.asnumpy(query_embed_cp)\n",
    "            passage_embed_np = cp.asnumpy(passage_embed_cp)\n",
    "\n",
    "            # Concatenate using NumPy\n",
    "            feature_np = np.concatenate((query_embed_np, passage_embed_np)).astype(np.float16)\n",
    "            features.append(feature_np)  # Append NumPy array\n",
    "            labels.append(0)\n",
    "\n",
    "        # Explicitly free memory if needed\n",
    "        # cp.get_default_memory_pool().free_all_blocks()\n"
   ]
  },
  {
   "cell_type": "code",
   "execution_count": 26,
   "metadata": {},
   "outputs": [],
   "source": [
    "if(calculate_feat):\n",
    "    features = np.array(features)\n",
    "    labels = np.array(labels) "
   ]
  },
  {
   "cell_type": "code",
   "execution_count": 27,
   "metadata": {},
   "outputs": [
    {
     "name": "stdout",
     "output_type": "stream",
     "text": [
      "float16\n"
     ]
    }
   ],
   "source": [
    "print(features.dtype)"
   ]
  },
  {
   "cell_type": "code",
   "execution_count": 28,
   "metadata": {},
   "outputs": [
    {
     "ename": "OSError",
     "evalue": "[Errno 5] Input/output error",
     "output_type": "error",
     "traceback": [
      "\u001b[0;31m---------------------------------------------------------------------------\u001b[0m",
      "\u001b[0;31mOSError\u001b[0m                                   Traceback (most recent call last)",
      "Cell \u001b[0;32mIn[28], line 2\u001b[0m\n\u001b[1;32m      1\u001b[0m \u001b[38;5;28;01mif\u001b[39;00m(calculate_feat):\n\u001b[0;32m----> 2\u001b[0m     \u001b[43mnp\u001b[49m\u001b[38;5;241;43m.\u001b[39;49m\u001b[43msave\u001b[49m\u001b[43m(\u001b[49m\u001b[43mConfig\u001b[49m\u001b[38;5;241;43m.\u001b[39;49m\u001b[43mCOMBINED_EMBEDDINGS\u001b[49m\u001b[38;5;241;43m.\u001b[39;49m\u001b[43mreplace\u001b[49m\u001b[43m(\u001b[49m\u001b[38;5;124;43m'\u001b[39;49m\u001b[38;5;132;43;01m{TYPE}\u001b[39;49;00m\u001b[38;5;124;43m'\u001b[39;49m\u001b[43m,\u001b[49m\u001b[43m \u001b[49m\u001b[38;5;124;43m'\u001b[39;49m\u001b[38;5;124;43mfeatures\u001b[39;49m\u001b[38;5;124;43m'\u001b[39;49m\u001b[43m)\u001b[49m\u001b[43m,\u001b[49m\u001b[43m \u001b[49m\u001b[43mfeatures\u001b[49m\u001b[43m)\u001b[49m\n\u001b[1;32m      3\u001b[0m     np\u001b[38;5;241m.\u001b[39msave(Config\u001b[38;5;241m.\u001b[39mCOMBINED_EMBEDDINGS\u001b[38;5;241m.\u001b[39mreplace(\u001b[38;5;124m'\u001b[39m\u001b[38;5;132;01m{TYPE}\u001b[39;00m\u001b[38;5;124m'\u001b[39m, \u001b[38;5;124m'\u001b[39m\u001b[38;5;124mlabels\u001b[39m\u001b[38;5;124m'\u001b[39m), labels)\n",
      "File \u001b[0;32m~/miniconda3/envs/rapids-24.06/lib/python3.10/site-packages/numpy/lib/npyio.py:544\u001b[0m, in \u001b[0;36msave\u001b[0;34m(file, arr, allow_pickle, fix_imports)\u001b[0m\n\u001b[1;32m    541\u001b[0m         file \u001b[38;5;241m=\u001b[39m file \u001b[38;5;241m+\u001b[39m \u001b[38;5;124m'\u001b[39m\u001b[38;5;124m.npy\u001b[39m\u001b[38;5;124m'\u001b[39m\n\u001b[1;32m    542\u001b[0m     file_ctx \u001b[38;5;241m=\u001b[39m \u001b[38;5;28mopen\u001b[39m(file, \u001b[38;5;124m\"\u001b[39m\u001b[38;5;124mwb\u001b[39m\u001b[38;5;124m\"\u001b[39m)\n\u001b[0;32m--> 544\u001b[0m \u001b[38;5;28;01mwith\u001b[39;00m file_ctx \u001b[38;5;28;01mas\u001b[39;00m fid:\n\u001b[1;32m    545\u001b[0m     arr \u001b[38;5;241m=\u001b[39m np\u001b[38;5;241m.\u001b[39masanyarray(arr)\n\u001b[1;32m    546\u001b[0m     \u001b[38;5;28mformat\u001b[39m\u001b[38;5;241m.\u001b[39mwrite_array(fid, arr, allow_pickle\u001b[38;5;241m=\u001b[39mallow_pickle,\n\u001b[1;32m    547\u001b[0m                        pickle_kwargs\u001b[38;5;241m=\u001b[39m\u001b[38;5;28mdict\u001b[39m(fix_imports\u001b[38;5;241m=\u001b[39mfix_imports))\n",
      "\u001b[0;31mOSError\u001b[0m: [Errno 5] Input/output error"
     ]
    }
   ],
   "source": [
    "if(calculate_feat):\n",
    "    np.save(Config.COMBINED_EMBEDDINGS.replace('{TYPE}', 'features'), features)\n",
    "    np.save(Config.COMBINED_EMBEDDINGS.replace('{TYPE}', 'labels'), labels)"
   ]
  },
  {
   "cell_type": "code",
   "execution_count": null,
   "metadata": {},
   "outputs": [],
   "source": [
    "# Ensure there are no NaNs or infinities in the data\n",
    "#if np.any(np.isnan(features)) or np.any(np.isinf(features)):\n",
    "#    raise ValueError(\"Input data contains NaNs or infinite values\")"
   ]
  },
  {
   "cell_type": "code",
   "execution_count": 29,
   "metadata": {},
   "outputs": [
    {
     "name": "stdout",
     "output_type": "stream",
     "text": [
      "(9953360, 1536)\n",
      "(9953360,)\n",
      "[1 0 0 0 0 0 0 0 0 0 0 0 0 0 0 0 0 0 0 0 0 0 0 0 0 0 0 0 0 0 0 0 0 0 0 0 0\n",
      " 0 0 0 0 0 0 0 0 0 0 0 0 0 0 0 0 0 0 0 0 0 0 0 0 0 0 0 0 0 0 0 0 0 0 0 0 0\n",
      " 0 0 0 0 0 0 0 0 0 0 0 0 0 0 0 0 0 0 0 0 0 0 0 0 0 0 0 1 0 0 0 0 0 0 0 0 0\n",
      " 0 0 0 0 0 0 0 0 0 0 0 0 0 0 0 0 0 0 0 0 0 0 0 0 0 0 0 0 0 0 0 0 0 0 0 0 0\n",
      " 0 0 0 0 0 0 0 0 0 0 0 0 0 0 0 0 0 0 0 0 0 0 0 0 0 0 0 0 0 0 0 0 0 0 0 0 0\n",
      " 0 0 0 0 0 0 0 0 0 0 0 0 0 0 0]\n",
      "Negative labels: 9838000\n",
      "Positive labels: 115360\n"
     ]
    }
   ],
   "source": [
    "print(features.shape)\n",
    "print(labels.shape)\n",
    "print(labels[:200])\n",
    "print('Negative labels: ' + str(len(list(filter(lambda x: x == 0, labels)))))\n",
    "print('Positive labels: ' + str(len(list(filter(lambda x: x > 0, labels)))))\n"
   ]
  },
  {
   "cell_type": "code",
   "execution_count": 30,
   "metadata": {},
   "outputs": [],
   "source": [
    "if 'all_collection_embeds' in locals() and 'all_collection_embeds_cp' in locals():\n",
    "    del all_collection_embeds, all_collection_embeds_cp, all_query_embeds, all_query_embeds_cp\n",
    "    gc.collect()"
   ]
  },
  {
   "cell_type": "code",
   "execution_count": 31,
   "metadata": {},
   "outputs": [],
   "source": [
    "X_train, X_test, y_train, y_test = train_test_split(features, labels, test_size=0.1, random_state=42)"
   ]
  },
  {
   "cell_type": "code",
   "execution_count": 32,
   "metadata": {},
   "outputs": [
    {
     "name": "stdout",
     "output_type": "stream",
     "text": [
      "8958024\n",
      "8958024\n",
      "8958024\n",
      "995336\n"
     ]
    }
   ],
   "source": [
    "print(len(X_train))\n",
    "print(len(X_train))\n",
    "print(len(y_train))\n",
    "print(len(y_test))"
   ]
  },
  {
   "cell_type": "code",
   "execution_count": 33,
   "metadata": {},
   "outputs": [
    {
     "data": {
      "text/plain": [
       "0"
      ]
     },
     "execution_count": 33,
     "metadata": {},
     "output_type": "execute_result"
    }
   ],
   "source": [
    "del features, labels\n",
    "\n",
    "gc.collect()"
   ]
  },
  {
   "cell_type": "markdown",
   "metadata": {},
   "source": [
    "**Even with subsampling, we still have a class imbalance. Counter that:**\n",
    "\n",
    "*Update*: Yikes, RAPIDS doesn't support passing the class_weights into the SVR yet."
   ]
  },
  {
   "cell_type": "code",
   "execution_count": 34,
   "metadata": {},
   "outputs": [],
   "source": [
    "# Compute class weights to handle imbalance\n",
    "# class_weights = compute_class_weight('balanced', classes=np.unique(y_train), y=y_train)\n",
    "# class_weights_dict = {i: class_weights[i] for i in range(len(class_weights))}"
   ]
  },
  {
   "cell_type": "markdown",
   "metadata": {},
   "source": [
    "### Bagging\n",
    "\n",
    "We have too many features and datapoints, which a single SVR can't handle on this machine. Instead, I'm going to:\n",
    "\n",
    "- Train X different SVR using a portion of the rows\n",
    "- Ensemble the SVRs\n",
    "- In that way duplicate the bagging of Random Forest"
   ]
  },
  {
   "cell_type": "code",
   "execution_count": 35,
   "metadata": {},
   "outputs": [],
   "source": [
    "# Helper function to create random subsets with overlap\n",
    "def create_subsets(X, y, num_subsets, overlap_percentage):\n",
    "    subsets = []\n",
    "    subset_size = int((len(X) // num_subsets) * overlap_percentage)\n",
    "    num_samples = len(X)\n",
    "    \n",
    "    for _ in range(num_subsets):\n",
    "        subset_indices = np.random.choice(num_samples, size=subset_size, replace=True)\n",
    "        X_subset = X[subset_indices]\n",
    "        y_subset = y[subset_indices]\n",
    "        subsets.append((X_subset, y_subset))\n",
    "        print(f'Done with {_}/{num_subsets}')\n",
    "    \n",
    "    return subsets"
   ]
  },
  {
   "cell_type": "code",
   "execution_count": 36,
   "metadata": {},
   "outputs": [],
   "source": [
    "# Logging function to track progress\n",
    "def log_progress(model, X_val, y_val):\n",
    "    y_pred = model.predict(X_val)\n",
    "    y_pred_binary = (y_pred > 0.5).astype(int)\n",
    "    \n",
    "    precision = precision_score(y_val, y_pred_binary)\n",
    "    recall = recall_score(y_val, y_pred_binary)\n",
    "    f1 = f1_score(y_val, y_pred_binary)\n",
    "    accuracy = accuracy_score(y_val, y_pred_binary)\n",
    "    \n",
    "    print(f'  Accuracy: {accuracy:.4f}')\n",
    "    print(f'  Precision: {precision:.4f}')\n",
    "    print(f'  Recall: {recall:.4f}')\n",
    "    print(f'  F1 Score: {f1:.4f}')"
   ]
  },
  {
   "cell_type": "markdown",
   "metadata": {},
   "source": [
    "### Normalize\n",
    "\n",
    "There is no way we fit 200GB of features into the GPU at once to transform the data. Hence, we calculate the fitting on the CPU with the standard scaler, chunk it and then transform in chunks."
   ]
  },
  {
   "cell_type": "code",
   "execution_count": 37,
   "metadata": {},
   "outputs": [
    {
     "name": "stdout",
     "output_type": "stream",
     "text": [
      "Doing Chunk: 0/358\n",
      "Doing Chunk: 1/358\n",
      "Doing Chunk: 2/358\n",
      "Doing Chunk: 3/358\n",
      "Doing Chunk: 4/358\n",
      "Doing Chunk: 5/358\n",
      "Doing Chunk: 6/358\n",
      "Doing Chunk: 7/358\n",
      "Doing Chunk: 8/358\n",
      "Doing Chunk: 9/358\n",
      "Doing Chunk: 10/358\n",
      "Doing Chunk: 11/358\n",
      "Doing Chunk: 12/358\n",
      "Doing Chunk: 13/358\n",
      "Doing Chunk: 14/358\n",
      "Doing Chunk: 15/358\n",
      "Doing Chunk: 16/358\n",
      "Doing Chunk: 17/358\n",
      "Doing Chunk: 18/358\n",
      "Doing Chunk: 19/358\n",
      "Doing Chunk: 20/358\n",
      "Doing Chunk: 21/358\n",
      "Doing Chunk: 22/358\n",
      "Doing Chunk: 23/358\n",
      "Doing Chunk: 24/358\n",
      "Doing Chunk: 25/358\n",
      "Doing Chunk: 26/358\n",
      "Doing Chunk: 27/358\n",
      "Doing Chunk: 28/358\n",
      "Doing Chunk: 29/358\n",
      "Doing Chunk: 30/358\n",
      "Doing Chunk: 31/358\n",
      "Doing Chunk: 32/358\n",
      "Doing Chunk: 33/358\n",
      "Doing Chunk: 34/358\n",
      "Doing Chunk: 35/358\n",
      "Doing Chunk: 36/358\n",
      "Doing Chunk: 37/358\n",
      "Doing Chunk: 38/358\n",
      "Doing Chunk: 39/358\n",
      "Doing Chunk: 40/358\n",
      "Doing Chunk: 41/358\n",
      "Doing Chunk: 42/358\n",
      "Doing Chunk: 43/358\n",
      "Doing Chunk: 44/358\n",
      "Doing Chunk: 45/358\n",
      "Doing Chunk: 46/358\n",
      "Doing Chunk: 47/358\n",
      "Doing Chunk: 48/358\n",
      "Doing Chunk: 49/358\n",
      "Doing Chunk: 50/358\n",
      "Doing Chunk: 51/358\n",
      "Doing Chunk: 52/358\n",
      "Doing Chunk: 53/358\n",
      "Doing Chunk: 54/358\n",
      "Doing Chunk: 55/358\n",
      "Doing Chunk: 56/358\n",
      "Doing Chunk: 57/358\n",
      "Doing Chunk: 58/358\n",
      "Doing Chunk: 59/358\n",
      "Doing Chunk: 60/358\n",
      "Doing Chunk: 61/358\n",
      "Doing Chunk: 62/358\n",
      "Doing Chunk: 63/358\n",
      "Doing Chunk: 64/358\n",
      "Doing Chunk: 65/358\n",
      "Doing Chunk: 66/358\n",
      "Doing Chunk: 67/358\n",
      "Doing Chunk: 68/358\n",
      "Doing Chunk: 69/358\n",
      "Doing Chunk: 70/358\n",
      "Doing Chunk: 71/358\n",
      "Doing Chunk: 72/358\n",
      "Doing Chunk: 73/358\n",
      "Doing Chunk: 74/358\n",
      "Doing Chunk: 75/358\n",
      "Doing Chunk: 76/358\n",
      "Doing Chunk: 77/358\n",
      "Doing Chunk: 78/358\n",
      "Doing Chunk: 79/358\n",
      "Doing Chunk: 80/358\n",
      "Doing Chunk: 81/358\n",
      "Doing Chunk: 82/358\n",
      "Doing Chunk: 83/358\n",
      "Doing Chunk: 84/358\n",
      "Doing Chunk: 85/358\n",
      "Doing Chunk: 86/358\n",
      "Doing Chunk: 87/358\n",
      "Doing Chunk: 88/358\n",
      "Doing Chunk: 89/358\n",
      "Doing Chunk: 90/358\n",
      "Doing Chunk: 91/358\n",
      "Doing Chunk: 92/358\n",
      "Doing Chunk: 93/358\n",
      "Doing Chunk: 94/358\n",
      "Doing Chunk: 95/358\n",
      "Doing Chunk: 96/358\n",
      "Doing Chunk: 97/358\n",
      "Doing Chunk: 98/358\n",
      "Doing Chunk: 99/358\n",
      "Doing Chunk: 100/358\n",
      "Doing Chunk: 101/358\n",
      "Doing Chunk: 102/358\n",
      "Doing Chunk: 103/358\n",
      "Doing Chunk: 104/358\n",
      "Doing Chunk: 105/358\n",
      "Doing Chunk: 106/358\n",
      "Doing Chunk: 107/358\n",
      "Doing Chunk: 108/358\n",
      "Doing Chunk: 109/358\n",
      "Doing Chunk: 110/358\n",
      "Doing Chunk: 111/358\n",
      "Doing Chunk: 112/358\n",
      "Doing Chunk: 113/358\n",
      "Doing Chunk: 114/358\n",
      "Doing Chunk: 115/358\n",
      "Doing Chunk: 116/358\n",
      "Doing Chunk: 117/358\n",
      "Doing Chunk: 118/358\n",
      "Doing Chunk: 119/358\n",
      "Doing Chunk: 120/358\n",
      "Doing Chunk: 121/358\n",
      "Doing Chunk: 122/358\n",
      "Doing Chunk: 123/358\n",
      "Doing Chunk: 124/358\n",
      "Doing Chunk: 125/358\n",
      "Doing Chunk: 126/358\n",
      "Doing Chunk: 127/358\n",
      "Doing Chunk: 128/358\n",
      "Doing Chunk: 129/358\n",
      "Doing Chunk: 130/358\n",
      "Doing Chunk: 131/358\n",
      "Doing Chunk: 132/358\n",
      "Doing Chunk: 133/358\n",
      "Doing Chunk: 134/358\n",
      "Doing Chunk: 135/358\n",
      "Doing Chunk: 136/358\n",
      "Doing Chunk: 137/358\n",
      "Doing Chunk: 138/358\n",
      "Doing Chunk: 139/358\n",
      "Doing Chunk: 140/358\n",
      "Doing Chunk: 141/358\n",
      "Doing Chunk: 142/358\n",
      "Doing Chunk: 143/358\n",
      "Doing Chunk: 144/358\n",
      "Doing Chunk: 145/358\n",
      "Doing Chunk: 146/358\n",
      "Doing Chunk: 147/358\n",
      "Doing Chunk: 148/358\n",
      "Doing Chunk: 149/358\n",
      "Doing Chunk: 150/358\n",
      "Doing Chunk: 151/358\n",
      "Doing Chunk: 152/358\n",
      "Doing Chunk: 153/358\n",
      "Doing Chunk: 154/358\n",
      "Doing Chunk: 155/358\n",
      "Doing Chunk: 156/358\n",
      "Doing Chunk: 157/358\n",
      "Doing Chunk: 158/358\n",
      "Doing Chunk: 159/358\n",
      "Doing Chunk: 160/358\n",
      "Doing Chunk: 161/358\n",
      "Doing Chunk: 162/358\n",
      "Doing Chunk: 163/358\n",
      "Doing Chunk: 164/358\n",
      "Doing Chunk: 165/358\n",
      "Doing Chunk: 166/358\n",
      "Doing Chunk: 167/358\n",
      "Doing Chunk: 168/358\n",
      "Doing Chunk: 169/358\n",
      "Doing Chunk: 170/358\n",
      "Doing Chunk: 171/358\n",
      "Doing Chunk: 172/358\n",
      "Doing Chunk: 173/358\n",
      "Doing Chunk: 174/358\n",
      "Doing Chunk: 175/358\n",
      "Doing Chunk: 176/358\n",
      "Doing Chunk: 177/358\n",
      "Doing Chunk: 178/358\n",
      "Doing Chunk: 179/358\n",
      "Doing Chunk: 180/358\n",
      "Doing Chunk: 181/358\n",
      "Doing Chunk: 182/358\n",
      "Doing Chunk: 183/358\n",
      "Doing Chunk: 184/358\n",
      "Doing Chunk: 185/358\n",
      "Doing Chunk: 186/358\n",
      "Doing Chunk: 187/358\n",
      "Doing Chunk: 188/358\n",
      "Doing Chunk: 189/358\n",
      "Doing Chunk: 190/358\n",
      "Doing Chunk: 191/358\n",
      "Doing Chunk: 192/358\n",
      "Doing Chunk: 193/358\n",
      "Doing Chunk: 194/358\n",
      "Doing Chunk: 195/358\n",
      "Doing Chunk: 196/358\n",
      "Doing Chunk: 197/358\n",
      "Doing Chunk: 198/358\n",
      "Doing Chunk: 199/358\n",
      "Doing Chunk: 200/358\n",
      "Doing Chunk: 201/358\n",
      "Doing Chunk: 202/358\n",
      "Doing Chunk: 203/358\n",
      "Doing Chunk: 204/358\n",
      "Doing Chunk: 205/358\n",
      "Doing Chunk: 206/358\n",
      "Doing Chunk: 207/358\n",
      "Doing Chunk: 208/358\n",
      "Doing Chunk: 209/358\n",
      "Doing Chunk: 210/358\n",
      "Doing Chunk: 211/358\n",
      "Doing Chunk: 212/358\n",
      "Doing Chunk: 213/358\n",
      "Doing Chunk: 214/358\n",
      "Doing Chunk: 215/358\n",
      "Doing Chunk: 216/358\n",
      "Doing Chunk: 217/358\n",
      "Doing Chunk: 218/358\n",
      "Doing Chunk: 219/358\n",
      "Doing Chunk: 220/358\n",
      "Doing Chunk: 221/358\n",
      "Doing Chunk: 222/358\n",
      "Doing Chunk: 223/358\n",
      "Doing Chunk: 224/358\n",
      "Doing Chunk: 225/358\n",
      "Doing Chunk: 226/358\n",
      "Doing Chunk: 227/358\n",
      "Doing Chunk: 228/358\n",
      "Doing Chunk: 229/358\n",
      "Doing Chunk: 230/358\n",
      "Doing Chunk: 231/358\n",
      "Doing Chunk: 232/358\n",
      "Doing Chunk: 233/358\n",
      "Doing Chunk: 234/358\n",
      "Doing Chunk: 235/358\n",
      "Doing Chunk: 236/358\n",
      "Doing Chunk: 237/358\n",
      "Doing Chunk: 238/358\n",
      "Doing Chunk: 239/358\n",
      "Doing Chunk: 240/358\n",
      "Doing Chunk: 241/358\n",
      "Doing Chunk: 242/358\n",
      "Doing Chunk: 243/358\n",
      "Doing Chunk: 244/358\n",
      "Doing Chunk: 245/358\n",
      "Doing Chunk: 246/358\n",
      "Doing Chunk: 247/358\n",
      "Doing Chunk: 248/358\n",
      "Doing Chunk: 249/358\n",
      "Doing Chunk: 250/358\n",
      "Doing Chunk: 251/358\n",
      "Doing Chunk: 252/358\n",
      "Doing Chunk: 253/358\n",
      "Doing Chunk: 254/358\n",
      "Doing Chunk: 255/358\n",
      "Doing Chunk: 256/358\n",
      "Doing Chunk: 257/358\n",
      "Doing Chunk: 258/358\n",
      "Doing Chunk: 259/358\n",
      "Doing Chunk: 260/358\n",
      "Doing Chunk: 261/358\n",
      "Doing Chunk: 262/358\n",
      "Doing Chunk: 263/358\n",
      "Doing Chunk: 264/358\n",
      "Doing Chunk: 265/358\n",
      "Doing Chunk: 266/358\n",
      "Doing Chunk: 267/358\n",
      "Doing Chunk: 268/358\n",
      "Doing Chunk: 269/358\n",
      "Doing Chunk: 270/358\n",
      "Doing Chunk: 271/358\n",
      "Doing Chunk: 272/358\n",
      "Doing Chunk: 273/358\n",
      "Doing Chunk: 274/358\n",
      "Doing Chunk: 275/358\n",
      "Doing Chunk: 276/358\n",
      "Doing Chunk: 277/358\n",
      "Doing Chunk: 278/358\n",
      "Doing Chunk: 279/358\n",
      "Doing Chunk: 280/358\n",
      "Doing Chunk: 281/358\n",
      "Doing Chunk: 282/358\n",
      "Doing Chunk: 283/358\n",
      "Doing Chunk: 284/358\n",
      "Doing Chunk: 285/358\n",
      "Doing Chunk: 286/358\n",
      "Doing Chunk: 287/358\n",
      "Doing Chunk: 288/358\n",
      "Doing Chunk: 289/358\n",
      "Doing Chunk: 290/358\n",
      "Doing Chunk: 291/358\n",
      "Doing Chunk: 292/358\n",
      "Doing Chunk: 293/358\n",
      "Doing Chunk: 294/358\n",
      "Doing Chunk: 295/358\n",
      "Doing Chunk: 296/358\n",
      "Doing Chunk: 297/358\n",
      "Doing Chunk: 298/358\n",
      "Doing Chunk: 299/358\n",
      "Doing Chunk: 300/358\n",
      "Doing Chunk: 301/358\n",
      "Doing Chunk: 302/358\n",
      "Doing Chunk: 303/358\n",
      "Doing Chunk: 304/358\n",
      "Doing Chunk: 305/358\n",
      "Doing Chunk: 306/358\n",
      "Doing Chunk: 307/358\n",
      "Doing Chunk: 308/358\n",
      "Doing Chunk: 309/358\n",
      "Doing Chunk: 310/358\n",
      "Doing Chunk: 311/358\n",
      "Doing Chunk: 312/358\n",
      "Doing Chunk: 313/358\n",
      "Doing Chunk: 314/358\n",
      "Doing Chunk: 315/358\n",
      "Doing Chunk: 316/358\n",
      "Doing Chunk: 317/358\n",
      "Doing Chunk: 318/358\n",
      "Doing Chunk: 319/358\n",
      "Doing Chunk: 320/358\n",
      "Doing Chunk: 321/358\n",
      "Doing Chunk: 322/358\n",
      "Doing Chunk: 323/358\n",
      "Doing Chunk: 324/358\n",
      "Doing Chunk: 325/358\n",
      "Doing Chunk: 326/358\n",
      "Doing Chunk: 327/358\n",
      "Doing Chunk: 328/358\n",
      "Doing Chunk: 329/358\n",
      "Doing Chunk: 330/358\n",
      "Doing Chunk: 331/358\n",
      "Doing Chunk: 332/358\n",
      "Doing Chunk: 333/358\n",
      "Doing Chunk: 334/358\n",
      "Doing Chunk: 335/358\n",
      "Doing Chunk: 336/358\n",
      "Doing Chunk: 337/358\n",
      "Doing Chunk: 338/358\n",
      "Doing Chunk: 339/358\n",
      "Doing Chunk: 340/358\n",
      "Doing Chunk: 341/358\n",
      "Doing Chunk: 342/358\n",
      "Doing Chunk: 343/358\n",
      "Doing Chunk: 344/358\n",
      "Doing Chunk: 345/358\n",
      "Doing Chunk: 346/358\n",
      "Doing Chunk: 347/358\n",
      "Doing Chunk: 348/358\n",
      "Doing Chunk: 349/358\n",
      "Doing Chunk: 350/358\n",
      "Doing Chunk: 351/358\n",
      "Doing Chunk: 352/358\n",
      "Doing Chunk: 353/358\n",
      "Doing Chunk: 354/358\n",
      "Doing Chunk: 355/358\n",
      "Doing Chunk: 356/358\n",
      "Doing Chunk: 357/358\n",
      "Doing Chunk: 358/358\n"
     ]
    }
   ],
   "source": [
    "def chunkify(data, chunk_size):\n",
    "    for i in range(0, len(data), chunk_size):\n",
    "        yield data[i:i + chunk_size]\n",
    "\n",
    "# Initialize a CPU-based StandardScaler\n",
    "cpu_scaler = StandardScaler()\n",
    "\n",
    "# Fit the CPU scaler incrementally on each chunk of X_train\n",
    "chunk_size = 25000\n",
    "count = 0\n",
    "total = len(X_train) // chunk_size\n",
    "for chunk in chunkify(X_train, chunk_size):\n",
    "    print(f'Doing Chunk: {count}/{total}')\n",
    "    cpu_scaler.partial_fit(chunk)\n",
    "    count += 1"
   ]
  },
  {
   "cell_type": "markdown",
   "metadata": {},
   "source": [
    "**Save the scaler for the test inference**"
   ]
  },
  {
   "cell_type": "code",
   "execution_count": 38,
   "metadata": {},
   "outputs": [],
   "source": [
    "with open('cpu_scaler.pkl', 'wb') as file:\n",
    "    pickle.dump(cpu_scaler, file)"
   ]
  },
  {
   "cell_type": "code",
   "execution_count": 39,
   "metadata": {},
   "outputs": [
    {
     "name": "stdout",
     "output_type": "stream",
     "text": [
      "Done with 0/8958024\n"
     ]
    },
    {
     "name": "stdout",
     "output_type": "stream",
     "text": [
      "Done with 25000/8958024\n",
      "Done with 50000/8958024\n",
      "Done with 75000/8958024\n",
      "Done with 100000/8958024\n",
      "Done with 125000/8958024\n",
      "Done with 150000/8958024\n",
      "Done with 175000/8958024\n",
      "Done with 200000/8958024\n",
      "Done with 225000/8958024\n",
      "Done with 250000/8958024\n",
      "Done with 275000/8958024\n",
      "Done with 300000/8958024\n",
      "Done with 325000/8958024\n",
      "Done with 350000/8958024\n",
      "Done with 375000/8958024\n",
      "Done with 400000/8958024\n",
      "Done with 425000/8958024\n",
      "Done with 450000/8958024\n",
      "Done with 475000/8958024\n",
      "Done with 500000/8958024\n",
      "Done with 525000/8958024\n",
      "Done with 550000/8958024\n",
      "Done with 575000/8958024\n",
      "Done with 600000/8958024\n",
      "Done with 625000/8958024\n",
      "Done with 650000/8958024\n",
      "Done with 675000/8958024\n",
      "Done with 700000/8958024\n",
      "Done with 725000/8958024\n",
      "Done with 750000/8958024\n",
      "Done with 775000/8958024\n",
      "Done with 800000/8958024\n",
      "Done with 825000/8958024\n",
      "Done with 850000/8958024\n",
      "Done with 875000/8958024\n",
      "Done with 900000/8958024\n",
      "Done with 925000/8958024\n",
      "Done with 950000/8958024\n",
      "Done with 975000/8958024\n",
      "Done with 1000000/8958024\n",
      "Done with 1025000/8958024\n",
      "Done with 1050000/8958024\n",
      "Done with 1075000/8958024\n",
      "Done with 1100000/8958024\n",
      "Done with 1125000/8958024\n",
      "Done with 1150000/8958024\n",
      "Done with 1175000/8958024\n",
      "Done with 1200000/8958024\n",
      "Done with 1225000/8958024\n",
      "Done with 1250000/8958024\n",
      "Done with 1275000/8958024\n",
      "Done with 1300000/8958024\n",
      "Done with 1325000/8958024\n",
      "Done with 1350000/8958024\n",
      "Done with 1375000/8958024\n",
      "Done with 1400000/8958024\n",
      "Done with 1425000/8958024\n",
      "Done with 1450000/8958024\n",
      "Done with 1475000/8958024\n",
      "Done with 1500000/8958024\n",
      "Done with 1525000/8958024\n",
      "Done with 1550000/8958024\n",
      "Done with 1575000/8958024\n",
      "Done with 1600000/8958024\n",
      "Done with 1625000/8958024\n",
      "Done with 1650000/8958024\n",
      "Done with 1675000/8958024\n",
      "Done with 1700000/8958024\n",
      "Done with 1725000/8958024\n",
      "Done with 1750000/8958024\n",
      "Done with 1775000/8958024\n",
      "Done with 1800000/8958024\n",
      "Done with 1825000/8958024\n",
      "Done with 1850000/8958024\n",
      "Done with 1875000/8958024\n",
      "Done with 1900000/8958024\n",
      "Done with 1925000/8958024\n",
      "Done with 1950000/8958024\n",
      "Done with 1975000/8958024\n",
      "Done with 2000000/8958024\n",
      "Done with 2025000/8958024\n",
      "Done with 2050000/8958024\n",
      "Done with 2075000/8958024\n",
      "Done with 2100000/8958024\n",
      "Done with 2125000/8958024\n",
      "Done with 2150000/8958024\n",
      "Done with 2175000/8958024\n",
      "Done with 2200000/8958024\n",
      "Done with 2225000/8958024\n",
      "Done with 2250000/8958024\n",
      "Done with 2275000/8958024\n",
      "Done with 2300000/8958024\n",
      "Done with 2325000/8958024\n",
      "Done with 2350000/8958024\n",
      "Done with 2375000/8958024\n",
      "Done with 2400000/8958024\n",
      "Done with 2425000/8958024\n",
      "Done with 2450000/8958024\n",
      "Done with 2475000/8958024\n",
      "Done with 2500000/8958024\n",
      "Done with 2525000/8958024\n",
      "Done with 2550000/8958024\n",
      "Done with 2575000/8958024\n",
      "Done with 2600000/8958024\n",
      "Done with 2625000/8958024\n",
      "Done with 2650000/8958024\n",
      "Done with 2675000/8958024\n",
      "Done with 2700000/8958024\n",
      "Done with 2725000/8958024\n",
      "Done with 2750000/8958024\n",
      "Done with 2775000/8958024\n",
      "Done with 2800000/8958024\n",
      "Done with 2825000/8958024\n",
      "Done with 2850000/8958024\n",
      "Done with 2875000/8958024\n",
      "Done with 2900000/8958024\n",
      "Done with 2925000/8958024\n",
      "Done with 2950000/8958024\n",
      "Done with 2975000/8958024\n",
      "Done with 3000000/8958024\n",
      "Done with 3025000/8958024\n",
      "Done with 3050000/8958024\n",
      "Done with 3075000/8958024\n",
      "Done with 3100000/8958024\n",
      "Done with 3125000/8958024\n",
      "Done with 3150000/8958024\n",
      "Done with 3175000/8958024\n",
      "Done with 3200000/8958024\n",
      "Done with 3225000/8958024\n",
      "Done with 3250000/8958024\n",
      "Done with 3275000/8958024\n",
      "Done with 3300000/8958024\n",
      "Done with 3325000/8958024\n",
      "Done with 3350000/8958024\n",
      "Done with 3375000/8958024\n",
      "Done with 3400000/8958024\n",
      "Done with 3425000/8958024\n",
      "Done with 3450000/8958024\n",
      "Done with 3475000/8958024\n",
      "Done with 3500000/8958024\n",
      "Done with 3525000/8958024\n",
      "Done with 3550000/8958024\n",
      "Done with 3575000/8958024\n",
      "Done with 3600000/8958024\n",
      "Done with 3625000/8958024\n",
      "Done with 3650000/8958024\n",
      "Done with 3675000/8958024\n",
      "Done with 3700000/8958024\n",
      "Done with 3725000/8958024\n",
      "Done with 3750000/8958024\n",
      "Done with 3775000/8958024\n",
      "Done with 3800000/8958024\n",
      "Done with 3825000/8958024\n",
      "Done with 3850000/8958024\n",
      "Done with 3875000/8958024\n",
      "Done with 3900000/8958024\n",
      "Done with 3925000/8958024\n",
      "Done with 3950000/8958024\n",
      "Done with 3975000/8958024\n",
      "Done with 4000000/8958024\n",
      "Done with 4025000/8958024\n",
      "Done with 4050000/8958024\n",
      "Done with 4075000/8958024\n",
      "Done with 4100000/8958024\n",
      "Done with 4125000/8958024\n",
      "Done with 4150000/8958024\n",
      "Done with 4175000/8958024\n",
      "Done with 4200000/8958024\n",
      "Done with 4225000/8958024\n",
      "Done with 4250000/8958024\n",
      "Done with 4275000/8958024\n",
      "Done with 4300000/8958024\n",
      "Done with 4325000/8958024\n",
      "Done with 4350000/8958024\n",
      "Done with 4375000/8958024\n",
      "Done with 4400000/8958024\n",
      "Done with 4425000/8958024\n",
      "Done with 4450000/8958024\n",
      "Done with 4475000/8958024\n",
      "Done with 4500000/8958024\n",
      "Done with 4525000/8958024\n",
      "Done with 4550000/8958024\n",
      "Done with 4575000/8958024\n",
      "Done with 4600000/8958024\n",
      "Done with 4625000/8958024\n",
      "Done with 4650000/8958024\n",
      "Done with 4675000/8958024\n",
      "Done with 4700000/8958024\n",
      "Done with 4725000/8958024\n",
      "Done with 4750000/8958024\n",
      "Done with 4775000/8958024\n",
      "Done with 4800000/8958024\n",
      "Done with 4825000/8958024\n",
      "Done with 4850000/8958024\n",
      "Done with 4875000/8958024\n",
      "Done with 4900000/8958024\n",
      "Done with 4925000/8958024\n",
      "Done with 4950000/8958024\n",
      "Done with 4975000/8958024\n",
      "Done with 5000000/8958024\n",
      "Done with 5025000/8958024\n",
      "Done with 5050000/8958024\n",
      "Done with 5075000/8958024\n",
      "Done with 5100000/8958024\n",
      "Done with 5125000/8958024\n",
      "Done with 5150000/8958024\n",
      "Done with 5175000/8958024\n",
      "Done with 5200000/8958024\n",
      "Done with 5225000/8958024\n",
      "Done with 5250000/8958024\n",
      "Done with 5275000/8958024\n",
      "Done with 5300000/8958024\n",
      "Done with 5325000/8958024\n",
      "Done with 5350000/8958024\n",
      "Done with 5375000/8958024\n",
      "Done with 5400000/8958024\n",
      "Done with 5425000/8958024\n",
      "Done with 5450000/8958024\n",
      "Done with 5475000/8958024\n",
      "Done with 5500000/8958024\n",
      "Done with 5525000/8958024\n",
      "Done with 5550000/8958024\n",
      "Done with 5575000/8958024\n",
      "Done with 5600000/8958024\n",
      "Done with 5625000/8958024\n",
      "Done with 5650000/8958024\n",
      "Done with 5675000/8958024\n",
      "Done with 5700000/8958024\n",
      "Done with 5725000/8958024\n",
      "Done with 5750000/8958024\n",
      "Done with 5775000/8958024\n",
      "Done with 5800000/8958024\n",
      "Done with 5825000/8958024\n",
      "Done with 5850000/8958024\n",
      "Done with 5875000/8958024\n",
      "Done with 5900000/8958024\n",
      "Done with 5925000/8958024\n",
      "Done with 5950000/8958024\n",
      "Done with 5975000/8958024\n",
      "Done with 6000000/8958024\n",
      "Done with 6025000/8958024\n",
      "Done with 6050000/8958024\n",
      "Done with 6075000/8958024\n",
      "Done with 6100000/8958024\n",
      "Done with 6125000/8958024\n",
      "Done with 6150000/8958024\n",
      "Done with 6175000/8958024\n",
      "Done with 6200000/8958024\n",
      "Done with 6225000/8958024\n",
      "Done with 6250000/8958024\n",
      "Done with 6275000/8958024\n",
      "Done with 6300000/8958024\n",
      "Done with 6325000/8958024\n",
      "Done with 6350000/8958024\n",
      "Done with 6375000/8958024\n",
      "Done with 6400000/8958024\n",
      "Done with 6425000/8958024\n",
      "Done with 6450000/8958024\n",
      "Done with 6475000/8958024\n",
      "Done with 6500000/8958024\n",
      "Done with 6525000/8958024\n",
      "Done with 6550000/8958024\n",
      "Done with 6575000/8958024\n",
      "Done with 6600000/8958024\n",
      "Done with 6625000/8958024\n",
      "Done with 6650000/8958024\n",
      "Done with 6675000/8958024\n",
      "Done with 6700000/8958024\n",
      "Done with 6725000/8958024\n",
      "Done with 6750000/8958024\n",
      "Done with 6775000/8958024\n",
      "Done with 6800000/8958024\n",
      "Done with 6825000/8958024\n",
      "Done with 6850000/8958024\n",
      "Done with 6875000/8958024\n",
      "Done with 6900000/8958024\n",
      "Done with 6925000/8958024\n",
      "Done with 6950000/8958024\n",
      "Done with 6975000/8958024\n",
      "Done with 7000000/8958024\n",
      "Done with 7025000/8958024\n",
      "Done with 7050000/8958024\n",
      "Done with 7075000/8958024\n",
      "Done with 7100000/8958024\n",
      "Done with 7125000/8958024\n",
      "Done with 7150000/8958024\n",
      "Done with 7175000/8958024\n",
      "Done with 7200000/8958024\n",
      "Done with 7225000/8958024\n",
      "Done with 7250000/8958024\n",
      "Done with 7275000/8958024\n",
      "Done with 7300000/8958024\n",
      "Done with 7325000/8958024\n",
      "Done with 7350000/8958024\n",
      "Done with 7375000/8958024\n",
      "Done with 7400000/8958024\n",
      "Done with 7425000/8958024\n",
      "Done with 7450000/8958024\n",
      "Done with 7475000/8958024\n",
      "Done with 7500000/8958024\n",
      "Done with 7525000/8958024\n",
      "Done with 7550000/8958024\n",
      "Done with 7575000/8958024\n",
      "Done with 7600000/8958024\n",
      "Done with 7625000/8958024\n",
      "Done with 7650000/8958024\n",
      "Done with 7675000/8958024\n",
      "Done with 7700000/8958024\n",
      "Done with 7725000/8958024\n",
      "Done with 7750000/8958024\n",
      "Done with 7775000/8958024\n",
      "Done with 7800000/8958024\n",
      "Done with 7825000/8958024\n",
      "Done with 7850000/8958024\n",
      "Done with 7875000/8958024\n",
      "Done with 7900000/8958024\n",
      "Done with 7925000/8958024\n",
      "Done with 7950000/8958024\n",
      "Done with 7975000/8958024\n",
      "Done with 8000000/8958024\n",
      "Done with 8025000/8958024\n",
      "Done with 8050000/8958024\n",
      "Done with 8075000/8958024\n",
      "Done with 8100000/8958024\n",
      "Done with 8125000/8958024\n",
      "Done with 8150000/8958024\n",
      "Done with 8175000/8958024\n",
      "Done with 8200000/8958024\n",
      "Done with 8225000/8958024\n",
      "Done with 8250000/8958024\n",
      "Done with 8275000/8958024\n",
      "Done with 8300000/8958024\n",
      "Done with 8325000/8958024\n",
      "Done with 8350000/8958024\n",
      "Done with 8375000/8958024\n",
      "Done with 8400000/8958024\n",
      "Done with 8425000/8958024\n",
      "Done with 8450000/8958024\n",
      "Done with 8475000/8958024\n",
      "Done with 8500000/8958024\n",
      "Done with 8525000/8958024\n",
      "Done with 8550000/8958024\n",
      "Done with 8575000/8958024\n",
      "Done with 8600000/8958024\n",
      "Done with 8625000/8958024\n",
      "Done with 8650000/8958024\n",
      "Done with 8675000/8958024\n",
      "Done with 8700000/8958024\n",
      "Done with 8725000/8958024\n",
      "Done with 8750000/8958024\n",
      "Done with 8775000/8958024\n",
      "Done with 8800000/8958024\n",
      "Done with 8825000/8958024\n",
      "Done with 8850000/8958024\n",
      "Done with 8875000/8958024\n",
      "Done with 8900000/8958024\n",
      "Done with 8925000/8958024\n",
      "Done with 8950000/8958024\n",
      "Done with 0/995336\n",
      "Done with 25000/995336\n",
      "Done with 50000/995336\n",
      "Done with 75000/995336\n",
      "Done with 100000/995336\n",
      "Done with 125000/995336\n",
      "Done with 150000/995336\n",
      "Done with 175000/995336\n",
      "Done with 200000/995336\n",
      "Done with 225000/995336\n",
      "Done with 250000/995336\n",
      "Done with 275000/995336\n",
      "Done with 300000/995336\n",
      "Done with 325000/995336\n",
      "Done with 350000/995336\n",
      "Done with 375000/995336\n",
      "Done with 400000/995336\n",
      "Done with 425000/995336\n",
      "Done with 450000/995336\n",
      "Done with 475000/995336\n",
      "Done with 500000/995336\n",
      "Done with 525000/995336\n",
      "Done with 550000/995336\n",
      "Done with 575000/995336\n",
      "Done with 600000/995336\n",
      "Done with 625000/995336\n",
      "Done with 650000/995336\n",
      "Done with 675000/995336\n",
      "Done with 700000/995336\n",
      "Done with 725000/995336\n",
      "Done with 750000/995336\n",
      "Done with 775000/995336\n",
      "Done with 800000/995336\n",
      "Done with 825000/995336\n",
      "Done with 850000/995336\n",
      "Done with 875000/995336\n",
      "Done with 900000/995336\n",
      "Done with 925000/995336\n",
      "Done with 950000/995336\n",
      "Done with 975000/995336\n"
     ]
    }
   ],
   "source": [
    "def transform_in_chunks(scaler, data, chunk_size):\n",
    "    count = 0\n",
    "    scaled_data = []\n",
    "    for chunk in chunkify(data, chunk_size):\n",
    "        print(f'Done with {count}/{len(data)}')\n",
    "        chunk_scaled = scaler.transform(chunk)\n",
    "        scaled_data.append(chunk_scaled)\n",
    "        count += chunk_size\n",
    "    return np.vstack(scaled_data)\n",
    "\n",
    "# Transform X_train and X_test in chunks\n",
    "X_train_scaled = transform_in_chunks(cpu_scaler, X_train, chunk_size)\n",
    "X_test_scaled = transform_in_chunks(cpu_scaler, X_test, chunk_size)"
   ]
  },
  {
   "cell_type": "code",
   "execution_count": 40,
   "metadata": {},
   "outputs": [],
   "source": [
    "del X_train, X_test\n",
    "\n",
    "gc.collect()\n",
    "torch.cuda.empty_cache()\n",
    "cp.get_default_memory_pool().free_all_blocks()"
   ]
  },
  {
   "cell_type": "markdown",
   "metadata": {},
   "source": [
    "Wont work, we dont have that much CUDA memory."
   ]
  },
  {
   "cell_type": "code",
   "execution_count": 41,
   "metadata": {},
   "outputs": [],
   "source": [
    "# Standardize the data\n",
    "#gpu_scaler = cumlStandardScaler()\n",
    "#X_train_scaled = gpu_scaler.fit_transform(X_train)\n",
    "#X_test_scaled = gpu_scaler.transform(X_test)"
   ]
  },
  {
   "cell_type": "code",
   "execution_count": 42,
   "metadata": {},
   "outputs": [
    {
     "name": "stdout",
     "output_type": "stream",
     "text": [
      "Done with 0/50\n",
      "Done with 1/50\n",
      "Done with 2/50\n",
      "Done with 3/50\n",
      "Done with 4/50\n",
      "Done with 5/50\n",
      "Done with 6/50\n",
      "Done with 7/50\n",
      "Done with 8/50\n",
      "Done with 9/50\n",
      "Done with 10/50\n",
      "Done with 11/50\n",
      "Done with 12/50\n",
      "Done with 13/50\n",
      "Done with 14/50\n",
      "Done with 15/50\n",
      "Done with 16/50\n",
      "Done with 17/50\n",
      "Done with 18/50\n",
      "Done with 19/50\n",
      "Done with 20/50\n",
      "Done with 21/50\n",
      "Done with 22/50\n",
      "Done with 23/50\n",
      "Done with 24/50\n",
      "Done with 25/50\n",
      "Done with 26/50\n",
      "Done with 27/50\n",
      "Done with 28/50\n",
      "Done with 29/50\n",
      "Done with 30/50\n",
      "Done with 31/50\n",
      "Done with 32/50\n",
      "Done with 33/50\n",
      "Done with 34/50\n",
      "Done with 35/50\n",
      "Done with 36/50\n",
      "Done with 37/50\n",
      "Done with 38/50\n",
      "Done with 39/50\n",
      "Done with 40/50\n",
      "Done with 41/50\n",
      "Done with 42/50\n",
      "Done with 43/50\n",
      "Done with 44/50\n",
      "Done with 45/50\n",
      "Done with 46/50\n",
      "Done with 47/50\n",
      "Done with 48/50\n",
      "Done with 49/50\n",
      "50\n",
      "286656\n"
     ]
    }
   ],
   "source": [
    "num_subsets = 50\n",
    "subsets = create_subsets(X_train_scaled, y_train, num_subsets, 1.6)\n",
    "\n",
    "print(len(subsets))\n",
    "print(len(subsets[0][0]))"
   ]
  },
  {
   "cell_type": "code",
   "execution_count": 43,
   "metadata": {},
   "outputs": [],
   "source": [
    "gc.collect()\n",
    "torch.cuda.empty_cache()\n",
    "cp.get_default_memory_pool().free_all_blocks()"
   ]
  },
  {
   "cell_type": "markdown",
   "metadata": {},
   "source": [
    "**Train SVR foreach subset**"
   ]
  },
  {
   "cell_type": "code",
   "execution_count": 44,
   "metadata": {},
   "outputs": [],
   "source": [
    "svr_models = []\n",
    "tqdm._instances.clear()\n",
    "numba.cuda.select_device(1)\n",
    "train = True\n",
    "if(os.path.exists('ensemble_svr_models.pkl')):\n",
    "    train = False"
   ]
  },
  {
   "cell_type": "code",
   "execution_count": 45,
   "metadata": {},
   "outputs": [
    {
     "name": "stdout",
     "output_type": "stream",
     "text": [
      "Training SVR model 1/50\n"
     ]
    },
    {
     "name": "stdout",
     "output_type": "stream",
     "text": [
      "  Accuracy: 0.9984\n",
      "  Precision: 1.0000\n",
      "  Recall: 0.8615\n",
      "  F1 Score: 0.9256\n",
      "Training SVR model 2/50\n",
      "  Accuracy: 0.9983\n",
      "  Precision: 0.9996\n",
      "  Recall: 0.8548\n",
      "  F1 Score: 0.9215\n",
      "Training SVR model 3/50\n"
     ]
    }
   ],
   "source": [
    "if(train):\n",
    "    for i, (X_subset, y_subset) in enumerate(subsets):\n",
    "        print(f'Training SVR model {i+1}/{num_subsets}')\n",
    "        svr = cumlSVR(kernel='rbf')\n",
    "        svr.fit(X_subset.astype(np.float32), y_subset.astype(np.float32))\n",
    "        log_progress(svr, X_subset, y_subset)\n",
    "        svr_models.append(svr)"
   ]
  },
  {
   "cell_type": "code",
   "execution_count": null,
   "metadata": {},
   "outputs": [
    {
     "name": "stdout",
     "output_type": "stream",
     "text": [
      "Ensemble of SVR models saved to ensemble_svr_models.pkl\n"
     ]
    }
   ],
   "source": [
    "# Save the ensemble\n",
    "if(train):\n",
    "    ensemble_filename = 'ensemble_svr_models.pkl'\n",
    "    with open(ensemble_filename, 'wb') as file:\n",
    "        pickle.dump(svr_models, file)\n",
    "\n",
    "    print(f'Ensemble of SVR models saved to {ensemble_filename}')"
   ]
  },
  {
   "cell_type": "code",
   "execution_count": null,
   "metadata": {},
   "outputs": [
    {
     "name": "stdout",
     "output_type": "stream",
     "text": [
      "Ensemble of SVR models loaded from file\n"
     ]
    }
   ],
   "source": [
    "# Load the ensemble of models from the file\n",
    "with open('ensemble_svr_models.pkl', 'rb') as file:\n",
    "    loaded_svr_models = pickle.load(file)\n",
    "\n",
    "print('Ensemble of SVR models loaded from file')"
   ]
  },
  {
   "cell_type": "markdown",
   "metadata": {},
   "source": [
    "**Prediction method for the ensemble:**"
   ]
  },
  {
   "cell_type": "code",
   "execution_count": null,
   "metadata": {},
   "outputs": [],
   "source": [
    "def ensemble_predict(svr_models, X, threshold=0.5, proof=1):\n",
    "    predictions = np.zeros((len(svr_models), len(X)))\n",
    "    \n",
    "    for i, svr in enumerate(svr_models):\n",
    "        predictions[i] = svr.predict(X)\n",
    "    \n",
    "    # Count votes for each sample\n",
    "    votes = np.sum(predictions > threshold, axis=0)\n",
    "    \n",
    "    # If more than half the models predict 1, return 1; otherwise, return 0\n",
    "    final_predictions = (votes >= proof).astype(int)\n",
    "    return final_predictions"
   ]
  },
  {
   "cell_type": "code",
   "execution_count": null,
   "metadata": {},
   "outputs": [
    {
     "ename": "MemoryError",
     "evalue": "std::bad_alloc: out_of_memory: CUDA error at: /home/staff_homes/kboenisc/miniconda3/envs/rapids-24.06/include/rmm/mr/device/cuda_memory_resource.hpp:60: cudaErrorMemoryAllocation out of memory",
     "output_type": "error",
     "traceback": [
      "\u001b[0;31m---------------------------------------------------------------------------\u001b[0m",
      "\u001b[0;31mMemoryError\u001b[0m                               Traceback (most recent call last)",
      "Cell \u001b[0;32mIn[50], line 2\u001b[0m\n\u001b[1;32m      1\u001b[0m \u001b[38;5;66;03m# Make predictions on the test set using the loaded ensemble of SVR models\u001b[39;00m\n\u001b[0;32m----> 2\u001b[0m y_pred_binary \u001b[38;5;241m=\u001b[39m \u001b[43mensemble_predict\u001b[49m\u001b[43m(\u001b[49m\u001b[43mloaded_svr_models\u001b[49m\u001b[43m,\u001b[49m\u001b[43m \u001b[49m\u001b[43mX_test_scaled\u001b[49m\u001b[43m)\u001b[49m\n",
      "Cell \u001b[0;32mIn[49], line 5\u001b[0m, in \u001b[0;36mensemble_predict\u001b[0;34m(svr_models, X, threshold, proof)\u001b[0m\n\u001b[1;32m      2\u001b[0m predictions \u001b[38;5;241m=\u001b[39m np\u001b[38;5;241m.\u001b[39mzeros((\u001b[38;5;28mlen\u001b[39m(svr_models), \u001b[38;5;28mlen\u001b[39m(X)))\n\u001b[1;32m      4\u001b[0m \u001b[38;5;28;01mfor\u001b[39;00m i, svr \u001b[38;5;129;01min\u001b[39;00m \u001b[38;5;28menumerate\u001b[39m(svr_models):\n\u001b[0;32m----> 5\u001b[0m     predictions[i] \u001b[38;5;241m=\u001b[39m \u001b[43msvr\u001b[49m\u001b[38;5;241;43m.\u001b[39;49m\u001b[43mpredict\u001b[49m\u001b[43m(\u001b[49m\u001b[43mX\u001b[49m\u001b[43m)\u001b[49m\n\u001b[1;32m      7\u001b[0m \u001b[38;5;66;03m# Count votes for each sample\u001b[39;00m\n\u001b[1;32m      8\u001b[0m votes \u001b[38;5;241m=\u001b[39m np\u001b[38;5;241m.\u001b[39msum(predictions \u001b[38;5;241m>\u001b[39m threshold, axis\u001b[38;5;241m=\u001b[39m\u001b[38;5;241m0\u001b[39m)\n",
      "File \u001b[0;32m~/miniconda3/envs/rapids-24.06/lib/python3.10/site-packages/cuml/internals/api_decorators.py:188\u001b[0m, in \u001b[0;36m_make_decorator_function.<locals>.decorator_function.<locals>.decorator_closure.<locals>.wrapper\u001b[0;34m(*args, **kwargs)\u001b[0m\n\u001b[1;32m    185\u001b[0m     set_api_output_dtype(output_dtype)\n\u001b[1;32m    187\u001b[0m \u001b[38;5;28;01mif\u001b[39;00m process_return:\n\u001b[0;32m--> 188\u001b[0m     ret \u001b[38;5;241m=\u001b[39m \u001b[43mfunc\u001b[49m\u001b[43m(\u001b[49m\u001b[38;5;241;43m*\u001b[39;49m\u001b[43margs\u001b[49m\u001b[43m,\u001b[49m\u001b[43m \u001b[49m\u001b[38;5;241;43m*\u001b[39;49m\u001b[38;5;241;43m*\u001b[39;49m\u001b[43mkwargs\u001b[49m\u001b[43m)\u001b[49m\n\u001b[1;32m    189\u001b[0m \u001b[38;5;28;01melse\u001b[39;00m:\n\u001b[1;32m    190\u001b[0m     \u001b[38;5;28;01mreturn\u001b[39;00m func(\u001b[38;5;241m*\u001b[39margs, \u001b[38;5;241m*\u001b[39m\u001b[38;5;241m*\u001b[39mkwargs)\n",
      "File \u001b[0;32msvr.pyx:349\u001b[0m, in \u001b[0;36mcuml.svm.svr.SVR.predict\u001b[0;34m()\u001b[0m\n",
      "File \u001b[0;32m~/miniconda3/envs/rapids-24.06/lib/python3.10/site-packages/cuml/internals/api_decorators.py:188\u001b[0m, in \u001b[0;36m_make_decorator_function.<locals>.decorator_function.<locals>.decorator_closure.<locals>.wrapper\u001b[0;34m(*args, **kwargs)\u001b[0m\n\u001b[1;32m    185\u001b[0m     set_api_output_dtype(output_dtype)\n\u001b[1;32m    187\u001b[0m \u001b[38;5;28;01mif\u001b[39;00m process_return:\n\u001b[0;32m--> 188\u001b[0m     ret \u001b[38;5;241m=\u001b[39m \u001b[43mfunc\u001b[49m\u001b[43m(\u001b[49m\u001b[38;5;241;43m*\u001b[39;49m\u001b[43margs\u001b[49m\u001b[43m,\u001b[49m\u001b[43m \u001b[49m\u001b[38;5;241;43m*\u001b[39;49m\u001b[38;5;241;43m*\u001b[39;49m\u001b[43mkwargs\u001b[49m\u001b[43m)\u001b[49m\n\u001b[1;32m    189\u001b[0m \u001b[38;5;28;01melse\u001b[39;00m:\n\u001b[1;32m    190\u001b[0m     \u001b[38;5;28;01mreturn\u001b[39;00m func(\u001b[38;5;241m*\u001b[39margs, \u001b[38;5;241m*\u001b[39m\u001b[38;5;241m*\u001b[39mkwargs)\n",
      "File \u001b[0;32msvm_base.pyx:612\u001b[0m, in \u001b[0;36mcuml.svm.svm_base.SVMBase.predict\u001b[0;34m()\u001b[0m\n",
      "File \u001b[0;32m~/miniconda3/envs/rapids-24.06/lib/python3.10/site-packages/nvtx/nvtx.py:116\u001b[0m, in \u001b[0;36mannotate.__call__.<locals>.inner\u001b[0;34m(*args, **kwargs)\u001b[0m\n\u001b[1;32m    113\u001b[0m \u001b[38;5;129m@wraps\u001b[39m(func)\n\u001b[1;32m    114\u001b[0m \u001b[38;5;28;01mdef\u001b[39;00m \u001b[38;5;21minner\u001b[39m(\u001b[38;5;241m*\u001b[39margs, \u001b[38;5;241m*\u001b[39m\u001b[38;5;241m*\u001b[39mkwargs):\n\u001b[1;32m    115\u001b[0m     libnvtx_push_range(\u001b[38;5;28mself\u001b[39m\u001b[38;5;241m.\u001b[39mattributes, \u001b[38;5;28mself\u001b[39m\u001b[38;5;241m.\u001b[39mdomain\u001b[38;5;241m.\u001b[39mhandle)\n\u001b[0;32m--> 116\u001b[0m     result \u001b[38;5;241m=\u001b[39m \u001b[43mfunc\u001b[49m\u001b[43m(\u001b[49m\u001b[38;5;241;43m*\u001b[39;49m\u001b[43margs\u001b[49m\u001b[43m,\u001b[49m\u001b[43m \u001b[49m\u001b[38;5;241;43m*\u001b[39;49m\u001b[38;5;241;43m*\u001b[39;49m\u001b[43mkwargs\u001b[49m\u001b[43m)\u001b[49m\n\u001b[1;32m    117\u001b[0m     libnvtx_pop_range(\u001b[38;5;28mself\u001b[39m\u001b[38;5;241m.\u001b[39mdomain\u001b[38;5;241m.\u001b[39mhandle)\n\u001b[1;32m    118\u001b[0m     \u001b[38;5;28;01mreturn\u001b[39;00m result\n",
      "File \u001b[0;32m~/miniconda3/envs/rapids-24.06/lib/python3.10/site-packages/cuml/internals/input_utils.py:412\u001b[0m, in \u001b[0;36minput_to_cuml_array\u001b[0;34m(X, order, deepcopy, check_dtype, convert_to_dtype, check_mem_type, convert_to_mem_type, safe_dtype_conversion, check_cols, check_rows, fail_on_order, force_contiguous)\u001b[0m\n\u001b[1;32m    324\u001b[0m \u001b[38;5;129m@nvtx_annotate\u001b[39m(\n\u001b[1;32m    325\u001b[0m     message\u001b[38;5;241m=\u001b[39m\u001b[38;5;124m\"\u001b[39m\u001b[38;5;124mcommon.input_utils.input_to_cuml_array\u001b[39m\u001b[38;5;124m\"\u001b[39m,\n\u001b[1;32m    326\u001b[0m     category\u001b[38;5;241m=\u001b[39m\u001b[38;5;124m\"\u001b[39m\u001b[38;5;124mutils\u001b[39m\u001b[38;5;124m\"\u001b[39m,\n\u001b[0;32m   (...)\u001b[0m\n\u001b[1;32m    341\u001b[0m     force_contiguous\u001b[38;5;241m=\u001b[39m\u001b[38;5;28;01mTrue\u001b[39;00m,\n\u001b[1;32m    342\u001b[0m ):\n\u001b[1;32m    343\u001b[0m \u001b[38;5;250m    \u001b[39m\u001b[38;5;124;03m\"\"\"\u001b[39;00m\n\u001b[1;32m    344\u001b[0m \u001b[38;5;124;03m    Convert input X to CumlArray.\u001b[39;00m\n\u001b[1;32m    345\u001b[0m \n\u001b[0;32m   (...)\u001b[0m\n\u001b[1;32m    410\u001b[0m \n\u001b[1;32m    411\u001b[0m \u001b[38;5;124;03m    \"\"\"\u001b[39;00m\n\u001b[0;32m--> 412\u001b[0m     arr \u001b[38;5;241m=\u001b[39m \u001b[43mCumlArray\u001b[49m\u001b[38;5;241;43m.\u001b[39;49m\u001b[43mfrom_input\u001b[49m\u001b[43m(\u001b[49m\n\u001b[1;32m    413\u001b[0m \u001b[43m        \u001b[49m\u001b[43mX\u001b[49m\u001b[43m,\u001b[49m\n\u001b[1;32m    414\u001b[0m \u001b[43m        \u001b[49m\u001b[43morder\u001b[49m\u001b[38;5;241;43m=\u001b[39;49m\u001b[43morder\u001b[49m\u001b[43m,\u001b[49m\n\u001b[1;32m    415\u001b[0m \u001b[43m        \u001b[49m\u001b[43mdeepcopy\u001b[49m\u001b[38;5;241;43m=\u001b[39;49m\u001b[43mdeepcopy\u001b[49m\u001b[43m,\u001b[49m\n\u001b[1;32m    416\u001b[0m \u001b[43m        \u001b[49m\u001b[43mcheck_dtype\u001b[49m\u001b[38;5;241;43m=\u001b[39;49m\u001b[43mcheck_dtype\u001b[49m\u001b[43m,\u001b[49m\n\u001b[1;32m    417\u001b[0m \u001b[43m        \u001b[49m\u001b[43mconvert_to_dtype\u001b[49m\u001b[38;5;241;43m=\u001b[39;49m\u001b[43mconvert_to_dtype\u001b[49m\u001b[43m,\u001b[49m\n\u001b[1;32m    418\u001b[0m \u001b[43m        \u001b[49m\u001b[43mcheck_mem_type\u001b[49m\u001b[38;5;241;43m=\u001b[39;49m\u001b[43mcheck_mem_type\u001b[49m\u001b[43m,\u001b[49m\n\u001b[1;32m    419\u001b[0m \u001b[43m        \u001b[49m\u001b[43mconvert_to_mem_type\u001b[49m\u001b[38;5;241;43m=\u001b[39;49m\u001b[43mconvert_to_mem_type\u001b[49m\u001b[43m,\u001b[49m\n\u001b[1;32m    420\u001b[0m \u001b[43m        \u001b[49m\u001b[43msafe_dtype_conversion\u001b[49m\u001b[38;5;241;43m=\u001b[39;49m\u001b[43msafe_dtype_conversion\u001b[49m\u001b[43m,\u001b[49m\n\u001b[1;32m    421\u001b[0m \u001b[43m        \u001b[49m\u001b[43mcheck_cols\u001b[49m\u001b[38;5;241;43m=\u001b[39;49m\u001b[43mcheck_cols\u001b[49m\u001b[43m,\u001b[49m\n\u001b[1;32m    422\u001b[0m \u001b[43m        \u001b[49m\u001b[43mcheck_rows\u001b[49m\u001b[38;5;241;43m=\u001b[39;49m\u001b[43mcheck_rows\u001b[49m\u001b[43m,\u001b[49m\n\u001b[1;32m    423\u001b[0m \u001b[43m        \u001b[49m\u001b[43mfail_on_order\u001b[49m\u001b[38;5;241;43m=\u001b[39;49m\u001b[43mfail_on_order\u001b[49m\u001b[43m,\u001b[49m\n\u001b[1;32m    424\u001b[0m \u001b[43m        \u001b[49m\u001b[43mforce_contiguous\u001b[49m\u001b[38;5;241;43m=\u001b[39;49m\u001b[43mforce_contiguous\u001b[49m\u001b[43m,\u001b[49m\n\u001b[1;32m    425\u001b[0m \u001b[43m    \u001b[49m\u001b[43m)\u001b[49m\n\u001b[1;32m    426\u001b[0m     \u001b[38;5;28;01mtry\u001b[39;00m:\n\u001b[1;32m    427\u001b[0m         shape \u001b[38;5;241m=\u001b[39m arr\u001b[38;5;241m.\u001b[39m__cuda_array_interface__[\u001b[38;5;124m\"\u001b[39m\u001b[38;5;124mshape\u001b[39m\u001b[38;5;124m\"\u001b[39m]\n",
      "File \u001b[0;32m~/miniconda3/envs/rapids-24.06/lib/python3.10/site-packages/cuml/internals/memory_utils.py:87\u001b[0m, in \u001b[0;36mwith_cupy_rmm.<locals>.cupy_rmm_wrapper\u001b[0;34m(*args, **kwargs)\u001b[0m\n\u001b[1;32m     85\u001b[0m \u001b[38;5;28;01mif\u001b[39;00m GPU_ENABLED:\n\u001b[1;32m     86\u001b[0m     \u001b[38;5;28;01mwith\u001b[39;00m cupy_using_allocator(rmm_cupy_allocator):\n\u001b[0;32m---> 87\u001b[0m         \u001b[38;5;28;01mreturn\u001b[39;00m \u001b[43mfunc\u001b[49m\u001b[43m(\u001b[49m\u001b[38;5;241;43m*\u001b[39;49m\u001b[43margs\u001b[49m\u001b[43m,\u001b[49m\u001b[43m \u001b[49m\u001b[38;5;241;43m*\u001b[39;49m\u001b[38;5;241;43m*\u001b[39;49m\u001b[43mkwargs\u001b[49m\u001b[43m)\u001b[49m\n\u001b[1;32m     88\u001b[0m \u001b[38;5;28;01mreturn\u001b[39;00m func(\u001b[38;5;241m*\u001b[39margs, \u001b[38;5;241m*\u001b[39m\u001b[38;5;241m*\u001b[39mkwargs)\n",
      "File \u001b[0;32m~/miniconda3/envs/rapids-24.06/lib/python3.10/site-packages/nvtx/nvtx.py:116\u001b[0m, in \u001b[0;36mannotate.__call__.<locals>.inner\u001b[0;34m(*args, **kwargs)\u001b[0m\n\u001b[1;32m    113\u001b[0m \u001b[38;5;129m@wraps\u001b[39m(func)\n\u001b[1;32m    114\u001b[0m \u001b[38;5;28;01mdef\u001b[39;00m \u001b[38;5;21minner\u001b[39m(\u001b[38;5;241m*\u001b[39margs, \u001b[38;5;241m*\u001b[39m\u001b[38;5;241m*\u001b[39mkwargs):\n\u001b[1;32m    115\u001b[0m     libnvtx_push_range(\u001b[38;5;28mself\u001b[39m\u001b[38;5;241m.\u001b[39mattributes, \u001b[38;5;28mself\u001b[39m\u001b[38;5;241m.\u001b[39mdomain\u001b[38;5;241m.\u001b[39mhandle)\n\u001b[0;32m--> 116\u001b[0m     result \u001b[38;5;241m=\u001b[39m \u001b[43mfunc\u001b[49m\u001b[43m(\u001b[49m\u001b[38;5;241;43m*\u001b[39;49m\u001b[43margs\u001b[49m\u001b[43m,\u001b[49m\u001b[43m \u001b[49m\u001b[38;5;241;43m*\u001b[39;49m\u001b[38;5;241;43m*\u001b[39;49m\u001b[43mkwargs\u001b[49m\u001b[43m)\u001b[49m\n\u001b[1;32m    117\u001b[0m     libnvtx_pop_range(\u001b[38;5;28mself\u001b[39m\u001b[38;5;241m.\u001b[39mdomain\u001b[38;5;241m.\u001b[39mhandle)\n\u001b[1;32m    118\u001b[0m     \u001b[38;5;28;01mreturn\u001b[39;00m result\n",
      "File \u001b[0;32m~/miniconda3/envs/rapids-24.06/lib/python3.10/site-packages/cuml/internals/array.py:1171\u001b[0m, in \u001b[0;36mCumlArray.from_input\u001b[0;34m(cls, X, order, deepcopy, check_dtype, convert_to_dtype, check_mem_type, convert_to_mem_type, safe_dtype_conversion, check_cols, check_rows, fail_on_order, force_contiguous)\u001b[0m\n\u001b[1;32m   1165\u001b[0m make_copy \u001b[38;5;241m=\u001b[39m force_contiguous \u001b[38;5;129;01mand\u001b[39;00m \u001b[38;5;129;01mnot\u001b[39;00m arr\u001b[38;5;241m.\u001b[39mis_contiguous\n\u001b[1;32m   1167\u001b[0m \u001b[38;5;28;01mif\u001b[39;00m (\n\u001b[1;32m   1168\u001b[0m     \u001b[38;5;129;01mnot\u001b[39;00m fail_on_order \u001b[38;5;129;01mand\u001b[39;00m order \u001b[38;5;241m!=\u001b[39m arr\u001b[38;5;241m.\u001b[39morder \u001b[38;5;129;01mand\u001b[39;00m order \u001b[38;5;241m!=\u001b[39m \u001b[38;5;124m\"\u001b[39m\u001b[38;5;124mK\u001b[39m\u001b[38;5;124m\"\u001b[39m\n\u001b[1;32m   1169\u001b[0m ) \u001b[38;5;129;01mor\u001b[39;00m make_copy:\n\u001b[1;32m   1170\u001b[0m     arr \u001b[38;5;241m=\u001b[39m \u001b[38;5;28mcls\u001b[39m(\n\u001b[0;32m-> 1171\u001b[0m         \u001b[43marr\u001b[49m\u001b[38;5;241;43m.\u001b[39;49m\u001b[43mmem_type\u001b[49m\u001b[38;5;241;43m.\u001b[39;49m\u001b[43mxpy\u001b[49m\u001b[38;5;241;43m.\u001b[39;49m\u001b[43marray\u001b[49m\u001b[43m(\u001b[49m\n\u001b[1;32m   1172\u001b[0m \u001b[43m            \u001b[49m\u001b[43marr\u001b[49m\u001b[38;5;241;43m.\u001b[39;49m\u001b[43mto_output\u001b[49m\u001b[43m(\u001b[49m\u001b[38;5;124;43m\"\u001b[39;49m\u001b[38;5;124;43marray\u001b[39;49m\u001b[38;5;124;43m\"\u001b[39;49m\u001b[43m)\u001b[49m\u001b[43m,\u001b[49m\u001b[43m \u001b[49m\u001b[43morder\u001b[49m\u001b[38;5;241;43m=\u001b[39;49m\u001b[43morder\u001b[49m\u001b[43m,\u001b[49m\u001b[43m \u001b[49m\u001b[43mcopy\u001b[49m\u001b[38;5;241;43m=\u001b[39;49m\u001b[43mmake_copy\u001b[49m\n\u001b[1;32m   1173\u001b[0m \u001b[43m        \u001b[49m\u001b[43m)\u001b[49m,\n\u001b[1;32m   1174\u001b[0m         index\u001b[38;5;241m=\u001b[39mindex,\n\u001b[1;32m   1175\u001b[0m     )\n\u001b[1;32m   1177\u001b[0m n_rows \u001b[38;5;241m=\u001b[39m arr\u001b[38;5;241m.\u001b[39mshape[\u001b[38;5;241m0\u001b[39m]\n\u001b[1;32m   1179\u001b[0m \u001b[38;5;28;01mif\u001b[39;00m \u001b[38;5;28mlen\u001b[39m(arr\u001b[38;5;241m.\u001b[39mshape) \u001b[38;5;241m>\u001b[39m \u001b[38;5;241m1\u001b[39m:\n",
      "File \u001b[0;32m~/miniconda3/envs/rapids-24.06/lib/python3.10/site-packages/cupy/_creation/from_data.py:53\u001b[0m, in \u001b[0;36marray\u001b[0;34m(obj, dtype, copy, order, subok, ndmin, blocking)\u001b[0m\n\u001b[1;32m      7\u001b[0m \u001b[38;5;28;01mdef\u001b[39;00m \u001b[38;5;21marray\u001b[39m(obj, dtype\u001b[38;5;241m=\u001b[39m\u001b[38;5;28;01mNone\u001b[39;00m, copy\u001b[38;5;241m=\u001b[39m\u001b[38;5;28;01mTrue\u001b[39;00m, order\u001b[38;5;241m=\u001b[39m\u001b[38;5;124m'\u001b[39m\u001b[38;5;124mK\u001b[39m\u001b[38;5;124m'\u001b[39m, subok\u001b[38;5;241m=\u001b[39m\u001b[38;5;28;01mFalse\u001b[39;00m, ndmin\u001b[38;5;241m=\u001b[39m\u001b[38;5;241m0\u001b[39m, \u001b[38;5;241m*\u001b[39m,\n\u001b[1;32m      8\u001b[0m           blocking\u001b[38;5;241m=\u001b[39m\u001b[38;5;28;01mFalse\u001b[39;00m):\n\u001b[1;32m      9\u001b[0m \u001b[38;5;250m    \u001b[39m\u001b[38;5;124;03m\"\"\"Creates an array on the current device.\u001b[39;00m\n\u001b[1;32m     10\u001b[0m \n\u001b[1;32m     11\u001b[0m \u001b[38;5;124;03m    This function currently does not support the ``subok`` option.\u001b[39;00m\n\u001b[0;32m   (...)\u001b[0m\n\u001b[1;32m     51\u001b[0m \n\u001b[1;32m     52\u001b[0m \u001b[38;5;124;03m    \"\"\"\u001b[39;00m\n\u001b[0;32m---> 53\u001b[0m     \u001b[38;5;28;01mreturn\u001b[39;00m \u001b[43m_core\u001b[49m\u001b[38;5;241;43m.\u001b[39;49m\u001b[43marray\u001b[49m\u001b[43m(\u001b[49m\u001b[43mobj\u001b[49m\u001b[43m,\u001b[49m\u001b[43m \u001b[49m\u001b[43mdtype\u001b[49m\u001b[43m,\u001b[49m\u001b[43m \u001b[49m\u001b[43mcopy\u001b[49m\u001b[43m,\u001b[49m\u001b[43m \u001b[49m\u001b[43morder\u001b[49m\u001b[43m,\u001b[49m\u001b[43m \u001b[49m\u001b[43msubok\u001b[49m\u001b[43m,\u001b[49m\u001b[43m \u001b[49m\u001b[43mndmin\u001b[49m\u001b[43m,\u001b[49m\u001b[43m \u001b[49m\u001b[43mblocking\u001b[49m\u001b[43m)\u001b[49m\n",
      "File \u001b[0;32mcupy/_core/core.pyx:2383\u001b[0m, in \u001b[0;36mcupy._core.core.array\u001b[0;34m()\u001b[0m\n",
      "File \u001b[0;32mcupy/_core/core.pyx:2393\u001b[0m, in \u001b[0;36mcupy._core.core.array\u001b[0;34m()\u001b[0m\n",
      "File \u001b[0;32mcupy/_core/core.pyx:2424\u001b[0m, in \u001b[0;36mcupy._core.core._array_from_cupy_ndarray\u001b[0;34m()\u001b[0m\n",
      "File \u001b[0;32mcupy/_core/core.pyx:516\u001b[0m, in \u001b[0;36mcupy._core.core._ndarray_base.astype\u001b[0;34m()\u001b[0m\n",
      "File \u001b[0;32mcupy/_core/core.pyx:574\u001b[0m, in \u001b[0;36mcupy._core.core._ndarray_base.astype\u001b[0;34m()\u001b[0m\n",
      "File \u001b[0;32mcupy/_core/core.pyx:135\u001b[0m, in \u001b[0;36mcupy._core.core.ndarray.__new__\u001b[0;34m()\u001b[0m\n",
      "File \u001b[0;32mcupy/_core/core.pyx:223\u001b[0m, in \u001b[0;36mcupy._core.core._ndarray_base._init\u001b[0;34m()\u001b[0m\n",
      "File \u001b[0;32mcupy/cuda/memory.pyx:738\u001b[0m, in \u001b[0;36mcupy.cuda.memory.alloc\u001b[0;34m()\u001b[0m\n",
      "File \u001b[0;32m~/miniconda3/envs/rapids-24.06/lib/python3.10/site-packages/rmm/allocators/cupy.py:37\u001b[0m, in \u001b[0;36mrmm_cupy_allocator\u001b[0;34m(nbytes)\u001b[0m\n\u001b[1;32m     34\u001b[0m     \u001b[38;5;28;01mraise\u001b[39;00m \u001b[38;5;167;01mModuleNotFoundError\u001b[39;00m(\u001b[38;5;124m\"\u001b[39m\u001b[38;5;124mNo module named \u001b[39m\u001b[38;5;124m'\u001b[39m\u001b[38;5;124mcupy\u001b[39m\u001b[38;5;124m'\u001b[39m\u001b[38;5;124m\"\u001b[39m)\n\u001b[1;32m     36\u001b[0m stream \u001b[38;5;241m=\u001b[39m Stream(obj\u001b[38;5;241m=\u001b[39mcupy\u001b[38;5;241m.\u001b[39mcuda\u001b[38;5;241m.\u001b[39mget_current_stream())\n\u001b[0;32m---> 37\u001b[0m buf \u001b[38;5;241m=\u001b[39m \u001b[43mlibrmm\u001b[49m\u001b[38;5;241;43m.\u001b[39;49m\u001b[43mdevice_buffer\u001b[49m\u001b[38;5;241;43m.\u001b[39;49m\u001b[43mDeviceBuffer\u001b[49m\u001b[43m(\u001b[49m\u001b[43msize\u001b[49m\u001b[38;5;241;43m=\u001b[39;49m\u001b[43mnbytes\u001b[49m\u001b[43m,\u001b[49m\u001b[43m \u001b[49m\u001b[43mstream\u001b[49m\u001b[38;5;241;43m=\u001b[39;49m\u001b[43mstream\u001b[49m\u001b[43m)\u001b[49m\n\u001b[1;32m     38\u001b[0m dev_id \u001b[38;5;241m=\u001b[39m \u001b[38;5;241m-\u001b[39m\u001b[38;5;241m1\u001b[39m \u001b[38;5;28;01mif\u001b[39;00m buf\u001b[38;5;241m.\u001b[39mptr \u001b[38;5;28;01melse\u001b[39;00m cupy\u001b[38;5;241m.\u001b[39mcuda\u001b[38;5;241m.\u001b[39mdevice\u001b[38;5;241m.\u001b[39mget_device_id()\n\u001b[1;32m     39\u001b[0m mem \u001b[38;5;241m=\u001b[39m cupy\u001b[38;5;241m.\u001b[39mcuda\u001b[38;5;241m.\u001b[39mUnownedMemory(\n\u001b[1;32m     40\u001b[0m     ptr\u001b[38;5;241m=\u001b[39mbuf\u001b[38;5;241m.\u001b[39mptr, size\u001b[38;5;241m=\u001b[39mbuf\u001b[38;5;241m.\u001b[39msize, owner\u001b[38;5;241m=\u001b[39mbuf, device_id\u001b[38;5;241m=\u001b[39mdev_id\n\u001b[1;32m     41\u001b[0m )\n",
      "File \u001b[0;32mdevice_buffer.pyx:96\u001b[0m, in \u001b[0;36mrmm._lib.device_buffer.DeviceBuffer.__cinit__\u001b[0;34m()\u001b[0m\n",
      "\u001b[0;31mMemoryError\u001b[0m: std::bad_alloc: out_of_memory: CUDA error at: /home/staff_homes/kboenisc/miniconda3/envs/rapids-24.06/include/rmm/mr/device/cuda_memory_resource.hpp:60: cudaErrorMemoryAllocation out of memory"
     ]
    }
   ],
   "source": [
    "# Make predictions on the test set using the loaded ensemble of SVR models\n",
    "y_pred_binary = ensemble_predict(loaded_svr_models, X_test_scaled)"
   ]
  },
  {
   "cell_type": "code",
   "execution_count": null,
   "metadata": {},
   "outputs": [
    {
     "name": "stdout",
     "output_type": "stream",
     "text": [
      "Test set accuracy: 0.9966\n",
      "Precision: 0.9987\n",
      "Recall: 0.8527\n",
      "F1-score: 0.9199\n",
      "Confusion Matrix:\n",
      "[[491902     13]\n",
      " [  1697   9824]]\n",
      "Classification Report:\n",
      "              precision    recall  f1-score   support\n",
      "\n",
      "           0       1.00      1.00      1.00    491915\n",
      "           1       1.00      0.85      0.92     11521\n",
      "\n",
      "    accuracy                           1.00    503436\n",
      "   macro avg       1.00      0.93      0.96    503436\n",
      "weighted avg       1.00      1.00      1.00    503436\n",
      "\n"
     ]
    }
   ],
   "source": [
    "accuracy = accuracy_score(y_test, y_pred_binary)\n",
    "precision = precision_score(y_test, y_pred_binary)\n",
    "recall = recall_score(y_test, y_pred_binary)\n",
    "f1 = f1_score(y_test, y_pred_binary)\n",
    "conf_matrix = confusion_matrix(y_test, y_pred_binary)\n",
    "class_report = classification_report(y_test, y_pred_binary)\n",
    "\n",
    "print(f'Test set accuracy: {accuracy:.4f}')\n",
    "print(f'Precision: {precision:.4f}')\n",
    "print(f'Recall: {recall:.4f}')\n",
    "print(f'F1-score: {f1:.4f}')\n",
    "print(f'Confusion Matrix:\\n{conf_matrix}')\n",
    "print(f'Classification Report:\\n{class_report}')"
   ]
  },
  {
   "cell_type": "code",
   "execution_count": null,
   "metadata": {},
   "outputs": [
    {
     "data": {
      "image/png": "[encoded data removed]",
      "text/plain": [
       "<Figure size 800x600 with 2 Axes>"
      ]
     },
     "metadata": {},
     "output_type": "display_data"
    }
   ],
   "source": [
    "# Visualize the confusion matrix\n",
    "plt.figure(figsize=(8, 6))\n",
    "sns.heatmap(conf_matrix, annot=True, fmt='d', cmap='Blues', xticklabels=['Not Relevant', 'Relevant'], yticklabels=['Not Relevant', 'Relevant'])\n",
    "plt.xlabel('Predicted')\n",
    "plt.ylabel('Actual')\n",
    "plt.title('Confusion Matrix')\n",
    "plt.show()"
   ]
  },
  {
   "cell_type": "code",
   "execution_count": null,
   "metadata": {},
   "outputs": [
    {
     "ename": "NameError",
     "evalue": "name 'y_pred' is not defined",
     "output_type": "error",
     "traceback": [
      "\u001b[0;31m---------------------------------------------------------------------------\u001b[0m",
      "\u001b[0;31mNameError\u001b[0m                                 Traceback (most recent call last)",
      "Cell \u001b[0;32mIn[58], line 3\u001b[0m\n\u001b[1;32m      1\u001b[0m \u001b[38;5;66;03m# Plotting SVR results (for regression)\u001b[39;00m\n\u001b[1;32m      2\u001b[0m plt\u001b[38;5;241m.\u001b[39mfigure(figsize\u001b[38;5;241m=\u001b[39m(\u001b[38;5;241m10\u001b[39m, \u001b[38;5;241m6\u001b[39m))\n\u001b[0;32m----> 3\u001b[0m plt\u001b[38;5;241m.\u001b[39mscatter(y_test, \u001b[43my_pred\u001b[49m, color\u001b[38;5;241m=\u001b[39m\u001b[38;5;124m'\u001b[39m\u001b[38;5;124mblue\u001b[39m\u001b[38;5;124m'\u001b[39m, alpha\u001b[38;5;241m=\u001b[39m\u001b[38;5;241m0.3\u001b[39m, label\u001b[38;5;241m=\u001b[39m\u001b[38;5;124m'\u001b[39m\u001b[38;5;124mSVR Predictions\u001b[39m\u001b[38;5;124m'\u001b[39m)\n\u001b[1;32m      4\u001b[0m plt\u001b[38;5;241m.\u001b[39mplot([y_test\u001b[38;5;241m.\u001b[39mmin(), y_test\u001b[38;5;241m.\u001b[39mmax()], [y_test\u001b[38;5;241m.\u001b[39mmin(), y_test\u001b[38;5;241m.\u001b[39mmax()], \u001b[38;5;124m'\u001b[39m\u001b[38;5;124mk--\u001b[39m\u001b[38;5;124m'\u001b[39m, lw\u001b[38;5;241m=\u001b[39m\u001b[38;5;241m2\u001b[39m, label\u001b[38;5;241m=\u001b[39m\u001b[38;5;124m'\u001b[39m\u001b[38;5;124mPerfect Prediction\u001b[39m\u001b[38;5;124m'\u001b[39m)\n\u001b[1;32m      5\u001b[0m plt\u001b[38;5;241m.\u001b[39mtitle(\u001b[38;5;124m'\u001b[39m\u001b[38;5;124mSVR Predictions vs Actual\u001b[39m\u001b[38;5;124m'\u001b[39m)\n",
      "\u001b[0;31mNameError\u001b[0m: name 'y_pred' is not defined"
     ]
    },
    {
     "data": {
      "text/plain": [
       "<Figure size 1000x600 with 0 Axes>"
      ]
     },
     "metadata": {},
     "output_type": "display_data"
    }
   ],
   "source": [
    "# Plotting SVR results (for regression)\n",
    "plt.figure(figsize=(10, 6))\n",
    "plt.scatter(y_test, y_pred, color='blue', alpha=0.3, label='SVR Predictions')\n",
    "plt.plot([y_test.min(), y_test.max()], [y_test.min(), y_test.max()], 'k--', lw=2, label='Perfect Prediction')\n",
    "plt.title('SVR Predictions vs Actual')\n",
    "plt.xlabel('Actual')\n",
    "plt.ylabel('Predicted')\n",
    "plt.legend()\n",
    "plt.grid(True)\n",
    "plt.show()"
   ]
  }
 ],
 "metadata": {
  "kernelspec": {
   "display_name": "Python 3 (ipykernel)",
   "language": "python",
   "name": "python3"
  },
  "language_info": {
   "codemirror_mode": {
    "name": "ipython",
    "version": 3
   },
   "file_extension": ".py",
   "mimetype": "text/x-python",
   "name": "python",
   "nbconvert_exporter": "python",
   "pygments_lexer": "ipython3",
   "version": "3.10.14"
  }
 },
 "nbformat": 4,
 "nbformat_minor": 2
}
